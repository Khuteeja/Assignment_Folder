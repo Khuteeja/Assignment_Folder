{
 "cells": [
  {
   "cell_type": "code",
   "execution_count": 5,
   "metadata": {},
   "outputs": [
    {
     "name": "stdout",
     "output_type": "stream",
     "text": [
      "My name is Nadeem and i am 24 years old. I earn 40000 per month. As Data Scientist i collect, analyze, and interpret complex data to extract insights and make data-driven decisions.\n",
      "\n",
      "My name is Sagar and i am 26 years old. I earn 46000 per month. As Data Translator i convert and translate data between different formats and systems.\n",
      "\n",
      "My name is Rahul and i am 23 years old. I earn 57000 per month. As Information Designer i create visual representations and user interfaces to effectively communicate complex information.\n",
      "\n",
      "My name is Ramesh and i am 29 years old. I earn 65000 per month. As Machine Learning Engineer i develop and implement machine learning models and algorithms to solve complex problems.\n",
      "\n",
      "My name is Sumit and i am 35 years old. I earn 80000 per month. As Information Designer i lead and manage a team of data scientists, oversee projects, and ensure successful outcomes.\n",
      "\n"
     ]
    }
   ],
   "source": [
    "class Engineer:\n",
    "    def __init__(self,name,age):\n",
    "        self.name=name\n",
    "        self.age=age\n",
    "       \n",
    "    def designation(self):\n",
    "        print(f'My name is {self.name} and i am {self.age} years old.')\n",
    "\n",
    "class Data_Translator(Engineer):\n",
    "    def __init__(self,name,age,salary,role,skills):\n",
    "        Engineer.__init__(self,name,age)\n",
    "        self.role=role\n",
    "        self.skills=skills\n",
    "        self.salary=salary\n",
    "\n",
    "    def designation(self):\n",
    "        print(f'My name is {self.name} and i am {self.age} years old. I earn {self.salary} per month. As {self.role}{self.skills}')\n",
    "\n",
    "class Data_Scientist(Engineer):\n",
    "    def __init__(self,name,age,salary,role,skills):\n",
    "        Engineer.__init__(self,name,age)\n",
    "        self.role=role\n",
    "        self.skills=skills\n",
    "        self.salary=salary\n",
    "\n",
    "    def designation(self):\n",
    "        print(f'My name is {self.name} and i am {self.age} years old. I earn {self.salary} per month. As {self.role}{self.skills}')\n",
    "\n",
    "class Information_Designer(Engineer):\n",
    "    def __init__(self,name,age,salary,role,skills):\n",
    "        Engineer.__init__(self,name,age)\n",
    "        self.role=role\n",
    "        self.skills=skills\n",
    "        self.salary=salary\n",
    "\n",
    "    def designation(self):\n",
    "        print(f'My name is {self.name} and i am {self.age} years old. I earn {self.salary} per month. As {self.role}{self.skills}')\n",
    "\n",
    "class Machine_Learning_Engineer(Engineer):\n",
    "    def __init__(self,name,age,salary,role,skills):\n",
    "        Engineer.__init__(self,name,age)\n",
    "        self.role=role\n",
    "        self.skills=skills\n",
    "        self.salary=salary\n",
    "\n",
    "    def designation(self):\n",
    "        print(f'My name is {self.name} and i am {self.age} years old. I earn {self.salary} per month. As {self.role}{self.skills}')\n",
    "\n",
    "class Data_Science_Manager(Engineer):\n",
    "    def __init__(self,name,age,salary,role,skills):\n",
    "        Engineer.__init__(self,name,age)\n",
    "        self.role=role\n",
    "        self.skills=skills\n",
    "        self.salary=salary\n",
    "\n",
    "    def designation(self):\n",
    "        print(f'My name is {self.name} and i am {self.age} years old. I earn {self.salary} per month. As {self.role}{self.skills}')\n",
    "\n",
    "\n",
    "var1=Data_Scientist('Nadeem',24,40000,'Data Scientist',' i collect, analyze, and interpret complex data to extract insights and make data-driven decisions.\\n')\n",
    "var2=Data_Translator('Sagar',26,46000,'Data Translator',' i convert and translate data between different formats and systems.\\n')\n",
    "var3=Information_Designer(\"Rahul\",23,57000,\"Information Designer\",\" i create visual representations and user interfaces to effectively communicate complex information.\\n\")\n",
    "var4=Machine_Learning_Engineer(\"Ramesh\",29,65000,\"Machine Learning Engineer\",\" i develop and implement machine learning models and algorithms to solve complex problems.\\n\")\n",
    "var5=Data_Science_Manager(\"Sumit\",35,80000,'Information Designer',\" i lead and manage a team of data scientists, oversee projects, and ensure successful outcomes.\\n\")\n",
    "var1.designation()\n",
    "var2.designation()\n",
    "var3.designation()\n",
    "var4.designation()\n",
    "var5.designation()"
   ]
  },
  {
   "cell_type": "code",
   "execution_count": null,
   "metadata": {},
   "outputs": [],
   "source": []
  }
 ],
 "metadata": {
  "kernelspec": {
   "display_name": "Python 3 (ipykernel)",
   "language": "python",
   "name": "python3"
  },
  "language_info": {
   "codemirror_mode": {
    "name": "ipython",
    "version": 3
   },
   "file_extension": ".py",
   "mimetype": "text/x-python",
   "name": "python",
   "nbconvert_exporter": "python",
   "pygments_lexer": "ipython3",
   "version": "3.11.5"
  }
 },
 "nbformat": 4,
 "nbformat_minor": 2
}
