{
 "cells": [
  {
   "cell_type": "code",
   "execution_count": 2,
   "metadata": {},
   "outputs": [
    {
     "name": "stdout",
     "output_type": "stream",
     "text": [
      "Enter numbers: 4 8 9\n",
      "4 is Even\n",
      "8 is Even\n",
      "9 is Odd\n"
     ]
    }
   ],
   "source": [
    "#1. Write function to get a number from users and check whether given number is odd or even.\n",
    "def check(num):\n",
    "    if num % 2 == 0:\n",
    "        print(num,\"is Even\")\n",
    "    else:\n",
    "        print(num, \"is Odd\")\n",
    "num = input(\"Enter numbers: \")\n",
    "numbers = list(map(int, num.split()))\n",
    "res = list(map(check, numbers))\n"
   ]
  },
  {
   "cell_type": "code",
   "execution_count": 1,
   "metadata": {},
   "outputs": [
    {
     "name": "stdout",
     "output_type": "stream",
     "text": [
      "Enter a number: 4\n"
     ]
    },
    {
     "data": {
      "text/plain": [
       "[True]"
      ]
     },
     "execution_count": 1,
     "metadata": {},
     "output_type": "execute_result"
    }
   ],
   "source": [
    "#2. Write function to check whether given number is a prime number or not.\n",
    "def is_prime(num):\n",
    "    if num < 4:\n",
    "        return False\n",
    "    for i in range(4, int(num**0.5) + 1):\n",
    "        if num % i == 0:\n",
    "            return False\n",
    "    return True\n",
    "\n",
    "num = input(\"Enter a number: \")\n",
    "nums = list(map(int, num.split()))\n",
    "result = list(map(is_prime, nums))\n",
    "result"
   ]
  },
  {
   "cell_type": "code",
   "execution_count": 3,
   "metadata": {},
   "outputs": [
    {
     "name": "stdout",
     "output_type": "stream",
     "text": [
      "Enter the numbers separated by spaces: 4 8 7\n",
      "Product = 224\n"
     ]
    }
   ],
   "source": [
    "#3. Calculate the product of all elements in a list.\n",
    "from functools import reduce\n",
    "numbers = input(\"Enter the numbers separated by spaces: \")\n",
    "numbers_list = numbers.split()\n",
    "numbers_list = [int(num) for num in numbers_list]\n",
    "product = reduce(lambda x, y: x * y, numbers_list)\n",
    "\n",
    "print(\"Product =\", product)"
   ]
  },
  {
   "cell_type": "code",
   "execution_count": 18,
   "metadata": {},
   "outputs": [
    {
     "name": "stdout",
     "output_type": "stream",
     "text": [
      "(2.0, 3.0, 4.0)\n"
     ]
    }
   ],
   "source": [
    "#4. Get the square root if the number in a tuple.\n",
    "import math\n",
    "my_tuple = (4, 9, 16)\n",
    "sqrt_tuple = tuple(map(lambda x: math.sqrt(x), my_tuple))\n",
    "print(sqrt_tuple)"
   ]
  },
  {
   "cell_type": "code",
   "execution_count": 23,
   "metadata": {},
   "outputs": [
    {
     "name": "stdout",
     "output_type": "stream",
     "text": [
      " Prime numbers from numbers 11 to 30 are [11, 13, 17, 19, 23, 29]\n"
     ]
    }
   ],
   "source": [
    "#5. Get the prime numbers from te numbers 11 to 30.\n",
    "num = range(11, 31)\n",
    "prime_numbers = list(filter(lambda x: all(x % i != 0 for i in range(2, int(x**0.5) + 1)), num))\n",
    "print(\" Prime numbers from numbers 11 to 30 are\" ,prime_numbers)\n"
   ]
  },
  {
   "cell_type": "code",
   "execution_count": 36,
   "metadata": {},
   "outputs": [
    {
     "name": "stdout",
     "output_type": "stream",
     "text": [
      "Enter the numbers for the first list, separated by spaces: 4 8 6 7\n",
      "Enter the numbers for the second list, separated by spaces: 7 5 7 1\n",
      "list1: [4, 8, 6, 7]\n",
      "list2: [7, 5, 7, 1]\n",
      "Sum of 2 list: [11, 13, 13, 8]\n",
      "Filtered values greater than 10: [11, 13, 13]\n",
      "The product of the filtered values greater than 10 is 1859\n"
     ]
    }
   ],
   "source": [
    "#create 2 lists of interger values, add both the list element-wise and filter the values which are greater than 10 and find the product of those values.\n",
    "list1_input = input(\"Enter the numbers for the first list, separated by spaces: \")\n",
    "list1 = list(map(int, list1_input.split()))\n",
    "\n",
    "list2_input = input(\"Enter the numbers for the second list, separated by spaces: \")\n",
    "list2 = list(map(int, list2_input.split()))\n",
    "\n",
    "print(\"list1:\",list1)\n",
    "print(\"list2:\",list2)\n",
    "\n",
    "added_list = list(map(lambda x, y: x + y, list1, list2))\n",
    "print(\"Sum of 2 list:\",added_list)\n",
    "\n",
    "filtered_list = list(filter(lambda x: x > 10, added_list))\n",
    "print(\"Filtered values greater than 10:\",filtered_list)\n",
    "\n",
    "product = reduce(lambda x, y: x * y, filtered_list)\n",
    "print(\"The product of the filtered values greater than 10 is\", product)"
   ]
  },
  {
   "cell_type": "code",
   "execution_count": null,
   "metadata": {},
   "outputs": [],
   "source": [
    "list1 = input(\"Enter numbers: \")\n",
    "numbers = list(map(int, list1.split()))     \n",
    "\n",
    "list2 = input(\"Enter numbers: \")\n",
    "numbers = list(map(int, list2.split())"
   ]
  }
 ],
 "metadata": {
  "kernelspec": {
   "display_name": "Python 3",
   "language": "python",
   "name": "python3"
  },
  "language_info": {
   "codemirror_mode": {
    "name": "ipython",
    "version": 3
   },
   "file_extension": ".py",
   "mimetype": "text/x-python",
   "name": "python",
   "nbconvert_exporter": "python",
   "pygments_lexer": "ipython3",
   "version": "3.7.0"
  }
 },
 "nbformat": 4,
 "nbformat_minor": 2
}
