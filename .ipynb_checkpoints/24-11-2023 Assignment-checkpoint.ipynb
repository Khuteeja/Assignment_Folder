{
 "cells": [
  {
   "cell_type": "code",
   "execution_count": 11,
   "metadata": {},
   "outputs": [
    {
     "name": "stdout",
     "output_type": "stream",
     "text": [
      "In the year 1900 average temperature was 53.9 °F\n",
      "In the year 1901 average temperature was 53.5 °F\n",
      "In the year 1902 average temperature was 52.1 °F\n",
      "In the year 1903 average temperature was 50.6 °F\n",
      "In the year 1904 average temperature was 51.8 °F\n"
     ]
    }
   ],
   "source": [
    "import csv\n",
    "c=0\n",
    "with open(\"C:/Users/Khuteeja/Desktop/Average Temperature 1900-2023.csv\",'r') as file_object:\n",
    "   # print(\"Successfully opened csv\")\n",
    "    data=csv.reader(file_object)\n",
    "    for line in data:\n",
    "        c=c+1\n",
    "        if c>6:\n",
    "            break\n",
    "        if c==1:\n",
    "            continue\n",
    "        print(\"In the year\",line[0],\"average temperature was\",line[1],\"°F\")   "
   ]
  },
  {
   "cell_type": "code",
   "execution_count": 24,
   "metadata": {},
   "outputs": [
    {
     "name": "stdout",
     "output_type": "stream",
     "text": [
      "On 2023-01-01 New Year's Day is holiday in India\n",
      "On 2023-01-14 Makar Sankranti is holiday in India\n",
      "On 2023-01-14 Lohri is holiday in India\n",
      "On 2023-01-15 Pongal is holiday in India\n",
      "On 2023-01-22 Lunar New Year is holiday in India\n"
     ]
    }
   ],
   "source": [
    "import csv\n",
    "c=0\n",
    "with open(\"C:/Users/Khuteeja/Desktop/India_IN.csv\",'r') as file_object:\n",
    "   # print(\"Successfully opened csv\")\n",
    "    data=csv.reader(file_object)\n",
    "    for line in data:\n",
    "        c=c+1\n",
    "        if c>6:\n",
    "            break\n",
    "        if c==1:\n",
    "            continue\n",
    "        print(\"On\",line[0],line[1],\"is holiday in India\")   "
   ]
  },
  {
   "cell_type": "code",
   "execution_count": 4,
   "metadata": {},
   "outputs": [
    {
     "name": "stdout",
     "output_type": "stream",
     "text": [
      "1\n",
      "Invoice Id: Invoice ID\n",
      "Date: Date\n",
      "Unit price: Unit price\n",
      "Quantity: Quantity\n",
      "Total price: Total\n",
      "\n",
      "2\n",
      "Invoice Id: 750-67-8428\n",
      "Date: 1/5/2019\n",
      "Unit price: 74.69\n",
      "Quantity: 7\n",
      "Total price: 548.9715\n",
      "\n",
      "3\n",
      "Invoice Id: 226-31-3081\n",
      "Date: 3/8/2019\n",
      "Unit price: 15.28\n",
      "Quantity: 5\n",
      "Total price: 80.22\n",
      "\n",
      "4\n",
      "Invoice Id: 631-41-3108\n",
      "Date: 3/3/2019\n",
      "Unit price: 46.33\n",
      "Quantity: 7\n",
      "Total price: 340.5255\n",
      "\n",
      "5\n",
      "Invoice Id: 123-19-1176\n",
      "Date: 1/27/2019\n",
      "Unit price: 58.22\n",
      "Quantity: 8\n",
      "Total price: 489.048\n",
      "\n"
     ]
    }
   ],
   "source": [
    "\n",
    "import csv\n",
    "c=0\n",
    "with open(\"C:/Users/Khuteeja/Desktop/supermarket_sales - Sheet1.csv\",'r') as file_object:\n",
    "   # print(\"Successfully opened csv\")\n",
    "    data=csv.reader(file_object)\n",
    "    for line in data:\n",
    "        c=c+1\n",
    "        if c>5:\n",
    "            break\n",
    "        if c==0:\n",
    "            continue\n",
    "        print(c)\n",
    "        print('Invoice Id:',line[0]) \n",
    "        print(\"Date:\",line[10])\n",
    "        print(\"Unit price:\",line[6])\n",
    "        print(\"Quantity:\",line[7])\n",
    "        print(\"Total price:\",line[9])\n",
    "        print()\n",
    "       "
   ]
  },
  {
   "cell_type": "code",
   "execution_count": 3,
   "metadata": {},
   "outputs": [
    {
     "name": "stdout",
     "output_type": "stream",
     "text": [
      "___________HIRING ALERTS!!!!_______________\n",
      "\n",
      "1\n",
      "Company Name: Company Name\n",
      "Job title: Job Title\n",
      "Salary: Salary\n",
      "Location: Location\n",
      "Employment type: Employment Status\n",
      "\n",
      "2\n",
      "Company Name: Sasken\n",
      "Job title: Android Developer\n",
      "Salary: 400000\n",
      "Location: Bangalore\n",
      "Employment type: Full Time\n",
      "\n",
      "3\n",
      "Company Name: Advanced Millennium Technologies\n",
      "Job title: Android Developer\n",
      "Salary: 400000\n",
      "Location: Bangalore\n",
      "Employment type: Full Time\n",
      "\n",
      "4\n",
      "Company Name: Unacademy\n",
      "Job title: Android Developer\n",
      "Salary: 1000000\n",
      "Location: Bangalore\n",
      "Employment type: Full Time\n",
      "\n",
      "5\n",
      "Company Name: SnapBizz Cloudtech\n",
      "Job title: Android Developer\n",
      "Salary: 300000\n",
      "Location: Bangalore\n",
      "Employment type: Full Time\n",
      "\n"
     ]
    }
   ],
   "source": [
    "\n",
    "import csv\n",
    "c=0\n",
    "with open(\"C:/Users/Khuteeja/Desktop/Salary_Dataset_with_Extra_Features.csv\",'r') as file_object:\n",
    "    data=csv.reader(file_object)\n",
    "    print(\"___________HIRING ALERTS!!!!_______________\\n\")\n",
    "    for line in data:\n",
    "        c=c+1\n",
    "        if c>5:\n",
    "            break\n",
    "        if c==0:\n",
    "            continue\n",
    "        print(c)\n",
    "        print(\"Company Name:\",line[1])\n",
    "        print(\"Job title:\",line[2])\n",
    "        print(\"Salary:\",line[3])\n",
    "        print(\"Location:\",line[5])\n",
    "        print(\"Employment type:\",line[6])\n",
    "        print()\n",
    "       "
   ]
  },
  {
   "cell_type": "markdown",
   "metadata": {},
   "source": []
  }
 ],
 "metadata": {
  "kernelspec": {
   "display_name": "Python 3",
   "language": "python",
   "name": "python3"
  },
  "language_info": {
   "codemirror_mode": {
    "name": "ipython",
    "version": 3
   },
   "file_extension": ".py",
   "mimetype": "text/x-python",
   "name": "python",
   "nbconvert_exporter": "python",
   "pygments_lexer": "ipython3",
   "version": "3.7.0"
  }
 },
 "nbformat": 4,
 "nbformat_minor": 2
}
