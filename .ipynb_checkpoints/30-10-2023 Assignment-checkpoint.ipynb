{
 "cells": [
  {
   "cell_type": "markdown",
   "metadata": {},
   "source": [
    "### String Creation and Concatenation:\n"
   ]
  },
  {
   "cell_type": "code",
   "execution_count": 1,
   "metadata": {},
   "outputs": [
    {
     "name": "stdout",
     "output_type": "stream",
     "text": [
      "Enter the first string: Hello\n",
      "Enter the second string: World\n",
      "Concatenated string: Hello World\n"
     ]
    }
   ],
   "source": [
    "#Design a program to concatenate two input strings.\n",
    "s1 = input(\"Enter the first string: \")\n",
    "s2 = input(\"Enter the second string: \")\n",
    "s3 = s1 +\" \" + s2\n",
    "print(\"Concatenated string:\", s3)"
   ]
  },
  {
   "cell_type": "code",
   "execution_count": 8,
   "metadata": {},
   "outputs": [
    {
     "name": "stdout",
     "output_type": "stream",
     "text": [
      "Enter the desired length of the random string: 5\n",
      "Random String: auoAV\n"
     ]
    }
   ],
   "source": [
    "#Create a program to generate a random string of a specific length.\n",
    "import random\n",
    "import string\n",
    "\n",
    "def generate_random_string(length):\n",
    "    char = string.ascii_letters + string.digits\n",
    "    random_string = ''.join(random.choice(char) for _ in range(length))\n",
    "    return random_string\n",
    "\n",
    "length = int(input(\"Enter the desired length of the random string: \"))\n",
    "\n",
    "\n",
    "random_string = generate_random_string(length)\n",
    "print(\"Random String:\",random_string)"
   ]
  },
  {
   "cell_type": "markdown",
   "metadata": {},
   "source": [
    "### String Manipulation:\n",
    "\n"
   ]
  },
  {
   "cell_type": "code",
   "execution_count": 7,
   "metadata": {},
   "outputs": [
    {
     "name": "stdout",
     "output_type": "stream",
     "text": [
      "Enter any string: Hello\n",
      "Reversed String is : olleH\n"
     ]
    }
   ],
   "source": [
    "#Write a program to reverse a given string.\n",
    "s1 = input(\"Enter any string: \")\n",
    "s2 = s1[::-1]\n",
    "print(\"Reversed String is :\", s2)"
   ]
  },
  {
   "cell_type": "code",
   "execution_count": 14,
   "metadata": {},
   "outputs": [
    {
     "name": "stdout",
     "output_type": "stream",
     "text": [
      "Enter any string: How are you?\n",
      "String without vowels: Hw r y?\n"
     ]
    }
   ],
   "source": [
    "#Design a program to remove all vowels from a given string.\n",
    "string = input(\"Enter any string: \")\n",
    "new_string = ''.join([char for char in string if char.lower() not in 'aeiou'])\n",
    "\n",
    "print(\"String without vowels:\", new_string)"
   ]
  },
  {
   "cell_type": "code",
   "execution_count": 16,
   "metadata": {},
   "outputs": [
    {
     "name": "stdout",
     "output_type": "stream",
     "text": [
      "Enter any string: artificial intelligence with python\n",
      "Artificial Intelligence With Python\n"
     ]
    }
   ],
   "source": [
    "#Create a program to convert the first letter of each word in a sentence to uppercase.\n",
    "s1 = input(\"Enter any string: \")\n",
    "s2 = s1.title()\n",
    "print(s2)\n"
   ]
  },
  {
   "cell_type": "markdown",
   "metadata": {},
   "source": [
    "### String Searching and Counting:\n"
   ]
  },
  {
   "cell_type": "code",
   "execution_count": 22,
   "metadata": {},
   "outputs": [
    {
     "name": "stdout",
     "output_type": "stream",
     "text": [
      "Enter any string: You're angry with me.\n"
     ]
    },
    {
     "data": {
      "text/plain": [
       "True"
      ]
     },
     "execution_count": 22,
     "metadata": {},
     "output_type": "execute_result"
    }
   ],
   "source": [
    "#Write a program to check if a specific word is present in a given sentence.\n",
    "str = input(\"Enter any string: \")\n",
    "\"with\" in str"
   ]
  },
  {
   "cell_type": "code",
   "execution_count": 19,
   "metadata": {},
   "outputs": [
    {
     "name": "stdout",
     "output_type": "stream",
     "text": [
      "Enter any string: artificial intelligence with python\n",
      "2\n"
     ]
    }
   ],
   "source": [
    "#Design a program to count the number of occurrences of a specific character in a string.\n",
    "s1 = input(\"Enter any string: \")\n",
    "print(s1.count(\"a\"))"
   ]
  },
  {
   "cell_type": "code",
   "execution_count": 6,
   "metadata": {},
   "outputs": [
    {
     "name": "stdout",
     "output_type": "stream",
     "text": [
      "10\n"
     ]
    }
   ],
   "source": [
    "#Create a program to find the index of the first occurrence of a specific substring in a given string.\n",
    "\n",
    "string = \"This is a sample string to search.\"\n",
    "search_substring = \"sample\"\n",
    "\n",
    "index = string.index(search_substring)\n",
    "print(index)\n"
   ]
  },
  {
   "cell_type": "markdown",
   "metadata": {},
   "source": [
    "### String Slicing and Formatting:\n"
   ]
  },
  {
   "cell_type": "code",
   "execution_count": 26,
   "metadata": {},
   "outputs": [
    {
     "name": "stdout",
     "output_type": "stream",
     "text": [
      "Enter any string: Machine learning\n",
      "The first 3 characters are: Mac\n",
      "The last 3 characters are: ing\n"
     ]
    }
   ],
   "source": [
    "#Write a program to extract the first three and last three characters from a given string.\n",
    "string = input(\"Enter any string: \")\n",
    "first_characters = string[:3]\n",
    "last_characters = string[-3:]\n",
    "print(\"The first 3 characters are:\",first_characters)\n",
    "print(\"The last 3 characters are:\",last_characters)"
   ]
  },
  {
   "cell_type": "code",
   "execution_count": 27,
   "metadata": {},
   "outputs": [
    {
     "name": "stdout",
     "output_type": "stream",
     "text": [
      "1.23\n"
     ]
    }
   ],
   "source": [
    "#Design a program to format a decimal number to display exactly two decimal places.\n",
    "value = 1.2345\n",
    "rounded = round(value, 2)\n",
    "print(rounded)"
   ]
  },
  {
   "cell_type": "code",
   "execution_count": 35,
   "metadata": {},
   "outputs": [
    {
     "name": "stdout",
     "output_type": "stream",
     "text": [
      "Enter the name:Khuteeja\n",
      "Enter the age:22\n",
      "My name is Khuteeja  & i am 22 years old.\n"
     ]
    }
   ],
   "source": [
    "#Create a program that takes a user's name and age as input and prints a message using string formatting.\n",
    "name=input(\"Enter the name:\")\n",
    "age=input(\"Enter the age:\")\n",
    "print(\"My name is\",name,\" & i am\",age,\"years old.\")"
   ]
  },
  {
   "cell_type": "markdown",
   "metadata": {},
   "source": [
    "### String Validation:"
   ]
  },
  {
   "cell_type": "code",
   "execution_count": 53,
   "metadata": {},
   "outputs": [
    {
     "name": "stdout",
     "output_type": "stream",
     "text": [
      "Enter any string: madam\n",
      "given string is a palindrome\n"
     ]
    }
   ],
   "source": [
    "#Write a program to check if a given string is a palindrome.\n",
    "s1 = input(\"Enter any string: \")\n",
    "s2 = s1[::-1]\n",
    "if s1==s2:\n",
    "  print(\"given string is a palindrome\")\n",
    "else:\n",
    "  print(\"given string is not a palindrome\")\n"
   ]
  },
  {
   "cell_type": "code",
   "execution_count": null,
   "metadata": {},
   "outputs": [],
   "source": [
    "#Design a program to validate if a given string is a valid email address.\n"
   ]
  },
  {
   "cell_type": "code",
   "execution_count": null,
   "metadata": {},
   "outputs": [],
   "source": [
    "#Create a program to validate if a given string is a valid phone number.\n",
    "\n"
   ]
  },
  {
   "cell_type": "markdown",
   "metadata": {},
   "source": [
    "### String Functions"
   ]
  },
  {
   "cell_type": "code",
   "execution_count": 1,
   "metadata": {},
   "outputs": [
    {
     "name": "stdout",
     "output_type": "stream",
     "text": [
      "Enter a sentence: My name is khuteeja\n",
      "Words in the sentence: ['My', 'name', 'is', 'khuteeja']\n"
     ]
    }
   ],
   "source": [
    "#Write a program to split a sentence into words using the split() function.\n",
    "sentence = input(\"Enter a sentence: \")\n",
    "\n",
    "words = sentence.split()\n",
    "\n",
    "# Print the list of words\n",
    "print(\"Words in the sentence:\",words)"
   ]
  },
  {
   "cell_type": "code",
   "execution_count": 3,
   "metadata": {},
   "outputs": [
    {
     "name": "stdout",
     "output_type": "stream",
     "text": [
      "Concatenated sentence: This is a list of words\n"
     ]
    }
   ],
   "source": [
    "#Design a program to concatenate a list of strings into a sentence using the join() function.\n",
    " #List of strings\n",
    "word_list = [\"This\", \"is\", \"a\", \"list\", \"of\", \"words\"]\n",
    "\n",
    "# Concatenate the list of strings into a sentence\n",
    "sentence = \" \".join(word_list)\n",
    "\n",
    "# Print the concatenated sentence\n",
    "print(\"Concatenated sentence:\",sentence)"
   ]
  },
  {
   "cell_type": "code",
   "execution_count": 2,
   "metadata": {},
   "outputs": [
    {
     "name": "stdout",
     "output_type": "stream",
     "text": [
      "Enter a sentence: The boy laughed cheerfully and jumped out.\n",
      "Original Sentence: The boy laughed cheerfully and jumped out.\n",
      "Modified Sentence: The boy laughed cheerfully & jumped out.\n"
     ]
    }
   ],
   "source": [
    "#Create a program to replace a specific word in a sentence with another word using the replace() function.\n",
    "sentence = input(\"Enter a sentence: \")\n",
    "modified_sentence =sentence.replace(\"and\",\"&\")\n",
    "print(\"Original Sentence:\", sentence)\n",
    "print(\"Modified Sentence:\", modified_sentence)"
   ]
  },
  {
   "cell_type": "code",
   "execution_count": 10,
   "metadata": {},
   "outputs": [
    {
     "name": "stdout",
     "output_type": "stream",
     "text": [
      "Enter a number: 5\n",
      "5 is a prime number\n"
     ]
    }
   ],
   "source": [
    "#Python program to check prime number\n",
    "num =int(input(\"Enter a number: \"))\n",
    "if num > 1:\n",
    "    for i in range(2, int(num/2)+1):\n",
    "        if (num % i) == 0:\n",
    "            print(num, \"is not a prime number\")\n",
    "            break\n",
    "    else:\n",
    "                print(num, \"is a prime number\")\n",
    "else:\n",
    "                    print(num, \"is not a prime number\")"
   ]
  },
  {
   "cell_type": "code",
   "execution_count": 12,
   "metadata": {},
   "outputs": [
    {
     "name": "stdout",
     "output_type": "stream",
     "text": [
      "2,3,5,7,11,13,17,19,23,29,31,37,41,43,47,53,59,61,67,71,73,79,83,89,97,"
     ]
    }
   ],
   "source": [
    "#Python program to print all prime numbers between 1 to 100\n",
    "for i in range(2,101): \n",
    "    for j in range(2,101):\n",
    "        if i%j == 0:\n",
    "            break\n",
    "    if i == j:\n",
    "        print(i,end=\",\")"
   ]
  },
  {
   "cell_type": "code",
   "execution_count": 13,
   "metadata": {},
   "outputs": [
    {
     "name": "stdout",
     "output_type": "stream",
     "text": [
      "Enter a number: 5\n",
      "The factorial of 5 is 120\n"
     ]
    }
   ],
   "source": [
    "#Python program to find factorial of a number\n",
    "num = int(input(\"Enter a number: \"))\n",
    "fact = 1\n",
    "if num < 0:\n",
    "   print(\"Sorry, factorial does not exist for negative numbers\")\n",
    "elif num == 0:\n",
    "   print(\"The factorial of 0 is 1\")\n",
    "else:\n",
    "   for i in range(1,num + 1):\n",
    "       fact = fact*i\n",
    "   print(\"The factorial of\",num,\"is\",fact)"
   ]
  },
  {
   "cell_type": "code",
   "execution_count": null,
   "metadata": {},
   "outputs": [],
   "source": []
  }
 ],
 "metadata": {
  "kernelspec": {
   "display_name": "Python 3",
   "language": "python",
   "name": "python3"
  },
  "language_info": {
   "codemirror_mode": {
    "name": "ipython",
    "version": 3
   },
   "file_extension": ".py",
   "mimetype": "text/x-python",
   "name": "python",
   "nbconvert_exporter": "python",
   "pygments_lexer": "ipython3",
   "version": "3.7.0"
  }
 },
 "nbformat": 4,
 "nbformat_minor": 2
}
