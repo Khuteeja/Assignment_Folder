{
 "cells": [
  {
   "cell_type": "code",
   "execution_count": 2,
   "metadata": {},
   "outputs": [
    {
     "name": "stdout",
     "output_type": "stream",
     "text": [
      "New file written again\n"
     ]
    }
   ],
   "source": [
    "file1=open(r\"C:/New folder/file1.txt\" ,\"w\")\n",
    "file1.write(\"New file written again\")\n",
    "file1.close()\n",
    "\n",
    "file1=open(r\"C:/New folder/file1.txt\" ,\"r\")\n",
    "str1=file1.read()\n",
    "print(str1)\n",
    "file1.close()"
   ]
  },
  {
   "cell_type": "code",
   "execution_count": 3,
   "metadata": {},
   "outputs": [],
   "source": [
    "file2=open(r\"D:/program.txt\",\"r\")"
   ]
  },
  {
   "cell_type": "code",
   "execution_count": 3,
   "metadata": {},
   "outputs": [],
   "source": [
    "file3=open(\"Myfile3.txt\",'w')\n",
    "file3.write(\"Hello Python \")\n",
    "file3.close()\n"
   ]
  },
  {
   "cell_type": "code",
   "execution_count": 7,
   "metadata": {},
   "outputs": [
    {
     "name": "stdout",
     "output_type": "stream",
     "text": [
      "Hello Python \n",
      "C programming\n",
      "\n"
     ]
    }
   ],
   "source": [
    "#reads whole file\n",
    "file3=open(\"Myfile3.txt\",'r')\n",
    "\n",
    "string=file3.read()\n",
    "print(string)\n",
    "file3.close()\n",
    "\n"
   ]
  },
  {
   "cell_type": "code",
   "execution_count": 5,
   "metadata": {},
   "outputs": [
    {
     "name": "stdout",
     "output_type": "stream",
     "text": [
      "Hello \n"
     ]
    }
   ],
   "source": [
    "#reads n provided bytes\n",
    "file3=open(\"Myfile3.txt\",'r')\n",
    "string=file3.read(6)\n",
    "print(string)\n",
    "file3.close()\n"
   ]
  },
  {
   "cell_type": "code",
   "execution_count": 8,
   "metadata": {},
   "outputs": [
    {
     "name": "stdout",
     "output_type": "stream",
     "text": [
      "Hello Python \n",
      "\n"
     ]
    }
   ],
   "source": [
    "#reads only one line\n",
    "file3=open(\"Myfile3.txt\",'r')\n",
    "string=file3.readline()\n",
    "print(string)\n",
    "file3.close()\n"
   ]
  },
  {
   "cell_type": "code",
   "execution_count": 10,
   "metadata": {},
   "outputs": [
    {
     "name": "stdout",
     "output_type": "stream",
     "text": [
      "['Hello Python \\n', 'C programming']\n"
     ]
    }
   ],
   "source": [
    "#reads all lines and return them in a list\n",
    "\n",
    "file3=open(\"Myfile3.txt\",'r')\n",
    "string=file3.readlines()\n",
    "print(string)\n",
    "file3.close()\n"
   ]
  },
  {
   "cell_type": "code",
   "execution_count": 11,
   "metadata": {},
   "outputs": [
    {
     "name": "stdout",
     "output_type": "stream",
     "text": [
      "Hello Python \n",
      "\n"
     ]
    }
   ],
   "source": [
    "file3=open(\"Myfile3.txt\",'r')\n",
    "string=file3.readlines()\n",
    "print(string[0])\n",
    "file3.close()"
   ]
  },
  {
   "cell_type": "code",
   "execution_count": 1,
   "metadata": {},
   "outputs": [
    {
     "name": "stdout",
     "output_type": "stream",
     "text": [
      "Hello Python \n",
      "\n",
      "C programming\n"
     ]
    }
   ],
   "source": [
    "file3=open(\"Myfile3.txt\",'r')\n",
    "string=file3.readlines()\n",
    "for line in string:\n",
    "    print(line)\n",
    "file3.close()"
   ]
  },
  {
   "cell_type": "code",
   "execution_count": 13,
   "metadata": {},
   "outputs": [
    {
     "name": "stdout",
     "output_type": "stream",
     "text": [
      "enter a string:CSS\n",
      "Keyword found\n"
     ]
    }
   ],
   "source": [
    "file3=open(\"Myfile4.txt\",'w+')\n",
    "file3.write(\"Python\\nCprogramming\\nHTML\\nJava\\nCSS \")\n",
    "string=file3.readlines()\n",
    "string\n",
    "\n",
    "keyword=input(\"enter a string:\")\n",
    "\n",
    "for line in string:\n",
    "    flag=0\n",
    "    if keyword in line:\n",
    "        print(\"Keyword found\")\n",
    "        break\n",
    "    else:\n",
    "        flag=1\n",
    "if flag==1:\n",
    "    print(\"Keyword not found\")\n",
    "file3.close()"
   ]
  },
  {
   "cell_type": "code",
   "execution_count": 11,
   "metadata": {},
   "outputs": [
    {
     "name": "stdout",
     "output_type": "stream",
     "text": [
      "Python\n",
      "Cprogramming\n",
      "HTML\n",
      "Java\n",
      "CSS \n",
      "______After seek 2______\n",
      "thon\n",
      "Cprogramming\n",
      "HTML\n",
      "Java\n",
      "CSS \n"
     ]
    }
   ],
   "source": [
    "file3=open(\"Myfile4.txt\",'r')\n",
    "print(file3.read())\n",
    "file3.seek(2)\n",
    "print(\"______After seek 2______\")\n",
    "print(file3.read())\n",
    "file3.close()\n"
   ]
  },
  {
   "cell_type": "code",
   "execution_count": 16,
   "metadata": {},
   "outputs": [
    {
     "name": "stdout",
     "output_type": "stream",
     "text": [
      "Value:  1,Portal:  5.33\n"
     ]
    }
   ],
   "source": [
    "print(\"Value: %2d,Portal: %5.2f\" %(1, 05.333))"
   ]
  },
  {
   "cell_type": "code",
   "execution_count": 17,
   "metadata": {},
   "outputs": [
    {
     "name": "stdout",
     "output_type": "stream",
     "text": [
      "     11\n"
     ]
    }
   ],
   "source": [
    "print(\"%7.2o\"%(9))"
   ]
  },
  {
   "cell_type": "code",
   "execution_count": 19,
   "metadata": {},
   "outputs": [
    {
     "name": "stdout",
     "output_type": "stream",
     "text": [
      "  1E+01\n",
      "  1E+02\n",
      "  2E+01\n",
      "  2E+03\n"
     ]
    }
   ],
   "source": [
    "print(\"%7.0E\"%(10))\n",
    "print(\"%7.0E\"%(100))\n",
    "print(\"%7.0E\"%(20))\n",
    "print(\"%7.0E\"%(2000))"
   ]
  },
  {
   "cell_type": "code",
   "execution_count": null,
   "metadata": {},
   "outputs": [],
   "source": []
  }
 ],
 "metadata": {
  "kernelspec": {
   "display_name": "Python 3",
   "language": "python",
   "name": "python3"
  }
 },
 "nbformat": 4,
 "nbformat_minor": 2
}
