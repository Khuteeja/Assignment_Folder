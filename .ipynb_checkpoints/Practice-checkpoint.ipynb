{
 "cells": [
  {
   "cell_type": "code",
   "execution_count": null,
   "metadata": {},
   "outputs": [],
   "source": [
    "from datetime import datetime as dt\n"
   ]
  },
  {
   "cell_type": "code",
   "execution_count": null,
   "metadata": {},
   "outputs": [],
   "source": [
    "date1=dt.now()"
   ]
  },
  {
   "cell_type": "code",
   "execution_count": null,
   "metadata": {},
   "outputs": [],
   "source": [
    "date1"
   ]
  },
  {
   "cell_type": "code",
   "execution_count": null,
   "metadata": {},
   "outputs": [],
   "source": [
    "date1.day\n"
   ]
  },
  {
   "cell_type": "code",
   "execution_count": null,
   "metadata": {},
   "outputs": [],
   "source": [
    "date1.hour"
   ]
  },
  {
   "cell_type": "code",
   "execution_count": null,
   "metadata": {},
   "outputs": [],
   "source": [
    "from datetime import datetime\n",
    "\n",
    "birthdate = datetime(2001, 2, 13)  \n",
    "\n",
    "\n",
    "current_date = datetime.now()\n",
    "age = current_date.year - birthdate.year - ((current_date.month, current_date.day) < (birthdate.month, birthdate.day))\n",
    "\n",
    "print(f\"Age in years: {age} years\")"
   ]
  },
  {
   "cell_type": "code",
   "execution_count": null,
   "metadata": {},
   "outputs": [],
   "source": [
    "from datetime import datetime, timedelta\n",
    "\n",
    "# Get the current date\n",
    "current_date = datetime.now()\n",
    "\n",
    "future_date = current_date + timedelta(days=5000)\n",
    "\n",
    "\n",
    "#age_years = age_days // 365\n",
    "\n",
    "print(future_date)\n",
    "#print(f\"Future date: {future_date.strftime('%Y-%m-%d')}\")"
   ]
  },
  {
   "cell_type": "code",
   "execution_count": null,
   "metadata": {},
   "outputs": [],
   "source": [
    "l1=[]"
   ]
  },
  {
   "cell_type": "code",
   "execution_count": null,
   "metadata": {},
   "outputs": [],
   "source": [
    "l1"
   ]
  },
  {
   "cell_type": "code",
   "execution_count": null,
   "metadata": {},
   "outputs": [],
   "source": [
    "type(l1)"
   ]
  },
  {
   "cell_type": "code",
   "execution_count": null,
   "metadata": {},
   "outputs": [],
   "source": [
    "l2=[4,'hi']"
   ]
  },
  {
   "cell_type": "code",
   "execution_count": null,
   "metadata": {},
   "outputs": [],
   "source": [
    "len(l2)"
   ]
  },
  {
   "cell_type": "code",
   "execution_count": null,
   "metadata": {},
   "outputs": [],
   "source": [
    "l=[1,2,3,4,5,6,7,8]\n",
    "l"
   ]
  },
  {
   "cell_type": "code",
   "execution_count": null,
   "metadata": {},
   "outputs": [],
   "source": [
    "len(l)"
   ]
  },
  {
   "cell_type": "code",
   "execution_count": null,
   "metadata": {},
   "outputs": [],
   "source": [
    "l[0:7:3]"
   ]
  },
  {
   "cell_type": "code",
   "execution_count": null,
   "metadata": {},
   "outputs": [],
   "source": [
    "l"
   ]
  },
  {
   "cell_type": "code",
   "execution_count": null,
   "metadata": {},
   "outputs": [],
   "source": [
    "l[-1:-3:-2]"
   ]
  },
  {
   "cell_type": "code",
   "execution_count": null,
   "metadata": {},
   "outputs": [],
   "source": [
    "l[-1:-5:-2]"
   ]
  },
  {
   "cell_type": "code",
   "execution_count": null,
   "metadata": {},
   "outputs": [],
   "source": [
    "l.append(9)"
   ]
  },
  {
   "cell_type": "code",
   "execution_count": null,
   "metadata": {},
   "outputs": [],
   "source": [
    "l"
   ]
  },
  {
   "cell_type": "code",
   "execution_count": null,
   "metadata": {},
   "outputs": [],
   "source": [
    "l.pop()"
   ]
  },
  {
   "cell_type": "code",
   "execution_count": null,
   "metadata": {},
   "outputs": [],
   "source": [
    "list1=[1,2,3,4]\n",
    "list2=[5,6,7,8]"
   ]
  },
  {
   "cell_type": "code",
   "execution_count": null,
   "metadata": {},
   "outputs": [],
   "source": [
    "\n",
    "list1.extend(list2)\n",
    "list1"
   ]
  },
  {
   "cell_type": "code",
   "execution_count": null,
   "metadata": {},
   "outputs": [],
   "source": [
    "'one' in list1"
   ]
  },
  {
   "cell_type": "code",
   "execution_count": null,
   "metadata": {},
   "outputs": [],
   "source": [
    "1 in list1"
   ]
  },
  {
   "cell_type": "code",
   "execution_count": null,
   "metadata": {},
   "outputs": [],
   "source": [
    "list1.reverse()"
   ]
  },
  {
   "cell_type": "code",
   "execution_count": null,
   "metadata": {},
   "outputs": [],
   "source": [
    "list1"
   ]
  },
  {
   "cell_type": "code",
   "execution_count": null,
   "metadata": {},
   "outputs": [],
   "source": [
    "list1[-7:0:-1]"
   ]
  },
  {
   "cell_type": "code",
   "execution_count": null,
   "metadata": {},
   "outputs": [],
   "source": [
    "list1[-1:-8:-1]"
   ]
  },
  {
   "cell_type": "code",
   "execution_count": null,
   "metadata": {},
   "outputs": [],
   "source": [
    "list1[::-1]"
   ]
  },
  {
   "cell_type": "code",
   "execution_count": null,
   "metadata": {},
   "outputs": [],
   "source": [
    "list1.reverse()"
   ]
  },
  {
   "cell_type": "code",
   "execution_count": null,
   "metadata": {},
   "outputs": [],
   "source": [
    "list1"
   ]
  },
  {
   "cell_type": "code",
   "execution_count": null,
   "metadata": {},
   "outputs": [],
   "source": [
    "l=['a',1]\n",
    "l.sort()"
   ]
  },
  {
   "cell_type": "code",
   "execution_count": null,
   "metadata": {},
   "outputs": [],
   "source": [
    "l"
   ]
  },
  {
   "cell_type": "code",
   "execution_count": null,
   "metadata": {},
   "outputs": [],
   "source": [
    "l1=[1,4,2,4,7,3]\n",
    "l1.sort()\n",
    "#l1.sort(reverse=True)\n",
    "l1.reverse()\n",
    "l1"
   ]
  },
  {
   "cell_type": "code",
   "execution_count": null,
   "metadata": {},
   "outputs": [],
   "source": [
    "\n",
    "tup1=(0,20,30)\n",
    "tup1"
   ]
  },
  {
   "cell_type": "code",
   "execution_count": null,
   "metadata": {},
   "outputs": [],
   "source": [
    "tup2=(10,'data',10.2)"
   ]
  },
  {
   "cell_type": "code",
   "execution_count": null,
   "metadata": {},
   "outputs": [],
   "source": [
    "t=(10,[1,2],[10,52])\n",
    "t[1][1]"
   ]
  },
  {
   "cell_type": "code",
   "execution_count": null,
   "metadata": {},
   "outputs": [],
   "source": [
    "t"
   ]
  },
  {
   "cell_type": "code",
   "execution_count": null,
   "metadata": {},
   "outputs": [],
   "source": [
    "t1=(10,10,20,20,30)"
   ]
  },
  {
   "cell_type": "code",
   "execution_count": null,
   "metadata": {},
   "outputs": [],
   "source": [
    "t1.count(10)"
   ]
  },
  {
   "cell_type": "code",
   "execution_count": null,
   "metadata": {},
   "outputs": [],
   "source": [
    "t1.index(20)"
   ]
  },
  {
   "cell_type": "code",
   "execution_count": null,
   "metadata": {},
   "outputs": [],
   "source": [
    "sorted(tup1)"
   ]
  },
  {
   "cell_type": "code",
   "execution_count": null,
   "metadata": {},
   "outputs": [],
   "source": [
    "tup1"
   ]
  },
  {
   "cell_type": "code",
   "execution_count": null,
   "metadata": {},
   "outputs": [],
   "source": [
    "a={1,2,3,4,5}\n",
    "b={4,4,5,6,7,8}"
   ]
  },
  {
   "cell_type": "code",
   "execution_count": null,
   "metadata": {},
   "outputs": [],
   "source": [
    "a.union(b)"
   ]
  },
  {
   "cell_type": "code",
   "execution_count": null,
   "metadata": {},
   "outputs": [],
   "source": [
    "a.intersection(b)"
   ]
  },
  {
   "cell_type": "code",
   "execution_count": null,
   "metadata": {},
   "outputs": [],
   "source": [
    "a.difference"
   ]
  },
  {
   "cell_type": "code",
   "execution_count": null,
   "metadata": {},
   "outputs": [],
   "source": [
    "a={10,20,30}\n",
    "b={25,20,35}\n",
    "b.difference(a)"
   ]
  },
  {
   "cell_type": "code",
   "execution_count": null,
   "metadata": {},
   "outputs": [],
   "source": [
    "a=int(input(\"enter first number: \"))\n",
    "b=int(input(\"enter second number: \"))\n",
    "c=int(input(\"enter third number: \"))\n",
    "list=[a,b,c]\n",
    "print(list)\n",
    "if list[0]>=list[1] and list[0]>=list[2]:\n",
    "    print(list[0],\"is large\")\n",
    "elif list[1]>=list[0] and list[1]>=list[2]:\n",
    "    print(list[1],\"is large\")\n",
    "else:\n",
    "    print(list[2],\"is large\")"
   ]
  },
  {
   "cell_type": "code",
   "execution_count": null,
   "metadata": {},
   "outputs": [],
   "source": [
    "list1=[10,50,54]"
   ]
  },
  {
   "cell_type": "code",
   "execution_count": null,
   "metadata": {},
   "outputs": [],
   "source": [
    "sum=list1[0]+list1[1]+list1[2]\n",
    "sum\n",
    "list1=[5,9,5,8,6]\n",
    "list1"
   ]
  },
  {
   "cell_type": "code",
   "execution_count": null,
   "metadata": {},
   "outputs": [],
   "source": [
    "temp=list1[0]\n",
    "list1[0]=list1[-1]\n",
    "list1[-1]=temp\n",
    "list1"
   ]
  },
  {
   "cell_type": "code",
   "execution_count": null,
   "metadata": {},
   "outputs": [],
   "source": [
    "\n",
    "mylist=['Hello to python']\n",
    "mylist result_mylist = [word.split() for word in mylist] \n",
    "result_mylist\n"
   ]
  },
  {
   "cell_type": "code",
   "execution_count": null,
   "metadata": {},
   "outputs": [],
   "source": [
    "mylist=['Hello to python'] \n",
    "result_mylist = [word.split() for word in mylist] \n",
    "result_mylist\n"
   ]
  },
  {
   "cell_type": "code",
   "execution_count": null,
   "metadata": {},
   "outputs": [],
   "source": [
    "mylist = ['Hello to python']\n",
    "new_list = mylist[0].split()  # Split the string by spaces\n",
    "print(new_list)\n"
   ]
  },
  {
   "cell_type": "code",
   "execution_count": null,
   "metadata": {},
   "outputs": [],
   "source": [
    "t=(1,5,3)\n",
    "sorted(t,reverse=True)\n"
   ]
  },
  {
   "cell_type": "code",
   "execution_count": null,
   "metadata": {},
   "outputs": [],
   "source": [
    "n=input(\"enter name: \")\n",
    "p=input(\"enter profession: \")\n",
    "e=input(\"enter email: \")\n",
    "set1={n,p,e}\n",
    "n=input(\"enter name: \")\n",
    "p=input(\"enter profession: \")\n",
    "e=input(\"enter email: \")\n",
    "set2={n,p,e}\n",
    "list=[set1,set2]\n",
    "list"
   ]
  },
  {
   "cell_type": "code",
   "execution_count": null,
   "metadata": {},
   "outputs": [],
   "source": [
    "i=1\n",
    "while i<=6:\n",
    "    print(\"\",i)\n",
    "    i=i+1"
   ]
  },
  {
   "cell_type": "code",
   "execution_count": null,
   "metadata": {},
   "outputs": [],
   "source": [
    "i=1\n",
    "print(\"Start of while\")\n",
    "while i<=6:\n",
    "    print(i)\n",
    "    if i==3:\n",
    "        break\n",
    "    i=i+1\n",
    "print(\"End of while\")\n"
   ]
  },
  {
   "cell_type": "code",
   "execution_count": null,
   "metadata": {},
   "outputs": [],
   "source": [
    "i=3\n",
    "while i<6:\n",
    "    print(i)\n",
    "    i+=1\n",
    "else:\n",
    "    print(\"while condition is false\")\n",
    "print(\"hi\")"
   ]
  },
  {
   "cell_type": "code",
   "execution_count": null,
   "metadata": {},
   "outputs": [],
   "source": [
    "count=0\n",
    "while (count<3):\n",
    "    count=count+1\n",
    "   \n",
    "    print(count,\"Data science\")"
   ]
  },
  {
   "cell_type": "code",
   "execution_count": null,
   "metadata": {},
   "outputs": [],
   "source": [
    "i=0\n",
    "\n",
    "while i<20:\n",
    "    i=i+2\n",
    "    print(i)\n",
    "else:\n",
    "    print(i)\n",
    "\n",
    "    \n"
   ]
  },
  {
   "cell_type": "code",
   "execution_count": null,
   "metadata": {},
   "outputs": [],
   "source": [
    "i=1\n",
    "while i<=20:\n",
    "    if i%2==0:\n",
    "        print(i,\"is even\")\n",
    "    else:\n",
    "        print(i,\"is odd\")\n",
    "    i+=1\n",
    "    "
   ]
  },
  {
   "cell_type": "code",
   "execution_count": null,
   "metadata": {},
   "outputs": [],
   "source": [
    "list=[1,2,3,4,5,6,7,8,9]  # also called as iterables(object)\n",
    "                           #object is used by next()"
   ]
  },
  {
   "cell_type": "code",
   "execution_count": null,
   "metadata": {},
   "outputs": [],
   "source": [
    "for ele in list:\n",
    "    d=ele+2\n",
    "    print(d)\n",
    "print(\"done with all elements\")"
   ]
  },
  {
   "cell_type": "code",
   "execution_count": null,
   "metadata": {},
   "outputs": [],
   "source": [
    "s='data science'\n",
    "s1=[]\n",
    "for i in s:\n",
    "    print(i.upper())\n",
    "    s1.extend(i.upper())\n",
    "s1"
   ]
  },
  {
   "cell_type": "code",
   "execution_count": null,
   "metadata": {},
   "outputs": [],
   "source": [
    "fruits={1:'apple',2:'banana',3:'mango',4:'cherry'}\n",
    "for i in fruits:\n",
    "    if fruits[i]=='banana':\n",
    "        print(i,\"found:\",fruits[i])\n",
    "    if fruits[i]!='banana':\n",
    "\n",
    "        print(i,fruits[i])\n",
    "    "
   ]
  },
  {
   "cell_type": "code",
   "execution_count": null,
   "metadata": {},
   "outputs": [],
   "source": [
    "tup=(1,2.3,'apple',1)\n",
    "for i in tup:\n",
    "    print(i)"
   ]
  },
  {
   "cell_type": "code",
   "execution_count": null,
   "metadata": {},
   "outputs": [],
   "source": [
    "set={1,2.3,'apple',2}\n",
    "for i in set:\n",
    "    print(i)"
   ]
  },
  {
   "cell_type": "code",
   "execution_count": null,
   "metadata": {},
   "outputs": [],
   "source": [
    "for i in range(1,10):\n",
    "    print(i)\n"
   ]
  },
  {
   "cell_type": "code",
   "execution_count": null,
   "metadata": {},
   "outputs": [],
   "source": [
    "for i in range(5):\n",
    "    print(i)"
   ]
  },
  {
   "cell_type": "code",
   "execution_count": null,
   "metadata": {},
   "outputs": [],
   "source": [
    "for i in range(1,10,2):\n",
    "    print(i)"
   ]
  },
  {
   "cell_type": "code",
   "execution_count": null,
   "metadata": {},
   "outputs": [],
   "source": [
    "l1=['maths','science','geo','eco','social']\n",
    "l2=[78,85,98,25,54]"
   ]
  },
  {
   "cell_type": "code",
   "execution_count": null,
   "metadata": {},
   "outputs": [],
   "source": [
    "items_prices = {\n",
    "    30:\"milk\",\n",
    "    10:\"biscuit\",\n",
    "    23:\"sugar\" \n",
    "}\n",
    "total_cost=0\n",
    "for i in items_prices:\n",
    "    print(i)\n",
    "    total_cost +=i\n",
    "        \n",
    "# Display total cost\n",
    "print(\"Total cost: \", total_cost)"
   ]
  },
  {
   "cell_type": "code",
   "execution_count": null,
   "metadata": {},
   "outputs": [],
   "source": [
    "cart={1:{'name':\"A\",\"price\":10},2:{'name':\"B\",\"price\":50}}\n",
    "total=0\n",
    "for item in cart:\n",
    "    for i in cart[item]:\n",
    "        if i=='price':\n",
    "            total=total+cart[item][i]\n",
    "        if i=='name':\n",
    "                print(cart[item]['name'],\"  -  \", cart[item]['price'])\n",
    "print(\"_______\")\n",
    "print(\"Total cost: \", total)             "
   ]
  },
  {
   "cell_type": "code",
   "execution_count": null,
   "metadata": {},
   "outputs": [],
   "source": [
    "def area_of_circle(r):\n",
    "    area=3.14*r*r\n",
    "    print(area)"
   ]
  },
  {
   "cell_type": "code",
   "execution_count": null,
   "metadata": {},
   "outputs": [],
   "source": [
    "area_of_circle(6)"
   ]
  },
  {
   "cell_type": "code",
   "execution_count": null,
   "metadata": {},
   "outputs": [],
   "source": [
    "area_of_circle(2)"
   ]
  },
  {
   "cell_type": "code",
   "execution_count": null,
   "metadata": {},
   "outputs": [],
   "source": [
    "def area_of_rectangle(l,b):\n",
    "    area=l*b\n",
    "    return area"
   ]
  },
  {
   "cell_type": "code",
   "execution_count": null,
   "metadata": {},
   "outputs": [],
   "source": [
    "area_of_rectangle(4,5)"
   ]
  },
  {
   "cell_type": "code",
   "execution_count": null,
   "metadata": {},
   "outputs": [],
   "source": [
    "a=area_of_rectangle(4,5)\n",
    "print(\"Area of rectangle is\",a)"
   ]
  },
  {
   "cell_type": "code",
   "execution_count": null,
   "metadata": {},
   "outputs": [],
   "source": [
    "def squareofnum():\n",
    "    a=int(input(\"enter a number: \"))\n",
    "    return a**2"
   ]
  },
  {
   "cell_type": "code",
   "execution_count": null,
   "metadata": {},
   "outputs": [],
   "source": [
    "b=squareofnum()\n",
    "print(\"square of number is\",b)"
   ]
  },
  {
   "cell_type": "code",
   "execution_count": null,
   "metadata": {},
   "outputs": [],
   "source": [
    "a=int(input(\"enter a number: \"))\n",
    "b=int(input(\"enter a number: \"))\n",
    "def sum(a,b):\n",
    "   \n",
    "    return a+b\n",
    "\n",
    "print(\"Sum of\",a,\"and\",b,\" is \",sum(a,b))"
   ]
  },
  {
   "cell_type": "code",
   "execution_count": null,
   "metadata": {},
   "outputs": [],
   "source": [
    "def odd():\n",
    "    for i in range(11,21,2):\n",
    "        #if i%2!=0:\n",
    "            print(i,\"is odd\")\n",
    "            #print(sum(a,b))\n",
    "odd()\n",
    "print(sum(a,b))"
   ]
  },
  {
   "cell_type": "code",
   "execution_count": null,
   "metadata": {},
   "outputs": [],
   "source": [
    "from functools import reduce\n",
    "lis=[1,5,8]\n",
    "print(reduce(lambda a,b:a+b,lis))"
   ]
  },
  {
   "cell_type": "code",
   "execution_count": null,
   "metadata": {},
   "outputs": [],
   "source": [
    "def check(num):\n",
    "    if num % 2 == 0:\n",
    "        return \"Number is Even\"\n",
    "    else:\n",
    "        return \"Number is Odd\"\n",
    "\n",
    "num = input(\"Enter numbers: \")\n",
    "numbers = list(map(int, num.split()))\n",
    "res = list(map(check, numbers))\n",
    "res"
   ]
  },
  {
   "cell_type": "code",
   "execution_count": null,
   "metadata": {},
   "outputs": [],
   "source": [
    "def is_prime(number):\n",
    "    if number <= 1:\n",
    "        return False\n",
    "    for i in range(2, int(number**0.5) + 1):\n",
    "        if number % i == 0:\n",
    "            return False\n",
    "    return True\n",
    "\n",
    "number = int(input(\"Enter a number: \"))\n",
    "\n",
    "\n",
    "if is_prime(number):\n",
    "    print( \" prime number\")\n",
    "else:\n",
    "    print(\" not a prime number.\")\n"
   ]
  },
  {
   "cell_type": "code",
   "execution_count": null,
   "metadata": {},
   "outputs": [],
   "source": [
    "num = int(input(\"Enter a number: \"))\n",
    "if num > 1:\n",
    "    for i in range(2, int(num/2)+1):\n",
    "        if (num % i) == 0:\n",
    "            print(num, \"is not a prime number\")\n",
    "            break\n",
    "    else:\n",
    "        print(num, \"is a prime number\")\n",
    "else:\n",
    "    print(num, \"is not a prime number\")\n"
   ]
  },
  {
   "cell_type": "code",
   "execution_count": null,
   "metadata": {},
   "outputs": [],
   "source": [
    "def cal_product(numbers):\n",
    "    prod = 1\n",
    "    for n in numbers:\n",
    "        prod *= n\n",
    "    return prod\n",
    "\n",
    "numbers = input(\"Enter numbers: \").split()\n",
    "numbers = list(map(int, numbers))\n",
    "res = cal_product(numbers)\n",
    "\n",
    "print(\"Product =\" ,res)"
   ]
  },
  {
   "cell_type": "code",
   "execution_count": null,
   "metadata": {},
   "outputs": [],
   "source": [
    "def remove_duplicates(input_list):\n",
    "    unique_list = []\n",
    "    for element in input_list:\n",
    "        if element not in unique_list:\n",
    "            unique_list.append(element)\n",
    "    return unique_list\n",
    "\n",
    "# Taking input from the user\n",
    "input_list = list(map(int, input(\"Enter elements of the list separated by space: \").split()))\n",
    "\n",
    "# Removing duplicates using the remove_duplicates function\n",
    "result_list = remove_duplicates(input_list)\n",
    "\n",
    "# Printing the result\n",
    "print(f\"List after removing duplicates: {result_list}\")\n"
   ]
  },
  {
   "cell_type": "code",
   "execution_count": null,
   "metadata": {},
   "outputs": [],
   "source": [
    "def add(a,b):\n",
    "    sum=a+b\n",
    "    return sum\n",
    "add(5,8)\n",
    "#print(\"addition =\", result)"
   ]
  },
  {
   "cell_type": "code",
   "execution_count": null,
   "metadata": {},
   "outputs": [],
   "source": [
    "string=input(\"\")\n",
    "if \"http://\" in string or \"https://\" in string:\n",
    "    return True\n",
    "else:\n",
    "    return False"
   ]
  },
  {
   "cell_type": "code",
   "execution_count": null,
   "metadata": {},
   "outputs": [],
   "source": [
    "x = \"Global Scope\" \n",
    "\n",
    "def outer_func():    \n",
    "    x = \"enclosing scope\"\n",
    "    a=10\n",
    "    def inner_func():        \n",
    "        x = \"local scope\"        \n",
    "        print(x,a)        \n",
    "                \n",
    "    inner_func()     \n",
    "    print(a)  \n",
    "outer_func()"
   ]
  },
  {
   "cell_type": "code",
   "execution_count": null,
   "metadata": {},
   "outputs": [],
   "source": [
    "def simpleGeneratorFun():\n",
    "    yield \"order done\"\n",
    "    yield \"order preapared\"\n",
    "    yield \"order deliverred\"\n",
    "print(simpleGeneratorFun.__next__())\n",
    "\n",
    "\n",
    "#for value in simpleGeneratorFun():\n",
    " #   status = int(input(value))\n",
    "  #  if status:\n",
    "   #     print(\"order status\", value)\n"
   ]
  },
  {
   "cell_type": "code",
   "execution_count": null,
   "metadata": {},
   "outputs": [],
   "source": [
    "def even_numbers(n):\n",
    "            yield \"order done\"\n",
    "            yield \"order confirmed\"\n",
    "            yield \"order \"\n",
    "\n",
    "# Usage:\n",
    "for num in even_numbers(10):\n",
    "    print(num)"
   ]
  },
  {
   "cell_type": "code",
   "execution_count": null,
   "metadata": {},
   "outputs": [],
   "source": [
    "name=[\"sagar\",\"hemanth\",\"pushpa\",\"pushpa\"]\n",
    "r= [4, 1,3,9]\n",
    "mapped=zip(name,r)\n",
    "print(dict(mapped))"
   ]
  },
  {
   "cell_type": "code",
   "execution_count": null,
   "metadata": {},
   "outputs": [],
   "source": [
    "names = (\"John\", \"Emily\", \"Michael\")\n",
    "ages = [20, 22, 19]\n",
    "\n",
    "for item in zip(names, ages):\n",
    "    print(f\"{item[0]} has roll no {item[1]}\")\n",
    "    "
   ]
  },
  {
   "cell_type": "code",
   "execution_count": null,
   "metadata": {},
   "outputs": [],
   "source": [
    "L1 = [\"eat\", \"sleep\", \"repeat\"] \n",
    "S1 = \"Python\"\n",
    "obj1  = enumerate(L1) \n",
    "obj2 = enumerate(S1)\n",
    "\n",
    "print (\"Return type:\", type(obj1)) \n",
    "print (list(enumerate(L1)))\n",
    "print (list(enumerate (S1,2)))"
   ]
  },
  {
   "cell_type": "code",
   "execution_count": null,
   "metadata": {},
   "outputs": [],
   "source": [
    "\n",
    "l=[x for x in range(0,5) if x%2==0]\n",
    "l"
   ]
  },
  {
   "cell_type": "code",
   "execution_count": null,
   "metadata": {},
   "outputs": [],
   "source": [
    "\n",
    "x = [\"Apple\", \"Mango\", \"Papaya\"]\n",
    "\n",
    "new_list = [x for x in x if 'a' in x]\n",
    "new_list\n"
   ]
  },
  {
   "cell_type": "code",
   "execution_count": null,
   "metadata": {},
   "outputs": [],
   "source": [
    "fruits = [\"Banana\", \"Apple\", \"Mango\", \"Papaya\"]\n",
    "\n",
    "filtered_fruits = [i for i in fruits if i]\n",
    "\n",
    "filtered_fruits"
   ]
  },
  {
   "cell_type": "code",
   "execution_count": null,
   "metadata": {},
   "outputs": [],
   "source": [
    "fruits = list(input(\"Enter fruits:\"))\n",
    "new_list = [x for x in fruits if 'a' in x]\n",
    "new_list"
   ]
  },
  {
   "cell_type": "code",
   "execution_count": null,
   "metadata": {},
   "outputs": [],
   "source": [
    "import csv\n",
    "with open(\"C:/Users/Khuteeja/Desktop/abc.csv\",'r') as file_object:\n",
    "   # print(\"Successfully opened csv\")\n",
    "    data=csv.reader(file_object)\n",
    "    for line in data:\n",
    "        print(line)"
   ]
  },
  {
   "cell_type": "code",
   "execution_count": null,
   "metadata": {},
   "outputs": [],
   "source": [
    "import csv\n",
    "c=0\n",
    "with open(\"C:/Users/Khuteeja/Desktop/netflix_titles.csv\",'r') as file_object:\n",
    "   # print(\"Successfully opened csv\")\n",
    "    data=csv.reader(file_object)\n",
    "    print(type(data))\n",
    "    for line in data:\n",
    "        c=c+1\n",
    "        if c>5:\n",
    "            break\n",
    "        if c==1:\n",
    "            continue\n",
    "        print(\"Netflix has released\",line[2],\"on\",line[7],\"and directed by\",line[3])\n",
    "        \n",
    "        "
   ]
  },
  {
   "cell_type": "code",
   "execution_count": null,
   "metadata": {},
   "outputs": [],
   "source": [
    "import csv\n",
    "filename=\"\"\n",
    "fields=[]\n",
    "rows=[]\n",
    "\n",
    "with open(\"C:/Users/Khuteeja/Desktop/netflix_titles.csv\",'r') as csvfile:\n",
    "    data=csv.DictReader(csvfile)\n",
    "    print(type(data))\n",
    "    for line in data:\n",
    "        print(line)\n",
    "        \n",
    "        "
   ]
  },
  {
   "cell_type": "code",
   "execution_count": null,
   "metadata": {},
   "outputs": [],
   "source": [
    "import csv\n",
    "fields=['Name','Branch','Year','CGPA']\n",
    "data=[ ['Nikhil','CS',3,9.0],\n",
    "       ['Sanchit','EC',4,8.5],\n",
    "       ['Sagar','EC',3,8.6]\n",
    "     ]\n",
    "filename='studentfile.csv'\n",
    "with open(filename, 'w', newline='') as fd:\n",
    "    csvwriter_obj = csv.writer(fd)\n",
    "    print(type(csvwriter_obj))\n",
    "    csvwriter_obj.writerow(fields) # column\n",
    "    csvwriter_obj.writerows(data) #adds records\n",
    "print(f' Data has been written to {filename}')\n",
    "    \n",
    "    "
   ]
  },
  {
   "cell_type": "code",
   "execution_count": null,
   "metadata": {},
   "outputs": [],
   "source": [
    "import csv\n",
    "\n",
    "data=[{'branch':'CS','CGPA':9.0,'Name':'Nikhil','year':'2'},\n",
    "      {'branch':'EC','CGPA':8.0,'Name':'Sagar','year':'3'},\n",
    "      {'branch':'EE','CGPA':9.7,'Name':'Sanchit','year':'2'}\n",
    "     ]\n",
    "fields=['branch','CGPA','Name','year']\n",
    "filename='Dict_sheet.csv'\n",
    "with open(filename,'w',newline='') as fd:\n",
    "    WO=csv.DictWriter(fd, fieldnames=fields)\n",
    "    WO.writeheader()\n",
    "    WO.writerows(data)\n",
    "    print(f'Data has been written in {filename}')"
   ]
  },
  {
   "cell_type": "code",
   "execution_count": null,
   "metadata": {},
   "outputs": [],
   "source": [
    "import csv\n",
    "def cal_price(products):\n",
    "    total_price = 0\n",
    "    for i in products:\n",
    "        total_price +=i['price'] * i['quantity']\n",
    "    return total_price\n",
    "\n",
    "products=[{'name':'apple','price':10,'quantity':2},\n",
    "          {'name':'mango','price':20,'quantity':3},\n",
    "          {'name':'banana','price':5,'quantity':5}\n",
    "         ]\n",
    "fields=['name','price','quantity']\n",
    "filename='Dict_sheet1.csv'\n",
    "with open(filename,'w',newline='') as fd:\n",
    "    WO=csv.DictWriter(fd, fieldnames=fields)\n",
    "    WO.writeheader()\n",
    "    WO.writerows(products)\n",
    "\n",
    "total_price = cal_price(products)\n",
    "print(\"Invoice:\")\n",
    "print(\"________________________\")\n",
    "with open('Dict_sheet1.csv','r') as fd:\n",
    "    reader = csv.reader(fd)\n",
    "    for row in reader:\n",
    "        print(f'{row[0]}\\t{row[1]}\\t{row[2]}')\n",
    "print(\"________________________\")\n",
    "print(f\"Total Price : {total_price}\")"
   ]
  },
  {
   "cell_type": "code",
   "execution_count": null,
   "metadata": {},
   "outputs": [],
   "source": [
    "import csv \n",
    "TotalPrice=0 \n",
    "ST=0 \n",
    "fields=['Product_Name','Qty','Price'] \n",
    "#input() \n",
    "products=[['Product1',2,10],['Product2',3,20],['Product3',1,10]] \n",
    "filename='products.csv' \n",
    "with open(filename,'w',newline='') as fd:     \n",
    "    WO=csv.writer(fd)     \n",
    "    WO.writerow(fields)     \n",
    "    WO.writerows(products)     \n",
    "    print('Invoice:')     \n",
    "    print('Product\\t\\tQty\\tPrice\\tSub Total')     \n",
    "    print('-----------------------------------------------')         \n",
    "    i=0     \n",
    "    for product in products:         \n",
    "        Sub_total=product[1]*product[2]         \n",
    "        ST=ST+Sub_total         \n",
    "        print(f'{products[i][0]}\\t{products[i][1]}\\t{products[i][2]}\\t{Sub Total}')         \n",
    "        i=i+1   \n",
    "    print('-----------------------------------------------')          \n",
    "    print(f\"Total price: Rs \")"
   ]
  },
  {
   "cell_type": "code",
   "execution_count": null,
   "metadata": {},
   "outputs": [],
   "source": [
    "import csv\n",
    "\n",
    "filename=('C:/Users/Khuteeja/Desktop/abc.csv')\n",
    "fields =[] \n",
    "rows=[]\n",
    "with open(filename,mode='r') as csvfile:\n",
    "    csvreader=csv.reader(csvfile)\n",
    "    fields =next(csvreader)\n",
    "    for row in csvreader:\n",
    "        rows.append(row)\n",
    "for row in rows[:5]:\n",
    "    print(len(row))\n",
    "    print(len(rows))\n",
    "    for col in row: #Loops 2 times\n",
    "         print('%5s'%col,end='')\n",
    "    print('\\n')"
   ]
  },
  {
   "cell_type": "code",
   "execution_count": null,
   "metadata": {},
   "outputs": [],
   "source": [
    "# Write 3 product records to file ['Product_Name','Qty','Price'] \n",
    "\n",
    "import csv \n",
    "TotalPrice=0 \n",
    "ST=0 \n",
    "fields=['Product_Name','Qty','Price'] \n",
    "products=[['Product1',2,10],['Product2',3,20],['Product3',1,10]] \n",
    "filename='products.csv' \n",
    "\n",
    "with open(filename,'w',newline='') as fd:     \n",
    "    WO=csv.writer(fd)     \n",
    "    WO.writerow(fields)     \n",
    "    WO.writerows(products)     \n",
    "    print('Invoice:')     \n",
    "    print('Product\\t\\tQty\\tPrice\\tSub Total')     \n",
    "    print('-----------------------------------------------')         \n",
    "    \n",
    "    i=0     \n",
    "    for product in products:         \n",
    "        Sub_total=product[1]*product[2]         \n",
    "        ST=ST+Sub_total         \n",
    "        print(f'{products[i][0]}\\t{products[i][1]}\\t{products[i][2]}\\t{Sub_total}')         \n",
    "        i=i+1     \n",
    "        print('-----------------------------------------------')     \n",
    "    print(f' Total price: Rs. {ST}')"
   ]
  },
  {
   "cell_type": "code",
   "execution_count": 3,
   "metadata": {},
   "outputs": [
    {
     "name": "stdout",
     "output_type": "stream",
     "text": [
      "Collecting tensorflow\n",
      "  Using cached tensorflow-2.11.0-cp37-cp37m-win_amd64.whl (1.9 kB)\n",
      "Collecting tensorflow-intel==2.11.0 (from tensorflow)\n",
      "  Using cached tensorflow_intel-2.11.0-cp37-cp37m-win_amd64.whl (266.3 MB)\n",
      "Requirement already satisfied: absl-py>=1.0.0 in c:\\users\\khuteeja\\anaconda3\\lib\\site-packages (from tensorflow-intel==2.11.0->tensorflow) (2.0.0)\n",
      "Requirement already satisfied: astunparse>=1.6.0 in c:\\users\\khuteeja\\anaconda3\\lib\\site-packages (from tensorflow-intel==2.11.0->tensorflow) (1.6.3)\n",
      "Requirement already satisfied: flatbuffers>=2.0 in c:\\users\\khuteeja\\anaconda3\\lib\\site-packages (from tensorflow-intel==2.11.0->tensorflow) (23.5.26)\n",
      "Requirement already satisfied: gast<=0.4.0,>=0.2.1 in c:\\users\\khuteeja\\anaconda3\\lib\\site-packages (from tensorflow-intel==2.11.0->tensorflow) (0.4.0)\n",
      "Requirement already satisfied: google-pasta>=0.1.1 in c:\\users\\khuteeja\\anaconda3\\lib\\site-packages (from tensorflow-intel==2.11.0->tensorflow) (0.2.0)\n",
      "Requirement already satisfied: h5py>=2.9.0 in c:\\users\\khuteeja\\anaconda3\\lib\\site-packages (from tensorflow-intel==2.11.0->tensorflow) (3.8.0)\n",
      "Requirement already satisfied: libclang>=13.0.0 in c:\\users\\khuteeja\\anaconda3\\lib\\site-packages (from tensorflow-intel==2.11.0->tensorflow) (16.0.6)\n",
      "Requirement already satisfied: numpy>=1.20 in c:\\users\\khuteeja\\anaconda3\\lib\\site-packages (from tensorflow-intel==2.11.0->tensorflow) (1.21.6)\n",
      "Requirement already satisfied: opt-einsum>=2.3.2 in c:\\users\\khuteeja\\anaconda3\\lib\\site-packages (from tensorflow-intel==2.11.0->tensorflow) (3.3.0)\n",
      "Requirement already satisfied: packaging in c:\\users\\khuteeja\\anaconda3\\lib\\site-packages (from tensorflow-intel==2.11.0->tensorflow) (17.1)\n",
      "Requirement already satisfied: protobuf<3.20,>=3.9.2 in c:\\users\\khuteeja\\anaconda3\\lib\\site-packages (from tensorflow-intel==2.11.0->tensorflow) (3.19.6)\n",
      "Requirement already satisfied: setuptools in c:\\users\\khuteeja\\anaconda3\\lib\\site-packages (from tensorflow-intel==2.11.0->tensorflow) (40.2.0)\n",
      "Requirement already satisfied: six>=1.12.0 in c:\\users\\khuteeja\\anaconda3\\lib\\site-packages (from tensorflow-intel==2.11.0->tensorflow) (1.16.0)\n",
      "Requirement already satisfied: termcolor>=1.1.0 in c:\\users\\khuteeja\\anaconda3\\lib\\site-packages (from tensorflow-intel==2.11.0->tensorflow) (2.3.0)\n",
      "Requirement already satisfied: typing-extensions>=3.6.6 in c:\\users\\khuteeja\\anaconda3\\lib\\site-packages (from tensorflow-intel==2.11.0->tensorflow) (4.7.1)\n",
      "Collecting wrapt>=1.11.0 (from tensorflow-intel==2.11.0->tensorflow)\n",
      "  Using cached wrapt-1.16.0-cp37-cp37m-win_amd64.whl.metadata (6.8 kB)\n",
      "Requirement already satisfied: grpcio<2.0,>=1.24.3 in c:\\users\\khuteeja\\anaconda3\\lib\\site-packages (from tensorflow-intel==2.11.0->tensorflow) (1.59.3)\n",
      "Requirement already satisfied: tensorboard<2.12,>=2.11 in c:\\users\\khuteeja\\anaconda3\\lib\\site-packages (from tensorflow-intel==2.11.0->tensorflow) (2.11.2)\n",
      "Requirement already satisfied: tensorflow-estimator<2.12,>=2.11.0 in c:\\users\\khuteeja\\anaconda3\\lib\\site-packages (from tensorflow-intel==2.11.0->tensorflow) (2.11.0)\n",
      "Requirement already satisfied: keras<2.12,>=2.11.0 in c:\\users\\khuteeja\\anaconda3\\lib\\site-packages (from tensorflow-intel==2.11.0->tensorflow) (2.11.0)\n",
      "Requirement already satisfied: tensorflow-io-gcs-filesystem>=0.23.1 in c:\\users\\khuteeja\\anaconda3\\lib\\site-packages (from tensorflow-intel==2.11.0->tensorflow) (0.31.0)\n",
      "Requirement already satisfied: wheel<1.0,>=0.23.0 in c:\\users\\khuteeja\\anaconda3\\lib\\site-packages (from astunparse>=1.6.0->tensorflow-intel==2.11.0->tensorflow) (0.31.1)\n",
      "Requirement already satisfied: google-auth<3,>=1.6.3 in c:\\users\\khuteeja\\anaconda3\\lib\\site-packages (from tensorboard<2.12,>=2.11->tensorflow-intel==2.11.0->tensorflow) (2.23.4)\n",
      "Requirement already satisfied: google-auth-oauthlib<0.5,>=0.4.1 in c:\\users\\khuteeja\\anaconda3\\lib\\site-packages (from tensorboard<2.12,>=2.11->tensorflow-intel==2.11.0->tensorflow) (0.4.6)\n",
      "Requirement already satisfied: markdown>=2.6.8 in c:\\users\\khuteeja\\anaconda3\\lib\\site-packages (from tensorboard<2.12,>=2.11->tensorflow-intel==2.11.0->tensorflow) (3.4.4)\n",
      "Requirement already satisfied: requests<3,>=2.21.0 in c:\\users\\khuteeja\\anaconda3\\lib\\site-packages (from tensorboard<2.12,>=2.11->tensorflow-intel==2.11.0->tensorflow) (2.31.0)\n",
      "Collecting setuptools (from tensorflow-intel==2.11.0->tensorflow)\n",
      "  Using cached setuptools-68.0.0-py3-none-any.whl.metadata (6.4 kB)\n",
      "Requirement already satisfied: tensorboard-data-server<0.7.0,>=0.6.0 in c:\\users\\khuteeja\\anaconda3\\lib\\site-packages (from tensorboard<2.12,>=2.11->tensorflow-intel==2.11.0->tensorflow) (0.6.1)\n",
      "Requirement already satisfied: tensorboard-plugin-wit>=1.6.0 in c:\\users\\khuteeja\\anaconda3\\lib\\site-packages (from tensorboard<2.12,>=2.11->tensorflow-intel==2.11.0->tensorflow) (1.8.1)\n",
      "Requirement already satisfied: werkzeug>=1.0.1 in c:\\users\\khuteeja\\anaconda3\\lib\\site-packages (from tensorboard<2.12,>=2.11->tensorflow-intel==2.11.0->tensorflow) (2.2.3)\n",
      "Requirement already satisfied: pyparsing>=2.0.2 in c:\\users\\khuteeja\\anaconda3\\lib\\site-packages (from packaging->tensorflow-intel==2.11.0->tensorflow) (2.2.0)\n",
      "Requirement already satisfied: cachetools<6.0,>=2.0.0 in c:\\users\\khuteeja\\anaconda3\\lib\\site-packages (from google-auth<3,>=1.6.3->tensorboard<2.12,>=2.11->tensorflow-intel==2.11.0->tensorflow) (5.3.2)\n",
      "Requirement already satisfied: pyasn1-modules>=0.2.1 in c:\\users\\khuteeja\\anaconda3\\lib\\site-packages (from google-auth<3,>=1.6.3->tensorboard<2.12,>=2.11->tensorflow-intel==2.11.0->tensorflow) (0.2.2)\n",
      "Requirement already satisfied: rsa<5,>=3.1.4 in c:\\users\\khuteeja\\anaconda3\\lib\\site-packages (from google-auth<3,>=1.6.3->tensorboard<2.12,>=2.11->tensorflow-intel==2.11.0->tensorflow) (4.9)\n",
      "Requirement already satisfied: requests-oauthlib>=0.7.0 in c:\\users\\khuteeja\\anaconda3\\lib\\site-packages (from google-auth-oauthlib<0.5,>=0.4.1->tensorboard<2.12,>=2.11->tensorflow-intel==2.11.0->tensorflow) (1.3.1)\n",
      "Requirement already satisfied: importlib-metadata>=4.4 in c:\\users\\khuteeja\\anaconda3\\lib\\site-packages (from markdown>=2.6.8->tensorboard<2.12,>=2.11->tensorflow-intel==2.11.0->tensorflow) (6.7.0)\n",
      "Requirement already satisfied: charset-normalizer<4,>=2 in c:\\users\\khuteeja\\anaconda3\\lib\\site-packages (from requests<3,>=2.21.0->tensorboard<2.12,>=2.11->tensorflow-intel==2.11.0->tensorflow) (3.3.2)\n",
      "Requirement already satisfied: idna<4,>=2.5 in c:\\users\\khuteeja\\anaconda3\\lib\\site-packages (from requests<3,>=2.21.0->tensorboard<2.12,>=2.11->tensorflow-intel==2.11.0->tensorflow) (2.7)\n",
      "Requirement already satisfied: urllib3<3,>=1.21.1 in c:\\users\\khuteeja\\anaconda3\\lib\\site-packages (from requests<3,>=2.21.0->tensorboard<2.12,>=2.11->tensorflow-intel==2.11.0->tensorflow) (1.23)\n",
      "Requirement already satisfied: certifi>=2017.4.17 in c:\\users\\khuteeja\\anaconda3\\lib\\site-packages (from requests<3,>=2.21.0->tensorboard<2.12,>=2.11->tensorflow-intel==2.11.0->tensorflow) (2018.8.24)\n",
      "Requirement already satisfied: MarkupSafe>=2.1.1 in c:\\users\\khuteeja\\anaconda3\\lib\\site-packages (from werkzeug>=1.0.1->tensorboard<2.12,>=2.11->tensorflow-intel==2.11.0->tensorflow) (2.1.3)\n",
      "Requirement already satisfied: zipp>=0.5 in c:\\users\\khuteeja\\anaconda3\\lib\\site-packages (from importlib-metadata>=4.4->markdown>=2.6.8->tensorboard<2.12,>=2.11->tensorflow-intel==2.11.0->tensorflow) (3.15.0)\n",
      "Requirement already satisfied: pyasn1<0.5.0,>=0.4.1 in c:\\users\\khuteeja\\anaconda3\\lib\\site-packages (from pyasn1-modules>=0.2.1->google-auth<3,>=1.6.3->tensorboard<2.12,>=2.11->tensorflow-intel==2.11.0->tensorflow) (0.4.4)\n",
      "Requirement already satisfied: oauthlib>=3.0.0 in c:\\users\\khuteeja\\anaconda3\\lib\\site-packages (from requests-oauthlib>=0.7.0->google-auth-oauthlib<0.5,>=0.4.1->tensorboard<2.12,>=2.11->tensorflow-intel==2.11.0->tensorflow) (3.2.2)\n",
      "Using cached setuptools-68.0.0-py3-none-any.whl (804 kB)\n",
      "Using cached wrapt-1.16.0-cp37-cp37m-win_amd64.whl (37 kB)\n",
      "Installing collected packages: wrapt, setuptools, tensorflow-intel, tensorflow\n",
      "  Attempting uninstall: wrapt\n",
      "    Found existing installation: wrapt 1.10.11\n"
     ]
    },
    {
     "name": "stderr",
     "output_type": "stream",
     "text": [
      "DEPRECATION: pandas 0.23.4 has a non-standard dependency specifier pytz>=2011k. pip 24.0 will enforce this behaviour change. A possible replacement is to upgrade to a newer version of pandas or contact the author to suggest that they release a version with a conforming dependency specifiers. Discussion can be found at https://github.com/pypa/pip/issues/12063\n",
      "ERROR: Cannot uninstall 'wrapt'. It is a distutils installed project and thus we cannot accurately determine which files belong to it which would lead to only a partial uninstall.\n"
     ]
    }
   ],
   "source": [
    "!pip install tensorflow"
   ]
  },
  {
   "cell_type": "code",
   "execution_count": 1,
   "metadata": {},
   "outputs": [
    {
     "name": "stdout",
     "output_type": "stream",
     "text": [
      "Package                            Version\n",
      "---------------------------------- ---------\n",
      "absl-py                            2.0.0\n",
      "alabaster                          0.7.11\n",
      "anaconda-client                    1.7.2\n",
      "anaconda-navigator                 1.9.2\n",
      "anaconda-project                   0.8.2\n",
      "appdirs                            1.4.3\n",
      "asn1crypto                         0.24.0\n",
      "astroid                            2.0.4\n",
      "astropy                            3.0.4\n",
      "astunparse                         1.6.3\n",
      "atomicwrites                       1.2.1\n",
      "attrs                              18.2.0\n",
      "Automat                            0.7.0\n",
      "Babel                              2.6.0\n",
      "backcall                           0.1.0\n",
      "backports.shutil-get-terminal-size 1.0.0\n",
      "beautifulsoup4                     4.6.3\n",
      "bitarray                           0.8.3\n",
      "bkcharts                           0.2\n",
      "blaze                              0.11.3\n",
      "bleach                             2.1.4\n",
      "bokeh                              0.13.0\n",
      "boto                               2.49.0\n",
      "Bottleneck                         1.2.1\n",
      "cachetools                         5.3.2\n",
      "certifi                            2018.8.24\n",
      "cffi                               1.11.5\n",
      "chardet                            3.0.4\n",
      "charset-normalizer                 3.3.2\n",
      "click                              6.7\n",
      "cloudpickle                        0.5.5\n",
      "clyent                             1.2.2\n",
      "colorama                           0.3.9\n",
      "comtypes                           1.1.7\n",
      "conda                              4.5.11\n",
      "conda-build                        3.15.1\n",
      "constantly                         15.1.0\n",
      "contextlib2                        0.5.5\n",
      "cryptography                       2.3.1\n",
      "cycler                             0.10.0\n",
      "Cython                             0.28.5\n",
      "cytoolz                            0.9.0.1\n",
      "dask                               0.19.1\n",
      "datashape                          0.5.4\n",
      "decorator                          4.3.0\n",
      "defusedxml                         0.5.0\n",
      "distributed                        1.23.1\n",
      "docutils                           0.14\n",
      "entrypoints                        0.2.3\n",
      "et-xmlfile                         1.0.1\n",
      "fastcache                          1.0.2\n",
      "filelock                           3.0.8\n",
      "Flask                              1.0.2\n",
      "Flask-Cors                         3.0.6\n",
      "flatbuffers                        23.5.26\n",
      "gast                               0.4.0\n",
      "gevent                             1.3.6\n",
      "glob2                              0.6\n",
      "google-auth                        2.23.4\n",
      "google-auth-oauthlib               0.4.6\n",
      "google-pasta                       0.2.0\n",
      "greenlet                           0.4.15\n",
      "grpcio                             1.59.3\n",
      "h5py                               3.8.0\n",
      "heapdict                           1.0.0\n",
      "html5lib                           1.0.1\n",
      "hyperlink                          18.0.0\n",
      "idna                               2.7\n",
      "imageio                            2.4.1\n",
      "imagesize                          1.1.0\n",
      "importlib-metadata                 6.7.0\n",
      "incremental                        17.5.0\n",
      "ipykernel                          4.10.0\n",
      "ipython                            6.5.0\n",
      "ipython_genutils                   0.2.0\n",
      "ipywidgets                         7.4.1\n",
      "isort                              4.3.4\n",
      "itsdangerous                       0.24\n",
      "jdcal                              1.4\n",
      "jedi                               0.12.1\n",
      "Jinja2                             2.10\n",
      "jsonschema                         2.6.0\n",
      "jupyter                            1.0.0\n",
      "jupyter-client                     5.2.3\n",
      "jupyter-console                    5.2.0\n",
      "jupyter-core                       4.4.0\n",
      "jupyterlab                         0.34.9\n",
      "jupyterlab-launcher                0.13.1\n",
      "keras                              2.11.0\n",
      "keyring                            13.2.1\n",
      "kiwisolver                         1.0.1\n",
      "lazy-object-proxy                  1.3.1\n",
      "libclang                           16.0.6\n",
      "llvmlite                           0.24.0\n",
      "locket                             0.2.0\n",
      "lxml                               4.2.5\n",
      "Markdown                           3.4.4\n",
      "MarkupSafe                         2.1.3\n",
      "matplotlib                         2.2.3\n",
      "mccabe                             0.6.1\n",
      "menuinst                           1.4.14\n",
      "mistune                            0.8.3\n",
      "mkl-fft                            1.0.4\n",
      "mkl-random                         1.0.1\n",
      "more-itertools                     4.3.0\n",
      "mpmath                             1.0.0\n",
      "msgpack                            0.5.6\n",
      "multipledispatch                   0.6.0\n",
      "mysql-connector-python             8.0.31\n",
      "navigator-updater                  0.2.1\n",
      "nbconvert                          5.4.0\n",
      "nbformat                           4.4.0\n",
      "networkx                           2.1\n",
      "nltk                               3.3\n",
      "nose                               1.3.7\n",
      "notebook                           5.6.0\n",
      "numba                              0.39.0\n",
      "numexpr                            2.6.8\n",
      "numpy                              1.21.6\n",
      "numpydoc                           0.8.0\n",
      "oauthlib                           3.2.2\n",
      "odo                                0.5.1\n",
      "olefile                            0.46\n",
      "openpyxl                           2.5.6\n",
      "opt-einsum                         3.3.0\n",
      "packaging                          17.1\n",
      "pandas                             0.23.4\n",
      "pandocfilters                      1.4.2\n",
      "parso                              0.3.1\n",
      "partd                              0.3.8\n",
      "path.py                            11.1.0\n",
      "pathlib2                           2.3.2\n",
      "patsy                              0.5.0\n",
      "pep8                               1.7.1\n",
      "pickleshare                        0.7.4\n",
      "Pillow                             5.2.0\n",
      "pip                                23.3.1\n",
      "pkginfo                            1.4.2\n",
      "pluggy                             0.7.1\n",
      "ply                                3.11\n",
      "prometheus-client                  0.3.1\n",
      "prompt-toolkit                     1.0.15\n",
      "protobuf                           3.19.6\n",
      "psutil                             5.4.7\n",
      "py                                 1.6.0\n",
      "pyasn1                             0.4.4\n",
      "pyasn1-modules                     0.2.2\n",
      "pycodestyle                        2.4.0\n",
      "pycosat                            0.6.3\n",
      "pycparser                          2.18\n",
      "pycrypto                           2.6.1\n",
      "pycurl                             7.43.0.2\n",
      "pyflakes                           2.0.0\n",
      "Pygments                           2.2.0\n",
      "pylint                             2.1.1\n",
      "pyodbc                             4.0.24\n",
      "pyOpenSSL                          18.0.0\n",
      "pyparsing                          2.2.0\n",
      "PySocks                            1.6.8\n",
      "pytest                             3.8.0\n",
      "pytest-arraydiff                   0.2\n",
      "pytest-astropy                     0.4.0\n",
      "pytest-doctestplus                 0.1.3\n",
      "pytest-openfiles                   0.3.0\n",
      "pytest-remotedata                  0.3.0\n",
      "python-dateutil                    2.7.3\n",
      "pytz                               2018.5\n",
      "PyWavelets                         1.0.0\n",
      "pywin32                            223\n",
      "pywinpty                           0.5.4\n",
      "PyYAML                             3.13\n",
      "pyzmq                              17.1.2\n",
      "QtAwesome                          0.4.4\n",
      "qtconsole                          4.4.1\n",
      "QtPy                               1.5.0\n",
      "requests                           2.31.0\n",
      "requests-oauthlib                  1.3.1\n",
      "rope                               0.11.0\n",
      "rsa                                4.9\n",
      "ruamel_yaml                        0.15.46\n",
      "scikit-image                       0.14.0\n",
      "scikit-learn                       0.19.2\n",
      "scipy                              1.1.0\n",
      "seaborn                            0.9.0\n",
      "Send2Trash                         1.5.0\n",
      "service-identity                   17.0.0\n",
      "setuptools                         40.2.0\n",
      "simplegeneric                      0.8.1\n",
      "singledispatch                     3.4.0.3\n",
      "six                                1.16.0\n",
      "snowballstemmer                    1.2.1\n",
      "sortedcollections                  1.0.1\n",
      "sortedcontainers                   2.0.5\n",
      "Sphinx                             1.7.9\n",
      "sphinxcontrib-websupport           1.1.0\n",
      "spyder                             3.3.1\n",
      "spyder-kernels                     0.2.6\n",
      "SQLAlchemy                         1.2.11\n",
      "statsmodels                        0.9.0\n",
      "sympy                              1.1.1\n",
      "tables                             3.4.4\n",
      "tblib                              1.3.2\n",
      "tensorboard                        2.11.2\n",
      "tensorboard-data-server            0.6.1\n",
      "tensorboard-plugin-wit             1.8.1\n",
      "tensorflow-estimator               2.11.0\n",
      "tensorflow-io-gcs-filesystem       0.31.0\n",
      "termcolor                          2.3.0\n",
      "terminado                          0.8.1\n",
      "testpath                           0.3.1\n",
      "toolz                              0.9.0\n",
      "tornado                            5.1\n",
      "tqdm                               4.26.0\n",
      "traitlets                          4.3.2\n",
      "Twisted                            18.7.0\n",
      "typing_extensions                  4.7.1\n",
      "unicodecsv                         0.14.1\n",
      "urllib3                            1.23\n",
      "wcwidth                            0.1.7\n",
      "webencodings                       0.5.1\n",
      "Werkzeug                           2.2.3\n",
      "wheel                              0.31.1\n",
      "widgetsnbextension                 3.4.1\n",
      "win_inet_pton                      1.0.1\n",
      "win-unicode-console                0.5\n",
      "wincertstore                       0.2\n",
      "wrapt                              1.10.11\n",
      "xlrd                               1.1.0\n",
      "XlsxWriter                         1.1.0\n",
      "xlwings                            0.11.8\n",
      "xlwt                               1.3.0\n",
      "zict                               0.1.3\n",
      "zipp                               3.15.0\n",
      "zope.interface                     4.5.0\n"
     ]
    }
   ],
   "source": [
    "!pip list"
   ]
  },
  {
   "cell_type": "code",
   "execution_count": null,
   "metadata": {},
   "outputs": [],
   "source": []
  },
  {
   "cell_type": "code",
   "execution_count": 4,
   "metadata": {},
   "outputs": [
    {
     "name": "stdout",
     "output_type": "stream",
     "text": [
      "Requirement already satisfied: pandas in c:\\users\\khuteeja\\anaconda3\\lib\\site-packages (0.23.4)\n",
      "Requirement already satisfied: python-dateutil>=2.5.0 in c:\\users\\khuteeja\\anaconda3\\lib\\site-packages (from pandas) (2.7.3)\n",
      "Requirement already satisfied: pytz>=2011k in c:\\users\\khuteeja\\anaconda3\\lib\\site-packages (from pandas) (2018.5)\n",
      "Requirement already satisfied: numpy>=1.9.0 in c:\\users\\khuteeja\\anaconda3\\lib\\site-packages (from pandas) (1.21.6)\n",
      "Requirement already satisfied: six>=1.5 in c:\\users\\khuteeja\\anaconda3\\lib\\site-packages (from python-dateutil>=2.5.0->pandas) (1.16.0)\n"
     ]
    },
    {
     "name": "stderr",
     "output_type": "stream",
     "text": [
      "DEPRECATION: pandas 0.23.4 has a non-standard dependency specifier pytz>=2011k. pip 24.0 will enforce this behaviour change. A possible replacement is to upgrade to a newer version of pandas or contact the author to suggest that they release a version with a conforming dependency specifiers. Discussion can be found at https://github.com/pypa/pip/issues/12063\n"
     ]
    }
   ],
   "source": [
    "!pip install pandas"
   ]
  },
  {
   "cell_type": "code",
   "execution_count": null,
   "metadata": {},
   "outputs": [],
   "source": [
    "!pip uninstall pytz"
   ]
  },
  {
   "cell_type": "code",
   "execution_count": null,
   "metadata": {},
   "outputs": [],
   "source": []
  }
 ],
 "metadata": {
  "kernelspec": {
   "display_name": "Python 3",
   "language": "python",
   "name": "python3"
  },
  "language_info": {
   "codemirror_mode": {
    "name": "ipython",
    "version": 3
   },
   "file_extension": ".py",
   "mimetype": "text/x-python",
   "name": "python",
   "nbconvert_exporter": "python",
   "pygments_lexer": "ipython3",
   "version": "3.7.0"
  }
 },
 "nbformat": 4,
 "nbformat_minor": 2
}
