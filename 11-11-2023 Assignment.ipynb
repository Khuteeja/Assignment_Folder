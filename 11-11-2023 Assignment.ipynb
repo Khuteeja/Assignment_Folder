{
 "cells": [
  {
   "cell_type": "code",
   "execution_count": 2,
   "metadata": {},
   "outputs": [
    {
     "name": "stdout",
     "output_type": "stream",
     "text": [
      "Enter numbers: 4 8 9\n",
      "4 is Even\n",
      "8 is Even\n",
      "9 is Odd\n"
     ]
    }
   ],
   "source": [
    "#1. Write function to get a number from users and check whether given number is odd or even.\n",
    "def check(num):\n",
    "    if num % 2 == 0:\n",
    "        print(num,\"is Even\")\n",
    "    else:\n",
    "        print(num, \"is Odd\")\n",
    "num = input(\"Enter numbers: \")\n",
    "numbers = list(map(int, num.split()))\n",
    "res = list(map(check, numbers))\n"
   ]
  },
  {
   "cell_type": "code",
   "execution_count": 1,
   "metadata": {},
   "outputs": [
    {
     "name": "stdout",
     "output_type": "stream",
     "text": [
      "Enter a number: 4\n"
     ]
    },
    {
     "data": {
      "text/plain": [
       "[True]"
      ]
     },
     "execution_count": 1,
     "metadata": {},
     "output_type": "execute_result"
    }
   ],
   "source": [
    "#2. Write function to check whether given number is a prime number or not.\n",
    "def is_prime(num):\n",
    "    if num < 4:\n",
    "        return False\n",
    "    for i in range(4, int(num**0.5) + 1):\n",
    "        if num % i == 0:\n",
    "            return False\n",
    "    return True\n",
    "\n",
    "num = input(\"Enter a number: \")\n",
    "nums = list(map(int, num.split()))\n",
    "result = list(map(is_prime, nums))\n",
    "result"
   ]
  },
  {
   "cell_type": "code",
   "execution_count": 3,
   "metadata": {},
   "outputs": [
    {
     "name": "stdout",
     "output_type": "stream",
     "text": [
      "Enter the numbers separated by spaces: 4 8 7\n",
      "Product = 224\n"
     ]
    }
   ],
   "source": [
    "#3. Calculate the product of all elements in a list.\n",
    "from functools import reduce\n",
    "numbers = input(\"Enter the numbers separated by spaces: \")\n",
    "numbers_list = numbers.split()\n",
    "numbers_list = [int(num) for num in numbers_list]\n",
    "product = reduce(lambda x, y: x * y, numbers_list)\n",
    "\n",
    "print(\"Product =\", product)"
   ]
  },
  {
   "cell_type": "code",
   "execution_count": 18,
   "metadata": {},
   "outputs": [
    {
     "name": "stdout",
     "output_type": "stream",
     "text": [
      "(2.0, 3.0, 4.0)\n"
     ]
    }
   ],
   "source": [
    "#4. Get the square root if the number in a tuple.\n",
    "import math\n",
    "my_tuple = (4, 9, 16)\n",
    "sqrt_tuple = tuple(map(lambda x: math.sqrt(x), my_tuple))\n",
    "print(sqrt_tuple)"
   ]
  },
  {
   "cell_type": "code",
   "execution_count": 23,
   "metadata": {},
   "outputs": [
    {
     "name": "stdout",
     "output_type": "stream",
     "text": [
      " Prime numbers from numbers 11 to 30 are [11, 13, 17, 19, 23, 29]\n"
     ]
    }
   ],
   "source": [
    "#5. Get the prime numbers from te numbers 11 to 30.\n",
    "num = range(11, 31)\n",
    "prime_numbers = list(filter(lambda x: all(x % i != 0 for i in range(2, int(x**0.5) + 1)), num))\n",
    "print(\" Prime numbers from numbers 11 to 30 are\" ,prime_numbers)\n"
   ]
  },
  {
   "cell_type": "code",
   "execution_count": 36,
   "metadata": {},
   "outputs": [
    {
     "name": "stdout",
     "output_type": "stream",
     "text": [
      "Enter the numbers for the first list, separated by spaces: 4 8 6 7\n",
      "Enter the numbers for the second list, separated by spaces: 7 5 7 1\n",
      "list1: [4, 8, 6, 7]\n",
      "list2: [7, 5, 7, 1]\n",
      "Sum of 2 list: [11, 13, 13, 8]\n",
      "Filtered values greater than 10: [11, 13, 13]\n",
      "The product of the filtered values greater than 10 is 1859\n"
     ]
    }
   ],
   "source": [
    "#create 2 lists of interger values, add both the list element-wise and filter the values which are greater than 10 and find the product of those values.\n",
    "list1_input = input(\"Enter the numbers for the first list, separated by spaces: \")\n",
    "list1 = list(map(int, list1_input.split()))\n",
    "\n",
    "list2_input = input(\"Enter the numbers for the second list, separated by spaces: \")\n",
    "list2 = list(map(int, list2_input.split()))\n",
    "\n",
    "print(\"list1:\",list1)\n",
    "print(\"list2:\",list2)\n",
    "\n",
    "added_list = list(map(lambda x, y: x + y, list1, list2))\n",
    "print(\"Sum of 2 list:\",added_list)\n",
    "\n",
    "filtered_list = list(filter(lambda x: x > 10, added_list))\n",
    "print(\"Filtered values greater than 10:\",filtered_list)\n",
    "\n",
    "product = reduce(lambda x, y: x * y, filtered_list)\n",
    "print(\"The product of the filtered values greater than 10 is\", product)"
   ]
  },
  {
   "cell_type": "markdown",
   "metadata": {},
   "source": [
    "# Practice programs"
   ]
  },
  {
   "cell_type": "code",
   "execution_count": 1,
   "metadata": {},
   "outputs": [
    {
     "name": "stdout",
     "output_type": "stream",
     "text": [
      "Enter the base number: 4\n",
      "Enter the exponent: 2\n",
      "The result is: 16.0\n"
     ]
    }
   ],
   "source": [
    "# Python Program to Compute the Power of a Number.\n",
    "base = float(input(\"Enter the base number: \"))\n",
    "exponent = int(input(\"Enter the exponent: \"))\n",
    "power = (lambda x,y:(x ** y))(base, exponent)\n",
    "print(\"The result is:\", power)"
   ]
  },
  {
   "cell_type": "code",
   "execution_count": 2,
   "metadata": {},
   "outputs": [
    {
     "name": "stdout",
     "output_type": "stream",
     "text": [
      "Enter a number: 4665\n",
      "The number of digits in the given number is: 4\n"
     ]
    }
   ],
   "source": [
    "#Python Program to Count the Number of Digits Present In a Number.\n",
    "number = int(input(\"Enter a number: \"))\n",
    "digit_count = len(str(number))\n",
    "print(\"The number of digits in the given number is:\", digit_count)"
   ]
  },
  {
   "cell_type": "code",
   "execution_count": 12,
   "metadata": {},
   "outputs": [
    {
     "name": "stdout",
     "output_type": "stream",
     "text": [
      "Enter a list of elements space-separated 4 5 4 2 7 4\n",
      "List after removing duplicates: ['4', '5', '2', '7']\n"
     ]
    }
   ],
   "source": [
    "#Python Program to Remove Duplicate Element From a List.\n",
    "from functools import reduce\n",
    "\n",
    "def remove_duplicates(lst):\n",
    "    return reduce(lambda x, y: x if y in x else x + [y], lst, [])\n",
    "\n",
    "input_list = input(\"Enter a list of elements space-separated \").split()\n",
    "result = remove_duplicates(input_list)\n",
    "print(\"List after removing duplicates:\", result)"
   ]
  },
  {
   "cell_type": "code",
   "execution_count": 39,
   "metadata": {},
   "outputs": [
    {
     "name": "stdout",
     "output_type": "stream",
     "text": [
      "Enter year: 2001\n",
      "Enter month: 2\n",
      "   February 2001\n",
      "Mo Tu We Th Fr Sa Su\n",
      "          1  2  3  4\n",
      " 5  6  7  8  9 10 11\n",
      "12 13 14 15 16 17 18\n",
      "19 20 21 22 23 24 25\n",
      "26 27 28\n",
      "\n"
     ]
    }
   ],
   "source": [
    "#Python Program to Display Calendar\n",
    "import calendar\n",
    "year = int(input(\"Enter year: \"))\n",
    "month = int(input(\"Enter month: \"))\n",
    "cal = calendar.month(year, month)\n",
    "print(cal)"
   ]
  },
  {
   "cell_type": "code",
   "execution_count": 16,
   "metadata": {},
   "outputs": [
    {
     "name": "stdout",
     "output_type": "stream",
     "text": [
      "Enter the elements of the array 4 5 7 2\n",
      "The sum of the array is: 18\n"
     ]
    }
   ],
   "source": [
    "#Python Program to find the sum of arrays\n",
    "array = input(\"Enter the elements of the array \").split()\n",
    "array = list(map(int, array))\n",
    "sum = reduce(lambda x, y: x + y, array)\n",
    "print(\"The sum of the array is:\", sum)"
   ]
  },
  {
   "cell_type": "code",
   "execution_count": 33,
   "metadata": {},
   "outputs": [
    {
     "name": "stdout",
     "output_type": "stream",
     "text": [
      "Enter a string: www.google.com\n",
      "The input contains a URL\n"
     ]
    }
   ],
   "source": [
    "# Python to Check for URL in a String.\n",
    "def check_url(string):\n",
    "    if \"http://\" or \"www.\" in string:\n",
    "        return True\n",
    "    else:\n",
    "        return False\n",
    "\n",
    "user_input = input(\"Enter a string: \")\n",
    "\n",
    "if check_url(user_input):\n",
    "    print(\"The input contains a URL\")\n",
    "else:\n",
    "    print(\"No URL found in the input.\")"
   ]
  },
  {
   "cell_type": "code",
   "execution_count": 20,
   "metadata": {},
   "outputs": [
    {
     "name": "stdout",
     "output_type": "stream",
     "text": [
      "List of tuples with number and its cube: [(1, 1), (2, 8), (3, 27), (4, 64), (5, 125)]\n"
     ]
    }
   ],
   "source": [
    "#Create a list of tuples from the given list having number and its cube in each tuple\n",
    "lis = [1, 2, 3, 4, 5]\n",
    "tup = list(map(lambda x:(x,x**3),lis))\n",
    "print(\"List of tuples with number and its cube:\",tup)"
   ]
  },
  {
   "cell_type": "code",
   "execution_count": 24,
   "metadata": {},
   "outputs": [
    {
     "name": "stdout",
     "output_type": "stream",
     "text": [
      "[1, 2, 3, 4, 5, 6, 7, 8, 9]\n",
      "List after deleting all the elements: []\n"
     ]
    }
   ],
   "source": [
    "#Python program to Delete all Elements in List.\n",
    "myList = [1, 2, 3, 4, 5, 6, 7, 8, 9]\n",
    "print(myList)\n",
    "while myList:\n",
    "    myList.pop()\n",
    "print(\"List after deleting all the elements:\",myList)"
   ]
  },
  {
   "cell_type": "code",
   "execution_count": 12,
   "metadata": {},
   "outputs": [
    {
     "name": "stdout",
     "output_type": "stream",
     "text": [
      "Enter the basic salary: 15000\n",
      "The gross salary is: 19500.0\n"
     ]
    }
   ],
   "source": [
    "#Python Program to Enter Basic Salary and Calculate Gross Salary of an Employee.\n",
    "def calculate_gross_salary(basic_salary):\n",
    "    allowances = 0.3 * basic_salary\n",
    "    gross_salary = basic_salary + allowances\n",
    "    return gross_salary\n",
    "basic_salary = float(input(\"Enter the basic salary: \"))\n",
    "gross_salary = calculate_gross_salary(basic_salary)\n",
    "print(\"The gross salary is:\", gross_salary)"
   ]
  },
  {
   "cell_type": "code",
   "execution_count": 5,
   "metadata": {},
   "outputs": [
    {
     "name": "stdout",
     "output_type": "stream",
     "text": [
      "Enter the numbers separated by spaces: 1 2 3 4\n",
      "The average of the numbers in the list is: 2.5\n"
     ]
    }
   ],
   "source": [
    "#Python Program to Calculate the Average of Numbers in a Given List.\n",
    "from functools import reduce\n",
    "def sum_num(x, y):\n",
    "    return x + y\n",
    "numbers = list(map(int, input(\"Enter the numbers separated by spaces: \").split()))\n",
    "sum_num = reduce(sum_num, numbers)\n",
    "average = sum_num / len(numbers)\n",
    "print(\"The average of the numbers in the list is:\", average)"
   ]
  },
  {
   "cell_type": "code",
   "execution_count": null,
   "metadata": {},
   "outputs": [],
   "source": []
  },
  {
   "cell_type": "code",
   "execution_count": null,
   "metadata": {},
   "outputs": [],
   "source": []
  }
 ],
 "metadata": {
  "kernelspec": {
   "display_name": "Python 3",
   "language": "python",
   "name": "python3"
  },
  "language_info": {
   "codemirror_mode": {
    "name": "ipython",
    "version": 3
   },
   "file_extension": ".py",
   "mimetype": "text/x-python",
   "name": "python",
   "nbconvert_exporter": "python",
   "pygments_lexer": "ipython3",
   "version": "3.7.0"
  }
 },
 "nbformat": 4,
 "nbformat_minor": 2
}
