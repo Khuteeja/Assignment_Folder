{
 "cells": [
  {
   "cell_type": "code",
   "execution_count": 1,
   "metadata": {},
   "outputs": [
    {
     "name": "stdout",
     "output_type": "stream",
     "text": [
      "Enter the user name: Madeeha\n",
      "Enter the user age: 18\n",
      "Enter the user email: madeeha@xyz.com\n",
      "Enter the user phone number: 9874563210\n",
      "Enter the user address: Hubballi\n",
      "Enter the user profession: Student\n",
      "User Biography:\n",
      "\n",
      "Name: Madeeha\n",
      "Age: 18\n",
      "Email: madeeha@xyz.com\n",
      "Phone Number: 9874563210\n",
      "Address: Hubballi\n",
      "Profession: Student\n"
     ]
    }
   ],
   "source": [
    "# Enter the user Information\n",
    "user_name = input(\"Enter the user name: \")\n",
    "user_age = input(\"Enter the user age: \")\n",
    "user_email = input(\"Enter the user email: \")\n",
    "user_phone_number = input(\"Enter the user phone number: \")\n",
    "user_address = input(\"Enter the user address: \")\n",
    "user_profession = input(\"Enter the user profession: \")\n",
    "\n",
    "# Create a user biodata\n",
    "biography = f\"User Biography:\\n\\nName: {user_name}\\nAge: {user_age}\\nEmail: {user_email}\\nPhone Number: {user_phone_number}\\nAddress: {user_address}\\nProfession: {user_profession}\"\n",
    "\n",
    "# Print the biodata\n",
    "print(biography) # it prints the entered detailed "
   ]
  },
  {
   "cell_type": "code",
   "execution_count": null,
   "metadata": {},
   "outputs": [],
   "source": [
    " "
   ]
  }
 ],
 "metadata": {
  "kernelspec": {
   "display_name": "Python 3",
   "language": "python",
   "name": "python3"
  },
  "language_info": {
   "codemirror_mode": {
    "name": "ipython",
    "version": 3
   },
   "file_extension": ".py",
   "mimetype": "text/x-python",
   "name": "python",
   "nbconvert_exporter": "python",
   "pygments_lexer": "ipython3",
   "version": "3.7.0"
  }
 },
 "nbformat": 4,
 "nbformat_minor": 2
}
