{
 "cells": [
  {
   "cell_type": "markdown",
   "metadata": {},
   "source": [
    "##### create 5 differnet classes of real world objects with 4 properties in each class and call a function from each class to print attributes of that specific class.\n"
   ]
  },
  {
   "cell_type": "code",
   "execution_count": 19,
   "metadata": {},
   "outputs": [
    {
     "name": "stdout",
     "output_type": "stream",
     "text": [
      "My name is Rahul Kapoor and I'm 30 years old.I am working as Developer in Amazon.\n"
     ]
    }
   ],
   "source": [
    "class Employee:\n",
    "    def details(self, name, age, position, company):\n",
    "        self.name = name\n",
    "        self.age = age\n",
    "        self.position = position\n",
    "        self.company = company\n",
    "        print(f\"My name is {self.name} and I'm {self.age} years old.I am working as {self.position} in {self.company}.\")\n",
    "\n",
    "employee1 = Employee()\n",
    "employee1.details(\"Rahul Kapoor\", 30, \"Developer\", \"Amazon\")"
   ]
  },
  {
   "cell_type": "code",
   "execution_count": 52,
   "metadata": {},
   "outputs": [
    {
     "name": "stdout",
     "output_type": "stream",
     "text": [
      "Hubballi is a city in the state of Karnataka.It is known for its historical significance and city serves as an important commercial hub in the region\n"
     ]
    }
   ],
   "source": [
    "class Place:\n",
    "    def details(self,city,state,discription):\n",
    "        self.city=city\n",
    "        self.state=state\n",
    "        self.discription=discription\n",
    "        print(f\"{self.city} is a city in the state of {self.state}.{self.discription}\")\n",
    "city1=Place()\n",
    "city1.details(\"Hubballi\",\"Karnataka\", \"It is known for its historical significance and city serves as an important commercial hub in the region\")"
   ]
  },
  {
   "cell_type": "code",
   "execution_count": 39,
   "metadata": {},
   "outputs": [
    {
     "name": "stdout",
     "output_type": "stream",
     "text": [
      "Brand: Apple\n",
      "Model: iPhone 13\n",
      "Year: 2021\n",
      "Color: Blue\n"
     ]
    }
   ],
   "source": [
    "\n",
    "class Phone:\n",
    "    def details(self, brand, model, year, color):\n",
    "        self.brand = brand\n",
    "        self.model = model\n",
    "        self.year = year\n",
    "        self.color = color\n",
    "        print(f\"Brand: {self.brand}\\nModel: {self.model}\\nYear: {self.year}\\nColor: {self.color}\")\n",
    "\n",
    "phone = Phone()\n",
    "phone.details(\"Apple\", \"iPhone 13\", 2021, \"Blue\")\n"
   ]
  },
  {
   "cell_type": "code",
   "execution_count": 44,
   "metadata": {},
   "outputs": [
    {
     "name": "stdout",
     "output_type": "stream",
     "text": [
      "My name is Heema Rao and I'm 22 years old. I am a student with roll number 123 and i have obtained 600 marks in my semester end examination.\n"
     ]
    }
   ],
   "source": [
    "\n",
    "class Student:\n",
    "    def details(self, name, age, roll_number, marks):\n",
    "        self.name=name\n",
    "        self.age=age\n",
    "        self.roll_number = roll_number\n",
    "        self.marks = marks\n",
    "        print(f\"My name is {self.name} and I'm {self.age} years old. I am a student with roll number {self.roll_number} and i have obtained {self.marks} marks in my semester end examination.\")\n",
    "student1 = Student()\n",
    "student1.details(\"Heema Rao\",22,123,600)"
   ]
  },
  {
   "cell_type": "code",
   "execution_count": 51,
   "metadata": {},
   "outputs": [
    {
     "name": "stdout",
     "output_type": "stream",
     "text": [
      "The book 'Harry Potter and the Sorcerer's Stone' by J.K. Rowling is a Fantasy published in 1997.\n"
     ]
    }
   ],
   "source": [
    "class Book:\n",
    "    def display_info(self, title, author, genre, year):\n",
    "        self.title = title\n",
    "        self.author = author\n",
    "        self.genre = genre\n",
    "        self.year = year\n",
    "        print(f\"The book '{self.title}' by {self.author} is a {self.genre} published in {self.year}.\")\n",
    "\n",
    "book1 = Book()\n",
    "book1.display_info(\"Harry Potter and the Sorcerer's Stone\", \"J.K. Rowling\", \"Fantasy\", 1997)"
   ]
  },
  {
   "cell_type": "code",
   "execution_count": null,
   "metadata": {},
   "outputs": [],
   "source": []
  }
 ],
 "metadata": {
  "kernelspec": {
   "display_name": "Python 3",
   "language": "python",
   "name": "python3"
  },
  "language_info": {
   "codemirror_mode": {
    "name": "ipython",
    "version": 3
   },
   "file_extension": ".py",
   "mimetype": "text/x-python",
   "name": "python",
   "nbconvert_exporter": "python",
   "pygments_lexer": "ipython3",
   "version": "3.10.1"
  }
 },
 "nbformat": 4,
 "nbformat_minor": 2
}
