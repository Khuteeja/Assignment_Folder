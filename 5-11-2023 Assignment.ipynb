{
 "cells": [
  {
   "cell_type": "markdown",
   "metadata": {},
   "source": [
    "## Weekly Assignment of Ai with Python - Module 1. 04-11-2023\n",
    "Last date of submission: 06-11-2023\n",
    "______________________________________________________________________________"
   ]
  },
  {
   "cell_type": "markdown",
   "metadata": {},
   "source": [
    "##### 1. Write a Python program which accepts a sequence of comma-separated numbers from user and generate a list  with those numbers"
   ]
  },
  {
   "cell_type": "code",
   "execution_count": 3,
   "metadata": {},
   "outputs": [
    {
     "name": "stdout",
     "output_type": "stream",
     "text": [
      "Enter a sequence of numbers separated by commas: 5,8,3,7\n"
     ]
    },
    {
     "data": {
      "text/plain": [
       "[5, 8, 3, 7]"
      ]
     },
     "execution_count": 3,
     "metadata": {},
     "output_type": "execute_result"
    }
   ],
   "source": [
    "#code\n",
    "numbers = input(\"Enter a sequence of numbers separated by commas: \")\n",
    "number_list = numbers.split(\",\")\n",
    "result = [int(num) for num in number_list]\n",
    "result\n"
   ]
  },
  {
   "cell_type": "markdown",
   "metadata": {},
   "source": [
    "##### 2. Write a Python program to accept a filename from the user and print the extension of that"
   ]
  },
  {
   "cell_type": "code",
   "execution_count": 6,
   "metadata": {},
   "outputs": [
    {
     "name": "stdout",
     "output_type": "stream",
     "text": [
      "Enter a filename: file1.html\n",
      "The extension of the file is: html\n"
     ]
    }
   ],
   "source": [
    "# code\n",
    "filename = input(\"Enter a filename: \")\n",
    "extension = filename.split(\".\")[-1]\n",
    "print(\"The extension of the file is:\", extension)"
   ]
  },
  {
   "cell_type": "markdown",
   "metadata": {},
   "source": [
    "##### 3. Write a Python program to display the first and last colors from the following list color_list = [\"yellow\",\"Green\",\"grey\" ,\"orange\"]"
   ]
  },
  {
   "cell_type": "markdown",
   "metadata": {},
   "source": []
  },
  {
   "cell_type": "code",
   "execution_count": 8,
   "metadata": {},
   "outputs": [
    {
     "name": "stdout",
     "output_type": "stream",
     "text": [
      "The first color is: yellow\n",
      "The last color is: orange\n"
     ]
    }
   ],
   "source": [
    "# code\n",
    "color_list = [\"yellow\",\"Green\",\"grey\" ,\"orange\"]\n",
    "\n",
    "# Display the first color\n",
    "print(\"The first color is:\",color_list[0])\n",
    "\n",
    "# Display the last color\n",
    "print(\"The last color is:\",color_list[-1])\n"
   ]
  },
  {
   "cell_type": "markdown",
   "metadata": {},
   "source": [
    "##### 4. Write a program that checks if a given string is a palindrome."
   ]
  },
  {
   "cell_type": "code",
   "execution_count": 29,
   "metadata": {},
   "outputs": [
    {
     "name": "stdout",
     "output_type": "stream",
     "text": [
      "Enter a string: madam\n",
      "Given string is a palindrome\n"
     ]
    }
   ],
   "source": [
    "# Explain\n",
    "# Code\n",
    "string=input(\"Enter a string: \")\n",
    "new_string=string[::-1]\n",
    "if new_string == string:\n",
    "    print(\"Given string is a palindrome\")\n",
    "else:\n",
    "    print(\"Given string is not a palindrome\")"
   ]
  },
  {
   "cell_type": "markdown",
   "metadata": {},
   "source": [
    "##### 5. Return the count of sub-string “Shubhangi” appears in the given string - \"Shubhangi is good developer. Shubhangi is a Data Scientist\""
   ]
  },
  {
   "cell_type": "code",
   "execution_count": 33,
   "metadata": {},
   "outputs": [
    {
     "name": "stdout",
     "output_type": "stream",
     "text": [
      "The sub-string 'Shubhangi' appears 2 times in the given string.\n"
     ]
    }
   ],
   "source": [
    "# Code\n",
    "input_string = \"Shubhangi is a good developer. Shubhangi is a Data Scientist.\"\n",
    "count=input_string.count(\"Shubhangi\") \n",
    "print(\"The sub-string 'Shubhangi' appears\", count, \"times in the given string.\")"
   ]
  },
  {
   "cell_type": "markdown",
   "metadata": {},
   "source": [
    "##### 6. Write a function to calculate area and perimeter of a rectangle."
   ]
  },
  {
   "cell_type": "code",
   "execution_count": 35,
   "metadata": {},
   "outputs": [
    {
     "name": "stdout",
     "output_type": "stream",
     "text": [
      "Enter the length of the rectangle: 4\n",
      "Enter the width of the rectangle: 5\n",
      "The area of the rectangle is: 20.0\n",
      "The perimeter of the rectangle is: 18.0\n"
     ]
    }
   ],
   "source": [
    "# code\n",
    "length = float(input(\"Enter the length of the rectangle: \"))\n",
    "width = float(input(\"Enter the width of the rectangle: \"))\n",
    "area = length * width\n",
    "perimeter = 2 * (length + width)\n",
    "print(\"The area of the rectangle is:\", area)\n",
    "print(\"The perimeter of the rectangle is:\", perimeter)\n"
   ]
  },
  {
   "cell_type": "markdown",
   "metadata": {},
   "source": [
    "##### 7. Write a function to tell user if he/she is able to vote or not."
   ]
  },
  {
   "cell_type": "code",
   "execution_count": 37,
   "metadata": {},
   "outputs": [
    {
     "name": "stdout",
     "output_type": "stream",
     "text": [
      "Enter your age:5\n",
      "Sorry, you are not eligible to vote yet.\n"
     ]
    }
   ],
   "source": [
    "# code\n",
    "age=int(input(\"Enter your age:\"))\n",
    "if age >= 18:\n",
    "    print(\"You are eligible to vote\")\n",
    "else:\n",
    "    print(\"Sorry, you are not eligible to vote yet.\") "
   ]
  },
  {
   "cell_type": "markdown",
   "metadata": {},
   "source": [
    "##### 8. Write a program to check if each word in a string begins with a capital letter?"
   ]
  },
  {
   "cell_type": "code",
   "execution_count": 9,
   "metadata": {},
   "outputs": [
    {
     "name": "stdout",
     "output_type": "stream",
     "text": [
      "Enter a sentence: hello python\n",
      "Not all words in the sentence start with a capital letter.\n"
     ]
    }
   ],
   "source": [
    "# code\n",
    "sentence = input(\"Enter a sentence: \")\n",
    "\n",
    "# Split the sentence into words\n",
    "words = sentence.split()\n",
    "\n",
    "# Initialize a flag to assume all words start with a capital letter\n",
    "all_words_start_with_capital = True\n",
    "\n",
    "# Check each word in the list\n",
    "for word in words:\n",
    "    if not word[0].isupper():\n",
    "        all_words_start_with_capital = False\n",
    "\n",
    "# Print the result\n",
    "if all_words_start_with_capital:\n",
    "    print(\"All words in the sentence start with a capital letter.\")\n",
    "else:\n",
    "    print(\"Not all words in the sentence start with a capital letter.\") "
   ]
  },
  {
   "cell_type": "markdown",
   "metadata": {},
   "source": [
    "##### 9. Write a program to Check if a string contains a specific substring."
   ]
  },
  {
   "cell_type": "code",
   "execution_count": 4,
   "metadata": {},
   "outputs": [
    {
     "name": "stdout",
     "output_type": "stream",
     "text": [
      "Enter a string: The sun rises in the east\n",
      "Enter a substring: in\n",
      "The string contains the specified substring.\n"
     ]
    }
   ],
   "source": [
    "# code\n",
    "string = input(\"Enter a string: \")\n",
    "substring = input(\"Enter a substring: \")\n",
    "if substring in string:\n",
    "    print(\"The string contains the specified substring.\")\n",
    "else:\n",
    "    print(\"The string does not contain the specified substring.\")"
   ]
  },
  {
   "cell_type": "markdown",
   "metadata": {},
   "source": [
    "##### 10. Capitalize the first character of a string"
   ]
  },
  {
   "cell_type": "code",
   "execution_count": 5,
   "metadata": {},
   "outputs": [
    {
     "name": "stdout",
     "output_type": "stream",
     "text": [
      "Enter a string: hello python\n",
      "Hello python\n"
     ]
    }
   ],
   "source": [
    "string = input(\"Enter a string: \")\n",
    "capitalized_string = string.capitalize()\n",
    "print(capitalized_string)"
   ]
  },
  {
   "cell_type": "markdown",
   "metadata": {},
   "source": [
    "##### 11. Reverse the string “hello world”"
   ]
  },
  {
   "cell_type": "code",
   "execution_count": 11,
   "metadata": {},
   "outputs": [
    {
     "name": "stdout",
     "output_type": "stream",
     "text": [
      "reversed string is: dlrow olleh\n"
     ]
    }
   ],
   "source": [
    "# code\n",
    "string=\"hello world\"\n",
    "\n",
    "print(\"reversed string is:\", string[::-1])"
   ]
  },
  {
   "cell_type": "markdown",
   "metadata": {},
   "source": [
    "##### 12. Write a program to display the last digit of a number. (hint : any number % 10 will return the last digit)"
   ]
  },
  {
   "cell_type": "code",
   "execution_count": 8,
   "metadata": {},
   "outputs": [
    {
     "name": "stdout",
     "output_type": "stream",
     "text": [
      "Enter a number: 45\n",
      "The last digit of the number is: 5\n"
     ]
    }
   ],
   "source": [
    "# code\n",
    "number = input(\"Enter a number: \")\n",
    "last_digit = int(number) % 10\n",
    "print(\"The last digit of the number is:\", last_digit)"
   ]
  },
  {
   "cell_type": "markdown",
   "metadata": {},
   "source": [
    "##### 13. Write a program to check whether an years is leap year or not."
   ]
  },
  {
   "cell_type": "code",
   "execution_count": 15,
   "metadata": {},
   "outputs": [
    {
     "name": "stdout",
     "output_type": "stream",
     "text": [
      "Enter a year: 2012\n",
      "It's a leap year!\n"
     ]
    }
   ],
   "source": [
    "# code\n",
    "year = int(input(\"Enter a year: \"))\n",
    "if (year % 4 == 0 ):\n",
    "    print(\"It's a leap year!\")\n",
    "else:\n",
    "    print(\"It's not a leap year.\")"
   ]
  },
  {
   "cell_type": "markdown",
   "metadata": {},
   "source": [
    "##### 14. Write a program to accept a number from 1 to 7 and display the name of the day like 1 for Sunday , 2 for Monday and so on."
   ]
  },
  {
   "cell_type": "code",
   "execution_count": 12,
   "metadata": {},
   "outputs": [
    {
     "name": "stdout",
     "output_type": "stream",
     "text": [
      "Enter a number from 1 to 7: 5\n",
      "The day is Thursday\n"
     ]
    }
   ],
   "source": [
    "# code\n",
    "day_number = int(input(\"Enter a number from 1 to 7: \"))\n",
    "\n",
    "# Define a list of days\n",
    "days = [\"Sunday\", \"Monday\", \"Tuesday\", \"Wednesday\", \"Thursday\", \"Friday\", \"Saturday\"]\n",
    "\n",
    "# Check if the input is within the valid range\n",
    "if 1 <= day_number <= 7:\n",
    "    # Display the day corresponding to the input\n",
    "    print(\"The day is\", days[day_number - 1])\n",
    "else:\n",
    "    print(\"Invalid input. Please enter a number from 1 to 7.\") "
   ]
  },
  {
   "cell_type": "markdown",
   "metadata": {},
   "source": [
    "##### 15. Write a program to check whether a number (accepted from user) is positive or negative."
   ]
  },
  {
   "cell_type": "code",
   "execution_count": 17,
   "metadata": {},
   "outputs": [
    {
     "name": "stdout",
     "output_type": "stream",
     "text": [
      "Enter a number: 4\n",
      "The number is positive\n"
     ]
    }
   ],
   "source": [
    "# code\n",
    "number = int(input(\"Enter a number: \"))\n",
    "if number > 0:\n",
    "    print(\"The number is positive\")\n",
    "elif number < 0:\n",
    "    print(\"The number is negative\")\n",
    "else:\n",
    "    print(\"The number is zero\")"
   ]
  },
  {
   "cell_type": "markdown",
   "metadata": {},
   "source": [
    "##### 16. Write a program to whether a number (accepted from user) is divisible by 2 and 3 both."
   ]
  },
  {
   "cell_type": "code",
   "execution_count": 19,
   "metadata": {},
   "outputs": [
    {
     "name": "stdout",
     "output_type": "stream",
     "text": [
      "Enter a number: 6\n",
      "The number is divisible by both 2 and 3\n"
     ]
    }
   ],
   "source": [
    "# code\n",
    "number = int(input(\"Enter a number: \"))\n",
    "\n",
    "if number % 2 == 0 and number % 3 == 0:\n",
    "    print(\"The number is divisible by both 2 and 3\")\n",
    "else:\n",
    "    print(\"The number is not divisible by both 2 and 3\")"
   ]
  },
  {
   "cell_type": "markdown",
   "metadata": {},
   "source": [
    "### List\n",
    "Basic List Operations:\n",
    "\n",
    "Create an empty list.\n",
    "Add an element to the end of the list.\n",
    "Insert an element at a specific position in the list.\n",
    "Remove an element from the list.\n",
    "Check if an element is present in the list.\n",
    "List Slicing and Indexing:\n",
    "\n",
    "Print the first element of the list.\n",
    "Print the last element of the list.\n",
    "Print elements from index 2 to 5 (exclusive) using slicing.\n",
    "Print every alternate element of the list.\n",
    "List Functions:\n",
    "\n",
    "Find the length of the list.\n",
    "Sort the list in ascending order.\n",
    "Reverse the list.\n",
    "Remove the last element from the list.\n",
    "Clear all elements from the list.\n",
    "List Comprehension:\n",
    "\n",
    "Create a new list containing squares of elements from the original list.\n",
    "Create a new list containing only even numbers from the original list.\n",
    "Nested Lists:\n",
    "\n",
    "Create a nested list containing two lists: [1, 2, 3] and ['a', 'b', 'c'].\n",
    "Access the second element of the first list inside the nested list.\n",
    "Modify the third element of the second list inside the nested list.\n",
    "List Methods:\n",
    "\n",
    "Use the append() method to add an element to the end of the list.\n",
    "Use the count() method to count the number of occurrences of a specific element.\n",
    "Use the index() method to find the index of a specific element.\n",
    "Use the remove() method to remove the first occurrence of a specific element.\n",
    "Use the extend() method to add elements from another list to the current list."
   ]
  },
  {
   "cell_type": "markdown",
   "metadata": {},
   "source": [
    "##### 17. Write a program that takes a list of numbers as input and calculates their sum.\n"
   ]
  },
  {
   "cell_type": "code",
   "execution_count": 21,
   "metadata": {},
   "outputs": [
    {
     "name": "stdout",
     "output_type": "stream",
     "text": [
      "The given list is:\n",
      "[1, 2, 3, 4, 5, 6, 7, 8, 9]\n",
      "Sum of all the elements in the list is: 45\n"
     ]
    }
   ],
   "source": [
    "# code\n",
    "myList = [1, 2, 3, 4, 5, 6, 7, 8, 9]\n",
    "print(\"The given list is:\")\n",
    "print(myList)\n",
    "sumOfElements = sum(myList)\n",
    "print(\"Sum of all the elements in the list is:\", sumOfElements)"
   ]
  },
  {
   "cell_type": "markdown",
   "metadata": {},
   "source": [
    "##### 18. List Modification Initialize a list with elements [2, 4, 6, 8, 10]Append the number 12 to the end of the list. Remove the element 6 from the list. Print the modified list."
   ]
  },
  {
   "cell_type": "code",
   "execution_count": 24,
   "metadata": {},
   "outputs": [
    {
     "name": "stdout",
     "output_type": "stream",
     "text": [
      "[2, 4, 8, 10, 12]\n"
     ]
    }
   ],
   "source": [
    "# code\n",
    "my_list = [2, 4, 6, 8, 10]\n",
    "my_list.append(12)\n",
    "my_list.remove(6)\n",
    "print(my_list)\n"
   ]
  },
  {
   "cell_type": "markdown",
   "metadata": {},
   "source": [
    "##### 19. List Operations Initialize two lists: [1, 2, 3] and [4, 5, 6]. Concatenate these lists without using the + operator. Print the concatenated list."
   ]
  },
  {
   "cell_type": "code",
   "execution_count": 22,
   "metadata": {},
   "outputs": [
    {
     "name": "stdout",
     "output_type": "stream",
     "text": [
      "[1, 2, 3, 4, 5, 6]\n"
     ]
    }
   ],
   "source": [
    "# code\n",
    "list1 = [1, 2, 3]\n",
    "list2 = [4, 5, 6]\n",
    "list1.extend(list2)\n",
    "print(list1)"
   ]
  },
  {
   "cell_type": "markdown",
   "metadata": {},
   "source": [
    "### Tuple \n",
    "Python tuples are a type of data structure that is very similar to lists. The main difference between the two is that tuples are immutable, meaning they cannot be changed once they are created. This makes them ideal for storing data that should not be modified, such as database records."
   ]
  },
  {
   "cell_type": "markdown",
   "metadata": {},
   "source": [
    "https://pynative.com/wp-content/uploads/2021/02/python-tuple.jpg"
   ]
  },
  {
   "cell_type": "markdown",
   "metadata": {},
   "source": [
    "##### 20. Create and explain the working of tuple."
   ]
  },
  {
   "cell_type": "code",
   "execution_count": 1,
   "metadata": {},
   "outputs": [],
   "source": [
    "#code\n",
    "my_tuple = (1, 2, 3, \"apple\", \"banana\")\n",
    "\n",
    "\n",
    "#Tuples can store different types of data, such as numbers, strings, or even other tuples. \n",
    "#We can access individual elements in a tuple using indexing, just like with lists. \n",
    "#Since tuples are immutable,we cannot modify or add elements to a tuple once it is created. \n",
    "#We can perform operations like slicing, concatenation, and finding the length of a tuple.\n"
   ]
  },
  {
   "cell_type": "markdown",
   "metadata": {},
   "source": [
    "##### 21. Initialize and Access Tuple Elements\n",
    "\n",
    "Initialize a tuple with elements (3, 6, 9, 12, 15).\n",
    "Print the second element of the tuple.\n",
    "Attempt to change the value of the second element (this will show that tuples are immutable)."
   ]
  },
  {
   "cell_type": "code",
   "execution_count": 38,
   "metadata": {},
   "outputs": [
    {
     "name": "stdout",
     "output_type": "stream",
     "text": [
      "second element of the tuple is 6\n"
     ]
    },
    {
     "ename": "TypeError",
     "evalue": "'tuple' object does not support item assignment",
     "output_type": "error",
     "traceback": [
      "\u001b[1;31m---------------------------------------------------------------------------\u001b[0m",
      "\u001b[1;31mTypeError\u001b[0m                                 Traceback (most recent call last)",
      "\u001b[1;32m<ipython-input-38-3f72e0fc9838>\u001b[0m in \u001b[0;36m<module>\u001b[1;34m()\u001b[0m\n\u001b[0;32m      2\u001b[0m \u001b[0mtuple1\u001b[0m\u001b[1;33m=\u001b[0m\u001b[1;33m(\u001b[0m\u001b[1;36m3\u001b[0m\u001b[1;33m,\u001b[0m \u001b[1;36m6\u001b[0m\u001b[1;33m,\u001b[0m \u001b[1;36m9\u001b[0m\u001b[1;33m,\u001b[0m \u001b[1;36m12\u001b[0m\u001b[1;33m,\u001b[0m \u001b[1;36m15\u001b[0m\u001b[1;33m)\u001b[0m\u001b[1;33m\u001b[0m\u001b[0m\n\u001b[0;32m      3\u001b[0m \u001b[0mprint\u001b[0m\u001b[1;33m(\u001b[0m\u001b[1;34m\"second element of the tuple is\"\u001b[0m\u001b[1;33m,\u001b[0m\u001b[0mtuple\u001b[0m\u001b[1;33m[\u001b[0m\u001b[1;36m1\u001b[0m\u001b[1;33m]\u001b[0m\u001b[1;33m)\u001b[0m\u001b[1;33m\u001b[0m\u001b[0m\n\u001b[1;32m----> 4\u001b[1;33m \u001b[0mtuple1\u001b[0m\u001b[1;33m[\u001b[0m\u001b[1;36m1\u001b[0m\u001b[1;33m]\u001b[0m\u001b[1;33m=\u001b[0m\u001b[1;36m5\u001b[0m\u001b[1;33m\u001b[0m\u001b[0m\n\u001b[0m",
      "\u001b[1;31mTypeError\u001b[0m: 'tuple' object does not support item assignment"
     ]
    }
   ],
   "source": [
    "#code\n",
    "tuple1=(3, 6, 9, 12, 15)\n",
    "print(\"second element of the tuple is\",tuple[1])\n",
    "tuple1[1]=5"
   ]
  },
  {
   "cell_type": "markdown",
   "metadata": {},
   "source": [
    "22. Initialize a tuple with elements (7, 2, 9, 5, 1).\n",
    "Find the length of the tuple.\n",
    "Find the index of the element 9.\n",
    "Count the number of occurrences of 2 in the tuple."
   ]
  },
  {
   "cell_type": "code",
   "execution_count": 9,
   "metadata": {},
   "outputs": [
    {
     "name": "stdout",
     "output_type": "stream",
     "text": [
      "Length of the tuple: 5\n",
      "Index of element 9: 2\n",
      "Number of occurrences of 2: 1\n"
     ]
    }
   ],
   "source": [
    "#code\n",
    "my_tuple = (7, 2, 9, 5, 1)\n",
    "\n",
    "# Find the length of the tuple\n",
    "length = len(my_tuple)\n",
    "\n",
    "# Find the index of the element 9\n",
    "index_9 = my_tuple.index(9)\n",
    "\n",
    "# Count the number of occurrences of 2\n",
    "count_2 = my_tuple.count(2)\n",
    "\n",
    "print(\"Length of the tuple:\", length)\n",
    "print(\"Index of element 9:\", index_9)\n",
    "print(\"Number of occurrences of 2:\", count_2)\n",
    "\n"
   ]
  },
  {
   "cell_type": "markdown",
   "metadata": {},
   "source": [
    "23. Set Initialization and Operations\n",
    "\n",
    "Initialize two sets: {1, 2, 3, 4, 5} and {3, 4, 5, 6, 7}.\n",
    "Find the union of the two sets.\n",
    "Find the intersection of the two sets.\n",
    "Find the difference between the first set and the second set."
   ]
  },
  {
   "cell_type": "code",
   "execution_count": 13,
   "metadata": {},
   "outputs": [
    {
     "name": "stdout",
     "output_type": "stream",
     "text": [
      "Union of the sets: {1, 2, 3, 4, 5, 6, 7}\n",
      "Intersection of the sets: {3, 4, 5}\n",
      "Difference between the sets: {1, 2}\n"
     ]
    }
   ],
   "source": [
    "#code\n",
    "set1={1, 2, 3, 4, 5}\n",
    "set2={3, 4, 5, 6, 7}\n",
    "union=set1.union(set2)\n",
    "intersection=set1.intersection(set2)\n",
    "difference=set1.difference(set2)\n",
    "print(\"Union of the sets:\", union)\n",
    "print(\"Intersection of the sets:\", intersection)\n",
    "print(\"Difference between the sets:\", difference)"
   ]
  },
  {
   "cell_type": "markdown",
   "metadata": {},
   "source": [
    "24. Create a list with duplicate elements [1, 2, 2, 3, 4, 4, 5, 5].\n",
    "Convert the list into a set to remove duplicates.\n",
    "Print the resulting set."
   ]
  },
  {
   "cell_type": "code",
   "execution_count": 14,
   "metadata": {},
   "outputs": [
    {
     "name": "stdout",
     "output_type": "stream",
     "text": [
      "Resulting set: {1, 2, 3, 4, 5}\n"
     ]
    }
   ],
   "source": [
    "#code\n",
    "my_list = [1, 2, 2, 3, 4, 4, 5, 5]\n",
    "\n",
    "# Convert the list into a set to remove duplicates\n",
    "my_set = set(my_list)\n",
    "\n",
    "# Print the resulting set\n",
    "print(\"Resulting set:\", my_set)"
   ]
  },
  {
   "cell_type": "markdown",
   "metadata": {},
   "source": [
    "# Sets\n",
    "The Python sets are highly useful to efficiently remove duplicate values from a collection like a list and to perform common math operations like unions and intersections. Some of the challenges people often encounter are when to use the various data types."
   ]
  },
  {
   "cell_type": "markdown",
   "metadata": {},
   "source": [
    "25. Initialize two sets: {1, 2, 3, 4, 5} and {4, 5, 6, 7, 8}.\n",
    "Check if the first set is a subset of the second set.\n",
    "Check if the sets have any common elements."
   ]
  },
  {
   "cell_type": "code",
   "execution_count": 7,
   "metadata": {},
   "outputs": [
    {
     "name": "stdout",
     "output_type": "stream",
     "text": [
      "Set 1 is a subset of Set 2: False\n",
      "The sets have common elements: True\n"
     ]
    }
   ],
   "source": [
    "#code\n",
    "set1 = {1, 2, 3, 4, 5}\n",
    "set2 = {4, 5, 6, 7, 8}\n",
    "\n",
    "# Check if the first set is a subset of the second set\n",
    "print(\"Set 1 is a subset of Set 2:\",set1.issubset(set2))\n",
    "\n",
    "# Check if the sets have any common elements\n",
    "print(\"The sets have common elements:\",bool(set1.intersection(set2)))"
   ]
  },
  {
   "cell_type": "markdown",
   "metadata": {},
   "source": [
    "26. Create a list with elements [10, 20, 30, 40, 50].\n",
    "Convert the list into a tuple.\n",
    "Print the tuple."
   ]
  },
  {
   "cell_type": "code",
   "execution_count": 6,
   "metadata": {},
   "outputs": [
    {
     "name": "stdout",
     "output_type": "stream",
     "text": [
      "Tuple: (10, 20, 30, 40, 50)\n"
     ]
    }
   ],
   "source": [
    "# Create a list\n",
    "list = [10, 20, 30, 40, 50]\n",
    "\n",
    "# Convert the list to a tuple\n",
    "tuple = tuple(list)\n",
    "\n",
    "# Print the resulting tuple\n",
    "print(\"Tuple:\",tuple)\n"
   ]
  },
  {
   "cell_type": "markdown",
   "metadata": {},
   "source": [
    "# Dictionary \n",
    "Python dictionaries allow us to associate a value to a unique key, and then to quickly access this value. It's a good idea to use them whenever we want to find (lookup for) a certain Python object. We can also use lists for this scope, but they are much slower than dictionaries.\n"
   ]
  },
  {
   "cell_type": "markdown",
   "metadata": {},
   "source": [
    "https://pynative.com/wp-content/uploads/2021/02/dictionaries-in-python.jpg"
   ]
  },
  {
   "cell_type": "markdown",
   "metadata": {},
   "source": [
    "##### 27. Create an empty dictionary.\n",
    "Add the key-value pairs: 'apple': 3, 'banana': 5, 'cherry': 2.\n",
    "Modify the value of 'banana' to 8.\n",
    "Remove the key 'cherry' from the dictionary."
   ]
  },
  {
   "cell_type": "code",
   "execution_count": 27,
   "metadata": {},
   "outputs": [
    {
     "name": "stdout",
     "output_type": "stream",
     "text": [
      "Updated dictionary: {'apple': 3, 'banana': 8}\n"
     ]
    }
   ],
   "source": [
    "#code\n",
    "my_dict = {'apple': 3, 'banana': 5, 'cherry': 2}\n",
    "\n",
    "# Modify value of 'banana'\n",
    "my_dict['banana'] = 8\n",
    "\n",
    "# Remove key 'cherry'\n",
    "del my_dict['cherry']\n",
    "\n",
    "print(\"Updated dictionary:\", my_dict)"
   ]
  },
  {
   "cell_type": "markdown",
   "metadata": {},
   "source": [
    "##### 28. Create a dictionary representing the number of fruits: {'apple': 3, 'banana': 8, 'orange': 6}.\n",
    "Check if 'orange' is a key in the dictionary.\n",
    "Print all keys and values in separate lines."
   ]
  },
  {
   "cell_type": "code",
   "execution_count": 5,
   "metadata": {},
   "outputs": [
    {
     "name": "stdout",
     "output_type": "stream",
     "text": [
      "'orange' is a key in the dictionary.\n",
      "Keys:\n",
      "apple\n",
      "banana\n",
      "orange\n",
      "Values:\n",
      "3\n",
      "8\n",
      "6\n"
     ]
    }
   ],
   "source": [
    "#code\n",
    "fruits = {'apple': 3, 'banana': 8, 'orange': 6}\n",
    "\n",
    "if 'orange' in fruits:\n",
    "    print(\"'orange' is a key in the dictionary.\")\n",
    "else:\n",
    "    print(\"'orange' is not a key in the dictionary.\")\n",
    "    \n",
    "# Print all keys in separate lines\n",
    "print(\"Keys:\")\n",
    "for key in fruits:\n",
    "    print(key)\n",
    "\n",
    "# Print all values in separate lines\n",
    "print(\"Values:\")\n",
    "for value in fruits.values():\n",
    "    print(value)  "
   ]
  },
  {
   "cell_type": "markdown",
   "metadata": {},
   "source": [
    "##### 29. Create a dictionary where the keys are names of countries and the values are dictionaries containing information about the capital city and population.\n",
    "Add at least three countries to the main dictionary.\n",
    "Print the details (capital and population) of a specific country."
   ]
  },
  {
   "cell_type": "code",
   "execution_count": 4,
   "metadata": {},
   "outputs": [
    {
     "name": "stdout",
     "output_type": "stream",
     "text": [
      "Country: India\n",
      "Capital: New Delhi\n",
      "Population: 1393\n"
     ]
    }
   ],
   "source": [
    "#code\n",
    "countries_dict = {\n",
    "    'India': {'capital': 'New Delhi', 'population': 1393},\n",
    "    'United States': {'capital': 'Washington D.C.', 'population': 331},\n",
    "    'Australia': {'capital': 'Canberra', 'population': 25}\n",
    "}\n",
    "country_name = 'India'\n",
    "if country_name in countries_dict:\n",
    "    country_dict = countries_dict[country_name]\n",
    "    print(f\"Country: {country_name}\")\n",
    "    print(f\"Capital: {country_dict['capital']}\")\n",
    "    print(f\"Population: {country_dict['population']}\")"
   ]
  },
  {
   "cell_type": "markdown",
   "metadata": {},
   "source": [
    "##### 30. Create a dictionary where keys are items (strings) and values are prices (floats).\n",
    "Ask the user to enter items and quantities they want to purchase.\n",
    "Calculate the total cost of items in the shopping cart."
   ]
  },
  {
   "cell_type": "code",
   "execution_count": null,
   "metadata": {},
   "outputs": [],
   "source": [
    "# code\n",
    "items_prices = {\n",
    "    \"milk\": 25.99,\n",
    "    \"bread\": 9.99,\n",
    "    \"biscuit\": 2.99,\n",
    "    \"sugar\": 15.49\n",
    "}\n"
   ]
  },
  {
   "cell_type": "code",
   "execution_count": null,
   "metadata": {},
   "outputs": [],
   "source": []
  }
 ],
 "metadata": {
  "kernelspec": {
   "display_name": "Python 3",
   "language": "python",
   "name": "python3"
  },
  "language_info": {
   "codemirror_mode": {
    "name": "ipython",
    "version": 3
   },
   "file_extension": ".py",
   "mimetype": "text/x-python",
   "name": "python",
   "nbconvert_exporter": "python",
   "pygments_lexer": "ipython3",
   "version": "3.7.0"
  }
 },
 "nbformat": 4,
 "nbformat_minor": 5
}
