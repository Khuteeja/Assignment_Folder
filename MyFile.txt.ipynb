{
 "cells": [
  {
   "cell_type": "code",
   "execution_count": 2,
   "metadata": {},
   "outputs": [
    {
     "name": "stdout",
     "output_type": "stream",
     "text": [
      "New file written again\n"
     ]
    }
   ],
   "source": [
    "file1=open(r\"C:/New folder/file1.txt\" ,\"w\")\n",
    "file1.write(\"New file written again\")\n",
    "file1.close()\n",
    "\n",
    "file1=open(r\"C:/New folder/file1.txt\" ,\"r\")\n",
    "str1=file1.read()\n",
    "print(str1)\n",
    "file1.close()"
   ]
  },
  {
   "cell_type": "code",
   "execution_count": 3,
   "metadata": {},
   "outputs": [],
   "source": [
    "file2=open(r\"D:/program.txt\",\"r\")"
   ]
  },
  {
   "cell_type": "code",
   "execution_count": 3,
   "metadata": {},
   "outputs": [],
   "source": [
    "file3=open(\"Myfile3.txt\",'w')\n",
    "file3.write(\"Hello Python \")\n",
    "file3.close()\n"
   ]
  },
  {
   "cell_type": "code",
   "execution_count": 7,
   "metadata": {},
   "outputs": [
    {
     "name": "stdout",
     "output_type": "stream",
     "text": [
      "Hello Python \n",
      "C programming\n",
      "\n"
     ]
    }
   ],
   "source": [
    "#reads whole file\n",
    "file3=open(\"Myfile3.txt\",'r')\n",
    "\n",
    "string=file3.read()\n",
    "print(string)\n",
    "file3.close()\n",
    "\n"
   ]
  },
  {
   "cell_type": "code",
   "execution_count": 5,
   "metadata": {},
   "outputs": [
    {
     "name": "stdout",
     "output_type": "stream",
     "text": [
      "Hello \n"
     ]
    }
   ],
   "source": [
    "#reads n provided bytes\n",
    "file3=open(\"Myfile3.txt\",'r')\n",
    "string=file3.read(6)\n",
    "print(string)\n",
    "file3.close()\n"
   ]
  },
  {
   "cell_type": "code",
   "execution_count": 8,
   "metadata": {},
   "outputs": [
    {
     "name": "stdout",
     "output_type": "stream",
     "text": [
      "Hello Python \n",
      "\n"
     ]
    }
   ],
   "source": [
    "#reads only one line\n",
    "file3=open(\"Myfile3.txt\",'r')\n",
    "string=file3.readline()\n",
    "print(string)\n",
    "file3.close()\n"
   ]
  },
  {
   "cell_type": "code",
   "execution_count": 10,
   "metadata": {},
   "outputs": [
    {
     "name": "stdout",
     "output_type": "stream",
     "text": [
      "['Hello Python \\n', 'C programming']\n"
     ]
    }
   ],
   "source": [
    "#reads all lines and return them in a list\n",
    "\n",
    "file3=open(\"Myfile3.txt\",'r')\n",
    "string=file3.readlines()\n",
    "print(string)\n",
    "file3.close()\n"
   ]
  },
  {
   "cell_type": "code",
   "execution_count": 11,
   "metadata": {},
   "outputs": [
    {
     "name": "stdout",
     "output_type": "stream",
     "text": [
      "Hello Python \n",
      "\n"
     ]
    }
   ],
   "source": [
    "file3=open(\"Myfile3.txt\",'r')\n",
    "string=file3.readlines()\n",
    "print(string[0])\n",
    "file3.close()"
   ]
  },
  {
   "cell_type": "code",
   "execution_count": 1,
   "metadata": {},
   "outputs": [
    {
     "name": "stdout",
     "output_type": "stream",
     "text": [
      "Hello Python \n",
      "\n",
      "C programming\n"
     ]
    }
   ],
   "source": [
    "file3=open(\"Myfile3.txt\",'r')\n",
    "string=file3.readlines()\n",
    "for line in string:\n",
    "    print(line)\n",
    "file3.close()"
   ]
  },
  {
   "cell_type": "code",
   "execution_count": 13,
   "metadata": {},
   "outputs": [
    {
     "name": "stdout",
     "output_type": "stream",
     "text": [
      "enter a string:CSS\n",
      "Keyword found\n"
     ]
    }
   ],
   "source": [
    "file3=open(\"Myfile4.txt\",'w+')\n",
    "file3.write(\"Python\\nCprogramming\\nHTML\\nJava\\nCSS \")\n",
    "string=file3.readlines()\n",
    "string\n",
    "\n",
    "keyword=input(\"enter a string:\")\n",
    "\n",
    "for line in string:\n",
    "    flag=0\n",
    "    if keyword in line:\n",
    "        print(\"Keyword found\")\n",
    "        break\n",
    "    else:\n",
    "        flag=1\n",
    "if flag==1:\n",
    "    print(\"Keyword not found\")\n",
    "file3.close()"
   ]
  },
  {
   "cell_type": "code",
   "execution_count": 11,
   "metadata": {},
   "outputs": [
    {
     "name": "stdout",
     "output_type": "stream",
     "text": [
      "Python\n",
      "Cprogramming\n",
      "HTML\n",
      "Java\n",
      "CSS \n",
      "______After seek 2______\n",
      "thon\n",
      "Cprogramming\n",
      "HTML\n",
      "Java\n",
      "CSS \n"
     ]
    }
   ],
   "source": [
    "file3=open(\"Myfile4.txt\",'r')\n",
    "print(file3.read())\n",
    "file3.seek(2)\n",
    "print(\"______After seek 2______\")\n",
    "print(file3.read())\n",
    "file3.close()\n"
   ]
  },
  {
   "cell_type": "code",
   "execution_count": 16,
   "metadata": {},
   "outputs": [
    {
     "name": "stdout",
     "output_type": "stream",
     "text": [
      "Value:  1,Portal:  5.33\n"
     ]
    }
   ],
   "source": [
    "print(\"Value: %2d,Portal: %5.2f\" %(1, 05.333))"
   ]
  },
  {
   "cell_type": "code",
   "execution_count": 17,
   "metadata": {},
   "outputs": [
    {
     "name": "stdout",
     "output_type": "stream",
     "text": [
      "     11\n"
     ]
    }
   ],
   "source": [
    "print(\"%7.2o\"%(9))"
   ]
  },
  {
   "cell_type": "code",
   "execution_count": 19,
   "metadata": {},
   "outputs": [
    {
     "name": "stdout",
     "output_type": "stream",
     "text": [
      "  1E+01\n",
      "  1E+02\n",
      "  2E+01\n",
      "  2E+03\n"
     ]
    }
   ],
   "source": [
    "print(\"%7.0E\"%(10))\n",
    "print(\"%7.0E\"%(100))\n",
    "print(\"%7.0E\"%(20))\n",
    "print(\"%7.0E\"%(2000))"
   ]
  },
  {
   "cell_type": "code",
   "execution_count": 4,
   "metadata": {},
   "outputs": [],
   "source": [
    "with open(\"Myfile4.txt\") as file1:\n",
    "    data=file1.read()"
   ]
  },
  {
   "cell_type": "code",
   "execution_count": 5,
   "metadata": {},
   "outputs": [
    {
     "name": "stdout",
     "output_type": "stream",
     "text": [
      "Python\n",
      "Cprogramming\n",
      "HTML\n",
      "Java\n",
      "CSS Python\n",
      "Cprogramming\n",
      "HTML\n",
      "Java\n",
      "CSS \n"
     ]
    }
   ],
   "source": [
    "print(data)"
   ]
  },
  {
   "cell_type": "code",
   "execution_count": 6,
   "metadata": {},
   "outputs": [
    {
     "ename": "ValueError",
     "evalue": "I/O operation on closed file.",
     "output_type": "error",
     "traceback": [
      "\u001b[1;31m---------------------------------------------------------------------------\u001b[0m",
      "\u001b[1;31mValueError\u001b[0m                                Traceback (most recent call last)",
      "\u001b[1;32m<ipython-input-6-e226871e35cb>\u001b[0m in \u001b[0;36m<module>\u001b[1;34m()\u001b[0m\n\u001b[1;32m----> 1\u001b[1;33m \u001b[0mprint\u001b[0m\u001b[1;33m(\u001b[0m\u001b[0mfile1\u001b[0m\u001b[1;33m.\u001b[0m\u001b[0mread\u001b[0m\u001b[1;33m(\u001b[0m\u001b[1;33m)\u001b[0m\u001b[1;33m)\u001b[0m\u001b[1;33m\u001b[0m\u001b[0m\n\u001b[0m",
      "\u001b[1;31mValueError\u001b[0m: I/O operation on closed file."
     ]
    }
   ],
   "source": [
    "print(file1.read())"
   ]
  },
  {
   "cell_type": "code",
   "execution_count": 34,
   "metadata": {},
   "outputs": [
    {
     "name": "stdout",
     "output_type": "stream",
     "text": [
      "Second element=2\n",
      "An Error occurred\n"
     ]
    }
   ],
   "source": [
    "a=[1,2,3]\n",
    "try:\n",
    "    print(\"Second element=%d\"%(a[1]))\n",
    "    \n",
    "    #unsafe code\n",
    "    print(\"Fourth element=%d\"%(a[7]))\n",
    "    \n",
    "except IndexError:\n",
    "    print(\"An Error occurred\")\n",
    "except ValueError:\n",
    "    print(\"Value error occured\")\n",
    "except TypeError:\n",
    "    print(\"Type error occured\")"
   ]
  },
  {
   "cell_type": "code",
   "execution_count": 45,
   "metadata": {},
   "outputs": [
    {
     "name": "stdout",
     "output_type": "stream",
     "text": [
      "3\n",
      "Name error occured\n"
     ]
    }
   ],
   "source": [
    "a=13\n",
    "b=[1,2,3]\n",
    "try:\n",
    "    div=10/1\n",
    "    print(\"%d\"%(b[2]))\n",
    "    a=c\n",
    "except NameError:\n",
    "    print(\"Name error occured\")\n",
    "except IndexError:\n",
    "    print(\"An Index Error occurred\")\n",
    "except ZeroDivisionError:\n",
    "    print(\"Zero Division Error occured\")\n",
    "except:\n",
    "    print(\"An Error occurred: Generic\")\n",
    "    "
   ]
  },
  {
   "cell_type": "code",
   "execution_count": 53,
   "metadata": {},
   "outputs": [
    {
     "name": "stdout",
     "output_type": "stream",
     "text": [
      "Python\n",
      "Cprogramming\n",
      "HTML\n",
      "Java\n",
      "CSS Python\n",
      "Cprogramming\n",
      "HTML\n",
      "Java\n",
      "CSS \n",
      "5\n",
      "Unsupported Operation occured\n",
      "Finally block executed\n"
     ]
    }
   ],
   "source": [
    "try:\n",
    "    fd=open(\"Myfile4.txt\",\"r\")\n",
    "    print(fd.read())\n",
    "    print(fd.write(\"Hi\"))\n",
    "    \n",
    "except ZeroDivisionError:\n",
    "    print(\"Zero Division Error occured\")\n",
    "except:\n",
    "    fd=open(\"Myfile4.txt\",\"w\")\n",
    "    print(fd.write(\"Hello\"))\n",
    "    print(\"Unsupported Operation occured\")\n",
    "else:\n",
    "    print(\"expection did not occured\")\n",
    "finally:\n",
    "    fd.close()\n",
    "    print(\"Finally block executed\")\n",
    "    "
   ]
  },
  {
   "cell_type": "code",
   "execution_count": 56,
   "metadata": {},
   "outputs": [
    {
     "name": "stdout",
     "output_type": "stream",
     "text": [
      "An exception has been occurred\n"
     ]
    },
    {
     "ename": "NameError",
     "evalue": "Hi there Name error has been raised from developer",
     "output_type": "error",
     "traceback": [
      "\u001b[1;31m---------------------------------------------------------------------------\u001b[0m",
      "\u001b[1;31mNameError\u001b[0m                                 Traceback (most recent call last)",
      "\u001b[1;32m<ipython-input-56-f2d52489d8fd>\u001b[0m in \u001b[0;36m<module>\u001b[1;34m()\u001b[0m\n\u001b[0;32m      1\u001b[0m \u001b[1;32mtry\u001b[0m\u001b[1;33m:\u001b[0m\u001b[1;33m\u001b[0m\u001b[0m\n\u001b[1;32m----> 2\u001b[1;33m     \u001b[1;32mraise\u001b[0m \u001b[0mNameError\u001b[0m\u001b[1;33m(\u001b[0m\u001b[1;34m\"Hi there Name error has been raised from developer\"\u001b[0m\u001b[1;33m)\u001b[0m\u001b[1;33m\u001b[0m\u001b[0m\n\u001b[0m\u001b[0;32m      3\u001b[0m \u001b[1;32mexcept\u001b[0m \u001b[0mNameError\u001b[0m\u001b[1;33m:\u001b[0m\u001b[1;33m\u001b[0m\u001b[0m\n\u001b[0;32m      4\u001b[0m     \u001b[0mprint\u001b[0m\u001b[1;33m(\u001b[0m\u001b[1;34m\"An exception has been occurred\"\u001b[0m\u001b[1;33m)\u001b[0m\u001b[1;33m\u001b[0m\u001b[0m\n\u001b[0;32m      5\u001b[0m     \u001b[1;32mraise\u001b[0m\u001b[1;33m\u001b[0m\u001b[0m\n",
      "\u001b[1;31mNameError\u001b[0m: Hi there Name error has been raised from developer"
     ]
    }
   ],
   "source": [
    "try:\n",
    "    raise NameError(\"Hi there Name error has been raised from developer\")\n",
    "except NameError:\n",
    "    print(\"An exception has been occurred\")\n",
    "    raise"
   ]
  },
  {
   "cell_type": "code",
   "execution_count": null,
   "metadata": {},
   "outputs": [],
   "source": []
  },
  {
   "cell_type": "code",
   "execution_count": null,
   "metadata": {},
   "outputs": [],
   "source": []
  }
 ],
 "metadata": {
  "kernelspec": {
   "display_name": "Python 3",
   "language": "python",
   "name": "python3"
  },
  "language_info": {
   "codemirror_mode": {
    "name": "ipython",
    "version": 3
   },
   "file_extension": ".py",
   "mimetype": "text/x-python",
   "name": "python",
   "nbconvert_exporter": "python",
   "pygments_lexer": "ipython3",
   "version": "3.7.0"
  }
 },
 "nbformat": 4,
 "nbformat_minor": 2
}
