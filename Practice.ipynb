{
 "cells": [
  {
   "cell_type": "code",
   "execution_count": 1,
   "metadata": {},
   "outputs": [],
   "source": [
    "from datetime import datetime as dt\n"
   ]
  },
  {
   "cell_type": "code",
   "execution_count": 2,
   "metadata": {},
   "outputs": [],
   "source": [
    "date1=dt.now()"
   ]
  },
  {
   "cell_type": "code",
   "execution_count": 3,
   "metadata": {},
   "outputs": [
    {
     "data": {
      "text/plain": [
       "datetime.datetime(2023, 10, 31, 17, 57, 45, 261927)"
      ]
     },
     "execution_count": 3,
     "metadata": {},
     "output_type": "execute_result"
    }
   ],
   "source": [
    "date1"
   ]
  },
  {
   "cell_type": "code",
   "execution_count": 4,
   "metadata": {},
   "outputs": [
    {
     "data": {
      "text/plain": [
       "31"
      ]
     },
     "execution_count": 4,
     "metadata": {},
     "output_type": "execute_result"
    }
   ],
   "source": [
    "date1.day\n"
   ]
  },
  {
   "cell_type": "code",
   "execution_count": 5,
   "metadata": {},
   "outputs": [
    {
     "data": {
      "text/plain": [
       "17"
      ]
     },
     "execution_count": 5,
     "metadata": {},
     "output_type": "execute_result"
    }
   ],
   "source": [
    "date1.hour"
   ]
  },
  {
   "cell_type": "code",
   "execution_count": 2,
   "metadata": {},
   "outputs": [
    {
     "name": "stdout",
     "output_type": "stream",
     "text": [
      "Age in years: 22 years\n"
     ]
    }
   ],
   "source": [
    "from datetime import datetime\n",
    "\n",
    "birthdate = datetime(2001, 2, 13)  \n",
    "\n",
    "\n",
    "current_date = datetime.now()\n",
    "age = current_date.year - birthdate.year - ((current_date.month, current_date.day) < (birthdate.month, birthdate.day))\n",
    "\n",
    "print(f\"Age in years: {age} years\")"
   ]
  },
  {
   "cell_type": "code",
   "execution_count": 1,
   "metadata": {},
   "outputs": [
    {
     "name": "stdout",
     "output_type": "stream",
     "text": [
      "2037-07-11 16:27:00.382030\n"
     ]
    }
   ],
   "source": [
    "from datetime import datetime, timedelta\n",
    "\n",
    "# Get the current date\n",
    "current_date = datetime.now()\n",
    "\n",
    "future_date = current_date + timedelta(days=5000)\n",
    "\n",
    "\n",
    "#age_years = age_days // 365\n",
    "\n",
    "print(future_date)\n",
    "#print(f\"Future date: {future_date.strftime('%Y-%m-%d')}\")"
   ]
  },
  {
   "cell_type": "code",
   "execution_count": 2,
   "metadata": {},
   "outputs": [],
   "source": [
    "l1=[]"
   ]
  },
  {
   "cell_type": "code",
   "execution_count": 3,
   "metadata": {},
   "outputs": [
    {
     "data": {
      "text/plain": [
       "[]"
      ]
     },
     "execution_count": 3,
     "metadata": {},
     "output_type": "execute_result"
    }
   ],
   "source": [
    "l1"
   ]
  },
  {
   "cell_type": "code",
   "execution_count": 4,
   "metadata": {},
   "outputs": [
    {
     "data": {
      "text/plain": [
       "list"
      ]
     },
     "execution_count": 4,
     "metadata": {},
     "output_type": "execute_result"
    }
   ],
   "source": [
    "type(l1)"
   ]
  },
  {
   "cell_type": "code",
   "execution_count": 6,
   "metadata": {},
   "outputs": [],
   "source": [
    "l2=[4,'hi']"
   ]
  },
  {
   "cell_type": "code",
   "execution_count": 7,
   "metadata": {},
   "outputs": [
    {
     "data": {
      "text/plain": [
       "2"
      ]
     },
     "execution_count": 7,
     "metadata": {},
     "output_type": "execute_result"
    }
   ],
   "source": [
    "len(l2)"
   ]
  },
  {
   "cell_type": "code",
   "execution_count": 12,
   "metadata": {},
   "outputs": [
    {
     "data": {
      "text/plain": [
       "[1, 2, 3, 4, 5, 6, 7, 8]"
      ]
     },
     "execution_count": 12,
     "metadata": {},
     "output_type": "execute_result"
    }
   ],
   "source": [
    "l=[1,2,3,4,5,6,7,8]\n",
    "l"
   ]
  },
  {
   "cell_type": "code",
   "execution_count": 13,
   "metadata": {},
   "outputs": [
    {
     "data": {
      "text/plain": [
       "8"
      ]
     },
     "execution_count": 13,
     "metadata": {},
     "output_type": "execute_result"
    }
   ],
   "source": [
    "len(l)"
   ]
  },
  {
   "cell_type": "code",
   "execution_count": 14,
   "metadata": {},
   "outputs": [
    {
     "data": {
      "text/plain": [
       "[1, 4, 7]"
      ]
     },
     "execution_count": 14,
     "metadata": {},
     "output_type": "execute_result"
    }
   ],
   "source": [
    "l[0:7:3]"
   ]
  },
  {
   "cell_type": "code",
   "execution_count": 15,
   "metadata": {},
   "outputs": [
    {
     "data": {
      "text/plain": [
       "[1, 2, 3, 4, 5, 6, 7, 8]"
      ]
     },
     "execution_count": 15,
     "metadata": {},
     "output_type": "execute_result"
    }
   ],
   "source": [
    "l"
   ]
  },
  {
   "cell_type": "code",
   "execution_count": 16,
   "metadata": {},
   "outputs": [
    {
     "data": {
      "text/plain": [
       "[8]"
      ]
     },
     "execution_count": 16,
     "metadata": {},
     "output_type": "execute_result"
    }
   ],
   "source": [
    "l[-1:-3:-2]"
   ]
  },
  {
   "cell_type": "code",
   "execution_count": 25,
   "metadata": {},
   "outputs": [
    {
     "data": {
      "text/plain": [
       "[8, 6]"
      ]
     },
     "execution_count": 25,
     "metadata": {},
     "output_type": "execute_result"
    }
   ],
   "source": [
    "l[-1:-5:-2]"
   ]
  },
  {
   "cell_type": "code",
   "execution_count": 26,
   "metadata": {},
   "outputs": [],
   "source": [
    "l.append(9)"
   ]
  },
  {
   "cell_type": "code",
   "execution_count": 27,
   "metadata": {},
   "outputs": [
    {
     "data": {
      "text/plain": [
       "[1, 2, 3, 4, 5, 6, 7, 8, 9]"
      ]
     },
     "execution_count": 27,
     "metadata": {},
     "output_type": "execute_result"
    }
   ],
   "source": [
    "l"
   ]
  },
  {
   "cell_type": "code",
   "execution_count": 28,
   "metadata": {},
   "outputs": [
    {
     "data": {
      "text/plain": [
       "9"
      ]
     },
     "execution_count": 28,
     "metadata": {},
     "output_type": "execute_result"
    }
   ],
   "source": [
    "l.pop()"
   ]
  },
  {
   "cell_type": "code",
   "execution_count": 36,
   "metadata": {},
   "outputs": [],
   "source": [
    "list1=[1,2,3,4]\n",
    "list2=[5,6,7,8]"
   ]
  },
  {
   "cell_type": "code",
   "execution_count": 39,
   "metadata": {},
   "outputs": [
    {
     "data": {
      "text/plain": [
       "[1, 2, 3, 4, 5, 6, 7, 8, 5, 6, 7, 8]"
      ]
     },
     "execution_count": 39,
     "metadata": {},
     "output_type": "execute_result"
    }
   ],
   "source": [
    "\n",
    "list1.extend(list2)\n",
    "list1"
   ]
  },
  {
   "cell_type": "code",
   "execution_count": 46,
   "metadata": {},
   "outputs": [
    {
     "data": {
      "text/plain": [
       "False"
      ]
     },
     "execution_count": 46,
     "metadata": {},
     "output_type": "execute_result"
    }
   ],
   "source": [
    "'one' in list1"
   ]
  },
  {
   "cell_type": "code",
   "execution_count": 47,
   "metadata": {},
   "outputs": [
    {
     "data": {
      "text/plain": [
       "True"
      ]
     },
     "execution_count": 47,
     "metadata": {},
     "output_type": "execute_result"
    }
   ],
   "source": [
    "1 in list1"
   ]
  },
  {
   "cell_type": "code",
   "execution_count": 48,
   "metadata": {},
   "outputs": [],
   "source": [
    "list1.reverse()"
   ]
  },
  {
   "cell_type": "code",
   "execution_count": 49,
   "metadata": {},
   "outputs": [
    {
     "data": {
      "text/plain": [
       "[8, 7, 6, 5, 8, 7, 6, 5, 4, 3, 2, 1]"
      ]
     },
     "execution_count": 49,
     "metadata": {},
     "output_type": "execute_result"
    }
   ],
   "source": [
    "list1"
   ]
  },
  {
   "cell_type": "code",
   "execution_count": 56,
   "metadata": {},
   "outputs": [
    {
     "data": {
      "text/plain": [
       "[7, 8, 5, 6, 7]"
      ]
     },
     "execution_count": 56,
     "metadata": {},
     "output_type": "execute_result"
    }
   ],
   "source": [
    "list1[-7:0:-1]"
   ]
  },
  {
   "cell_type": "code",
   "execution_count": 61,
   "metadata": {},
   "outputs": [
    {
     "data": {
      "text/plain": [
       "[1, 2, 3, 4, 5, 6, 7]"
      ]
     },
     "execution_count": 61,
     "metadata": {},
     "output_type": "execute_result"
    }
   ],
   "source": [
    "list1[-1:-8:-1]"
   ]
  },
  {
   "cell_type": "code",
   "execution_count": 62,
   "metadata": {},
   "outputs": [
    {
     "data": {
      "text/plain": [
       "[1, 2, 3, 4, 5, 6, 7, 8, 5, 6, 7, 8]"
      ]
     },
     "execution_count": 62,
     "metadata": {},
     "output_type": "execute_result"
    }
   ],
   "source": [
    "list1[::-1]"
   ]
  },
  {
   "cell_type": "code",
   "execution_count": 64,
   "metadata": {},
   "outputs": [],
   "source": [
    "list1.reverse()"
   ]
  },
  {
   "cell_type": "code",
   "execution_count": 65,
   "metadata": {},
   "outputs": [
    {
     "data": {
      "text/plain": [
       "[1, 2, 3, 4, 5, 6, 7, 8, 5, 6, 7, 8]"
      ]
     },
     "execution_count": 65,
     "metadata": {},
     "output_type": "execute_result"
    }
   ],
   "source": [
    "list1"
   ]
  },
  {
   "cell_type": "code",
   "execution_count": 66,
   "metadata": {},
   "outputs": [
    {
     "ename": "TypeError",
     "evalue": "'<' not supported between instances of 'int' and 'str'",
     "output_type": "error",
     "traceback": [
      "\u001b[1;31m---------------------------------------------------------------------------\u001b[0m",
      "\u001b[1;31mTypeError\u001b[0m                                 Traceback (most recent call last)",
      "\u001b[1;32m<ipython-input-66-6ac9352e9e0e>\u001b[0m in \u001b[0;36m<module>\u001b[1;34m()\u001b[0m\n\u001b[0;32m      1\u001b[0m \u001b[0ml\u001b[0m\u001b[1;33m=\u001b[0m\u001b[1;33m[\u001b[0m\u001b[1;34m'a'\u001b[0m\u001b[1;33m,\u001b[0m\u001b[1;36m1\u001b[0m\u001b[1;33m]\u001b[0m\u001b[1;33m\u001b[0m\u001b[0m\n\u001b[1;32m----> 2\u001b[1;33m \u001b[0ml\u001b[0m\u001b[1;33m.\u001b[0m\u001b[0msort\u001b[0m\u001b[1;33m(\u001b[0m\u001b[1;33m)\u001b[0m\u001b[1;33m\u001b[0m\u001b[0m\n\u001b[0m",
      "\u001b[1;31mTypeError\u001b[0m: '<' not supported between instances of 'int' and 'str'"
     ]
    }
   ],
   "source": [
    "l=['a',1]\n",
    "l.sort()"
   ]
  },
  {
   "cell_type": "code",
   "execution_count": 67,
   "metadata": {},
   "outputs": [
    {
     "data": {
      "text/plain": [
       "['a', 1]"
      ]
     },
     "execution_count": 67,
     "metadata": {},
     "output_type": "execute_result"
    }
   ],
   "source": [
    "l"
   ]
  },
  {
   "cell_type": "code",
   "execution_count": 71,
   "metadata": {},
   "outputs": [
    {
     "data": {
      "text/plain": [
       "[7, 4, 4, 3, 2, 1]"
      ]
     },
     "execution_count": 71,
     "metadata": {},
     "output_type": "execute_result"
    }
   ],
   "source": [
    "l1=[1,4,2,4,7,3]\n",
    "l1.sort()\n",
    "#l1.sort(reverse=True)\n",
    "l1.reverse()\n",
    "l1"
   ]
  },
  {
   "cell_type": "code",
   "execution_count": 10,
   "metadata": {},
   "outputs": [
    {
     "data": {
      "text/plain": [
       "(0, 20, 30)"
      ]
     },
     "execution_count": 10,
     "metadata": {},
     "output_type": "execute_result"
    }
   ],
   "source": [
    "\n",
    "tup1=(0,20,30)\n",
    "tup1"
   ]
  },
  {
   "cell_type": "code",
   "execution_count": 11,
   "metadata": {},
   "outputs": [],
   "source": [
    "tup2=(10,'data',10.2)"
   ]
  },
  {
   "cell_type": "code",
   "execution_count": 12,
   "metadata": {},
   "outputs": [
    {
     "data": {
      "text/plain": [
       "2"
      ]
     },
     "execution_count": 12,
     "metadata": {},
     "output_type": "execute_result"
    }
   ],
   "source": [
    "t=(10,[1,2],[10,52])\n",
    "t[1][1]"
   ]
  },
  {
   "cell_type": "code",
   "execution_count": 13,
   "metadata": {},
   "outputs": [
    {
     "data": {
      "text/plain": [
       "(10, [1, 2], [10, 52])"
      ]
     },
     "execution_count": 13,
     "metadata": {},
     "output_type": "execute_result"
    }
   ],
   "source": [
    "t"
   ]
  },
  {
   "cell_type": "code",
   "execution_count": 14,
   "metadata": {},
   "outputs": [],
   "source": [
    "t1=(10,10,20,20,30)"
   ]
  },
  {
   "cell_type": "code",
   "execution_count": 15,
   "metadata": {},
   "outputs": [
    {
     "data": {
      "text/plain": [
       "2"
      ]
     },
     "execution_count": 15,
     "metadata": {},
     "output_type": "execute_result"
    }
   ],
   "source": [
    "t1.count(10)"
   ]
  },
  {
   "cell_type": "code",
   "execution_count": 16,
   "metadata": {},
   "outputs": [
    {
     "data": {
      "text/plain": [
       "2"
      ]
     },
     "execution_count": 16,
     "metadata": {},
     "output_type": "execute_result"
    }
   ],
   "source": [
    "t1.index(20)"
   ]
  },
  {
   "cell_type": "code",
   "execution_count": 17,
   "metadata": {},
   "outputs": [
    {
     "data": {
      "text/plain": [
       "[0, 20, 30]"
      ]
     },
     "execution_count": 17,
     "metadata": {},
     "output_type": "execute_result"
    }
   ],
   "source": [
    "sorted(tup1)"
   ]
  },
  {
   "cell_type": "code",
   "execution_count": 18,
   "metadata": {},
   "outputs": [
    {
     "data": {
      "text/plain": [
       "(0, 20, 30)"
      ]
     },
     "execution_count": 18,
     "metadata": {},
     "output_type": "execute_result"
    }
   ],
   "source": [
    "tup1"
   ]
  },
  {
   "cell_type": "code",
   "execution_count": 22,
   "metadata": {},
   "outputs": [],
   "source": [
    "a={1,2,3,4,5}\n",
    "b={4,4,5,6,7,8}"
   ]
  },
  {
   "cell_type": "code",
   "execution_count": 23,
   "metadata": {},
   "outputs": [
    {
     "data": {
      "text/plain": [
       "{1, 2, 3, 4, 5, 6, 7, 8}"
      ]
     },
     "execution_count": 23,
     "metadata": {},
     "output_type": "execute_result"
    }
   ],
   "source": [
    "a.union(b)"
   ]
  },
  {
   "cell_type": "code",
   "execution_count": 24,
   "metadata": {},
   "outputs": [
    {
     "data": {
      "text/plain": [
       "{4, 5}"
      ]
     },
     "execution_count": 24,
     "metadata": {},
     "output_type": "execute_result"
    }
   ],
   "source": [
    "a.intersection(b)"
   ]
  },
  {
   "cell_type": "code",
   "execution_count": 25,
   "metadata": {},
   "outputs": [
    {
     "data": {
      "text/plain": [
       "<function set.difference>"
      ]
     },
     "execution_count": 25,
     "metadata": {},
     "output_type": "execute_result"
    }
   ],
   "source": [
    "a.difference"
   ]
  },
  {
   "cell_type": "code",
   "execution_count": 27,
   "metadata": {},
   "outputs": [
    {
     "data": {
      "text/plain": [
       "{25, 35}"
      ]
     },
     "execution_count": 27,
     "metadata": {},
     "output_type": "execute_result"
    }
   ],
   "source": [
    "a={10,20,30}\n",
    "b={25,20,35}\n",
    "b.difference(a)"
   ]
  },
  {
   "cell_type": "code",
   "execution_count": 8,
   "metadata": {},
   "outputs": [
    {
     "name": "stdout",
     "output_type": "stream",
     "text": [
      "enter first number: 5\n",
      "enter second number: 8\n",
      "enter third number: 4\n",
      "[5, 8, 4]\n",
      "8 is large\n"
     ]
    }
   ],
   "source": [
    "a=int(input(\"enter first number: \"))\n",
    "b=int(input(\"enter second number: \"))\n",
    "c=int(input(\"enter third number: \"))\n",
    "list=[a,b,c]\n",
    "print(list)\n",
    "if list[0]>=list[1] and list[0]>=list[2]:\n",
    "    print(list[0],\"is large\")\n",
    "elif list[1]>=list[0] and list[1]>=list[2]:\n",
    "    print(list[1],\"is large\")\n",
    "else:\n",
    "    print(list[2],\"is large\")"
   ]
  },
  {
   "cell_type": "code",
   "execution_count": 9,
   "metadata": {},
   "outputs": [],
   "source": [
    "list1=[10,50,54]"
   ]
  },
  {
   "cell_type": "code",
   "execution_count": null,
   "metadata": {},
   "outputs": [],
   "source": [
    "sum=list1[0]+list1[1]+list1[2]\n",
    "sum\n",
    "list1=[5,9,5,8,6]\n",
    "list1"
   ]
  },
  {
   "cell_type": "code",
   "execution_count": 23,
   "metadata": {},
   "outputs": [
    {
     "data": {
      "text/plain": [
       "[6, 9, 5, 8, 5]"
      ]
     },
     "execution_count": 23,
     "metadata": {},
     "output_type": "execute_result"
    }
   ],
   "source": [
    "temp=list1[0]\n",
    "list1[0]=list1[-1]\n",
    "list1[-1]=temp\n",
    "list1"
   ]
  },
  {
   "cell_type": "code",
   "execution_count": 29,
   "metadata": {},
   "outputs": [
    {
     "ename": "SyntaxError",
     "evalue": "invalid syntax (<ipython-input-29-d595cf3f7694>, line 3)",
     "output_type": "error",
     "traceback": [
      "\u001b[1;36m  File \u001b[1;32m\"<ipython-input-29-d595cf3f7694>\"\u001b[1;36m, line \u001b[1;32m3\u001b[0m\n\u001b[1;33m    mylist result_mylist = [word.split() for word in mylist]\u001b[0m\n\u001b[1;37m                       ^\u001b[0m\n\u001b[1;31mSyntaxError\u001b[0m\u001b[1;31m:\u001b[0m invalid syntax\n"
     ]
    }
   ],
   "source": [
    "\n",
    "mylist=['Hello to python']\n",
    "mylist result_mylist = [word.split() for word in mylist] \n",
    "result_mylist\n"
   ]
  },
  {
   "cell_type": "code",
   "execution_count": 37,
   "metadata": {},
   "outputs": [
    {
     "data": {
      "text/plain": [
       "[['Hello', 'to', 'python']]"
      ]
     },
     "execution_count": 37,
     "metadata": {},
     "output_type": "execute_result"
    }
   ],
   "source": [
    "mylist=['Hello to python'] \n",
    "result_mylist = [word.split() for word in mylist] \n",
    "result_mylist\n"
   ]
  },
  {
   "cell_type": "code",
   "execution_count": 1,
   "metadata": {},
   "outputs": [],
   "source": [
    "mylist = ['Hello to python']\n",
    "new_list = mylist[0].split()  # Split the string by spaces\n",
    "print(new_list)\n"
   ]
  },
  {
   "cell_type": "code",
   "execution_count": 2,
   "metadata": {},
   "outputs": [],
   "source": [
    "t=(1,5,3)\n",
    "sorted(t,reverse=True)\n"
   ]
  },
  {
   "cell_type": "code",
   "execution_count": null,
   "metadata": {},
   "outputs": [],
   "source": [
    "n=input(\"enter name: \")\n",
    "p=input(\"enter profession: \")\n",
    "e=input(\"enter email: \")\n",
    "set1={n,p,e}\n",
    "n=input(\"enter name: \")\n",
    "p=input(\"enter profession: \")\n",
    "e=input(\"enter email: \")\n",
    "set2={n,p,e}\n",
    "list=[set1,set2]\n",
    "list"
   ]
  },
  {
   "cell_type": "code",
   "execution_count": 14,
   "metadata": {},
   "outputs": [
    {
     "name": "stdout",
     "output_type": "stream",
     "text": [
      " 1\n",
      " 2\n",
      " 3\n",
      " 4\n",
      " 5\n",
      " 6\n"
     ]
    }
   ],
   "source": [
    "i=1\n",
    "while i<=6:\n",
    "    print(\"\",i)\n",
    "    i=i+1"
   ]
  },
  {
   "cell_type": "code",
   "execution_count": 4,
   "metadata": {},
   "outputs": [
    {
     "name": "stdout",
     "output_type": "stream",
     "text": [
      "Start of while\n",
      "1\n",
      "2\n",
      "3\n",
      "End of while\n"
     ]
    }
   ],
   "source": [
    "i=1\n",
    "print(\"Start of while\")\n",
    "while i<=6:\n",
    "    print(i)\n",
    "    if i==3:\n",
    "        break\n",
    "    i=i+1\n",
    "print(\"End of while\")\n"
   ]
  },
  {
   "cell_type": "code",
   "execution_count": 10,
   "metadata": {},
   "outputs": [
    {
     "name": "stdout",
     "output_type": "stream",
     "text": [
      "3\n",
      "4\n",
      "5\n",
      "while condition is false\n",
      "hi\n"
     ]
    }
   ],
   "source": [
    "i=3\n",
    "while i<6:\n",
    "    print(i)\n",
    "    i+=1\n",
    "else:\n",
    "    print(\"while condition is false\")\n",
    "print(\"hi\")"
   ]
  },
  {
   "cell_type": "code",
   "execution_count": 1,
   "metadata": {},
   "outputs": [],
   "source": [
    "count=0\n",
    "while (count<3):\n",
    "    count=count+1\n",
    "   \n",
    "    print(count,\"Data science\")"
   ]
  },
  {
   "cell_type": "code",
   "execution_count": 13,
   "metadata": {},
   "outputs": [
    {
     "name": "stdout",
     "output_type": "stream",
     "text": [
      "2\n",
      "4\n",
      "6\n",
      "8\n",
      "10\n",
      "12\n",
      "14\n",
      "16\n",
      "18\n",
      "20\n",
      "20\n"
     ]
    }
   ],
   "source": [
    "i=0\n",
    "\n",
    "while i<20:\n",
    "    i=i+2\n",
    "    print(i)\n",
    "else:\n",
    "    print(i)\n",
    "\n",
    "    \n"
   ]
  },
  {
   "cell_type": "code",
   "execution_count": 17,
   "metadata": {},
   "outputs": [
    {
     "name": "stdout",
     "output_type": "stream",
     "text": [
      "1 is odd\n",
      "2 is even\n",
      "3 is odd\n",
      "4 is even\n",
      "5 is odd\n",
      "6 is even\n",
      "7 is odd\n",
      "8 is even\n",
      "9 is odd\n",
      "10 is even\n",
      "11 is odd\n",
      "12 is even\n",
      "13 is odd\n",
      "14 is even\n",
      "15 is odd\n",
      "16 is even\n",
      "17 is odd\n",
      "18 is even\n",
      "19 is odd\n",
      "20 is even\n"
     ]
    }
   ],
   "source": [
    "i=1\n",
    "while i<=20:\n",
    "    if i%2==0:\n",
    "        print(i,\"is even\")\n",
    "    else:\n",
    "        print(i,\"is odd\")\n",
    "    i+=1\n",
    "    "
   ]
  },
  {
   "cell_type": "code",
   "execution_count": 18,
   "metadata": {},
   "outputs": [],
   "source": [
    "list=[1,2,3,4,5,6,7,8,9]  # also called as iterables(object)\n",
    "                           #object is used by next()"
   ]
  },
  {
   "cell_type": "code",
   "execution_count": 20,
   "metadata": {},
   "outputs": [
    {
     "name": "stdout",
     "output_type": "stream",
     "text": [
      "3\n",
      "4\n",
      "5\n",
      "6\n",
      "7\n",
      "8\n",
      "9\n",
      "10\n",
      "11\n",
      "done with all elements\n"
     ]
    }
   ],
   "source": [
    "for ele in list:\n",
    "    d=ele+2\n",
    "    print(d)\n",
    "print(\"done with all elements\")"
   ]
  },
  {
   "cell_type": "code",
   "execution_count": 23,
   "metadata": {},
   "outputs": [
    {
     "name": "stdout",
     "output_type": "stream",
     "text": [
      "D\n",
      "A\n",
      "T\n",
      "A\n",
      " \n",
      "S\n",
      "C\n",
      "I\n",
      "E\n",
      "N\n",
      "C\n",
      "E\n"
     ]
    },
    {
     "data": {
      "text/plain": [
       "['D', 'A', 'T', 'A', ' ', 'S', 'C', 'I', 'E', 'N', 'C', 'E']"
      ]
     },
     "execution_count": 23,
     "metadata": {},
     "output_type": "execute_result"
    }
   ],
   "source": [
    "s='data science'\n",
    "s1=[]\n",
    "for i in s:\n",
    "    print(i.upper())\n",
    "    s1.extend(i.upper())\n",
    "s1"
   ]
  },
  {
   "cell_type": "code",
   "execution_count": 45,
   "metadata": {},
   "outputs": [
    {
     "name": "stdout",
     "output_type": "stream",
     "text": [
      "1 apple\n",
      "2 found: banana\n",
      "3 mango\n",
      "4 cherry\n"
     ]
    }
   ],
   "source": [
    "fruits={1:'apple',2:'banana',3:'mango',4:'cherry'}\n",
    "for i in fruits:\n",
    "    if fruits[i]=='banana':\n",
    "        print(i,\"found:\",fruits[i])\n",
    "    if fruits[i]!='banana':\n",
    "\n",
    "        print(i,fruits[i])\n",
    "    "
   ]
  },
  {
   "cell_type": "code",
   "execution_count": 54,
   "metadata": {},
   "outputs": [
    {
     "name": "stdout",
     "output_type": "stream",
     "text": [
      "1\n",
      "2.3\n",
      "apple\n",
      "1\n"
     ]
    }
   ],
   "source": [
    "tup=(1,2.3,'apple',1)\n",
    "for i in tup:\n",
    "    print(i)"
   ]
  },
  {
   "cell_type": "code",
   "execution_count": 53,
   "metadata": {},
   "outputs": [
    {
     "name": "stdout",
     "output_type": "stream",
     "text": [
      "1\n",
      "2.3\n",
      "2\n",
      "apple\n"
     ]
    }
   ],
   "source": [
    "set={1,2.3,'apple',2}\n",
    "for i in set:\n",
    "    print(i)"
   ]
  },
  {
   "cell_type": "code",
   "execution_count": 65,
   "metadata": {},
   "outputs": [
    {
     "name": "stdout",
     "output_type": "stream",
     "text": [
      "1\n",
      "2\n",
      "3\n",
      "4\n",
      "5\n",
      "6\n",
      "7\n",
      "8\n",
      "9\n"
     ]
    }
   ],
   "source": [
    "for i in range(1,10):\n",
    "    print(i)\n"
   ]
  },
  {
   "cell_type": "code",
   "execution_count": 66,
   "metadata": {},
   "outputs": [
    {
     "name": "stdout",
     "output_type": "stream",
     "text": [
      "0\n",
      "1\n",
      "2\n",
      "3\n",
      "4\n"
     ]
    }
   ],
   "source": [
    "for i in range(5):\n",
    "    print(i)"
   ]
  },
  {
   "cell_type": "code",
   "execution_count": 67,
   "metadata": {},
   "outputs": [
    {
     "name": "stdout",
     "output_type": "stream",
     "text": [
      "1\n",
      "3\n",
      "5\n",
      "7\n",
      "9\n"
     ]
    }
   ],
   "source": [
    "for i in range(1,10,2):\n",
    "    print(i)"
   ]
  },
  {
   "cell_type": "code",
   "execution_count": 70,
   "metadata": {},
   "outputs": [],
   "source": [
    "l1=['maths','science','geo','eco','social']\n",
    "l2=[78,85,98,25,54]"
   ]
  },
  {
   "cell_type": "code",
   "execution_count": 101,
   "metadata": {},
   "outputs": [
    {
     "name": "stdout",
     "output_type": "stream",
     "text": [
      "30\n",
      "10\n",
      "23\n",
      "Total cost:  63\n"
     ]
    }
   ],
   "source": [
    "items_prices = {\n",
    "    30:\"milk\",\n",
    "    10:\"biscuit\",\n",
    "    23:\"sugar\" \n",
    "}\n",
    "total_cost=0\n",
    "for i in items_prices:\n",
    "    print(i)\n",
    "    total_cost +=i\n",
    "        \n",
    "# Display total cost\n",
    "print(\"Total cost: \", total_cost)"
   ]
  },
  {
   "cell_type": "code",
   "execution_count": 2,
   "metadata": {},
   "outputs": [
    {
     "name": "stdout",
     "output_type": "stream",
     "text": [
      "A   -   10\n",
      "B   -   50\n",
      "_______\n",
      "Total cost:  60\n"
     ]
    }
   ],
   "source": [
    "cart={1:{'name':\"A\",\"price\":10},2:{'name':\"B\",\"price\":50}}\n",
    "total=0\n",
    "for item in cart:\n",
    "    for i in cart[item]:\n",
    "        if i=='price':\n",
    "            total=total+cart[item][i]\n",
    "        if i=='name':\n",
    "                print(cart[item]['name'],\"  -  \", cart[item]['price'])\n",
    "print(\"_______\")\n",
    "print(\"Total cost: \", total)             "
   ]
  },
  {
   "cell_type": "code",
   "execution_count": 6,
   "metadata": {},
   "outputs": [],
   "source": [
    "def area_of_circle(r):\n",
    "    area=3.14*r*r\n",
    "    print(area)"
   ]
  },
  {
   "cell_type": "code",
   "execution_count": 7,
   "metadata": {},
   "outputs": [
    {
     "name": "stdout",
     "output_type": "stream",
     "text": [
      "113.03999999999999\n"
     ]
    }
   ],
   "source": [
    "area_of_circle(6)"
   ]
  },
  {
   "cell_type": "code",
   "execution_count": 8,
   "metadata": {},
   "outputs": [
    {
     "name": "stdout",
     "output_type": "stream",
     "text": [
      "12.56\n"
     ]
    }
   ],
   "source": [
    "area_of_circle(2)"
   ]
  },
  {
   "cell_type": "code",
   "execution_count": 9,
   "metadata": {},
   "outputs": [],
   "source": [
    "def area_of_rectangle(l,b):\n",
    "    area=l*b\n",
    "    return area"
   ]
  },
  {
   "cell_type": "code",
   "execution_count": 10,
   "metadata": {},
   "outputs": [
    {
     "data": {
      "text/plain": [
       "20"
      ]
     },
     "execution_count": 10,
     "metadata": {},
     "output_type": "execute_result"
    }
   ],
   "source": [
    "area_of_rectangle(4,5)"
   ]
  },
  {
   "cell_type": "code",
   "execution_count": 13,
   "metadata": {},
   "outputs": [
    {
     "name": "stdout",
     "output_type": "stream",
     "text": [
      "Area of rectangle is 20\n"
     ]
    }
   ],
   "source": [
    "a=area_of_rectangle(4,5)\n",
    "print(\"Area of rectangle is\",a)"
   ]
  },
  {
   "cell_type": "code",
   "execution_count": 1,
   "metadata": {},
   "outputs": [],
   "source": [
    "def squareofnum():\n",
    "    a=int(input(\"enter a number: \"))\n",
    "    return a**2"
   ]
  },
  {
   "cell_type": "code",
   "execution_count": 2,
   "metadata": {},
   "outputs": [
    {
     "name": "stdout",
     "output_type": "stream",
     "text": [
      "enter a number: 4\n",
      "square of number is 16\n"
     ]
    }
   ],
   "source": [
    "b=squareofnum()\n",
    "print(\"square of number is\",b)"
   ]
  },
  {
   "cell_type": "code",
   "execution_count": 19,
   "metadata": {},
   "outputs": [
    {
     "name": "stdout",
     "output_type": "stream",
     "text": [
      "enter a number: 4\n",
      "enter a number: 5\n",
      "Sum of 4 and 5  is  9\n"
     ]
    }
   ],
   "source": [
    "a=int(input(\"enter a number: \"))\n",
    "b=int(input(\"enter a number: \"))\n",
    "def sum(a,b):\n",
    "   \n",
    "    return a+b\n",
    "\n",
    "print(\"Sum of\",a,\"and\",b,\" is \",sum(a,b))"
   ]
  },
  {
   "cell_type": "code",
   "execution_count": 27,
   "metadata": {},
   "outputs": [
    {
     "name": "stdout",
     "output_type": "stream",
     "text": [
      "11 is odd\n",
      "13 is odd\n",
      "15 is odd\n",
      "17 is odd\n",
      "19 is odd\n",
      "9\n"
     ]
    }
   ],
   "source": [
    "def odd():\n",
    "    for i in range(11,21,2):\n",
    "        #if i%2!=0:\n",
    "            print(i,\"is odd\")\n",
    "            #print(sum(a,b))\n",
    "odd()\n",
    "print(sum(a,b))"
   ]
  },
  {
   "cell_type": "code",
   "execution_count": 3,
   "metadata": {},
   "outputs": [
    {
     "name": "stdout",
     "output_type": "stream",
     "text": [
      "14\n"
     ]
    }
   ],
   "source": [
    "from functools import reduce\n",
    "lis=[1,5,8]\n",
    "print(reduce(lambda a,b:a+b,lis))"
   ]
  },
  {
   "cell_type": "code",
   "execution_count": 15,
   "metadata": {},
   "outputs": [
    {
     "name": "stdout",
     "output_type": "stream",
     "text": [
      "Enter numbers: 5 4 \n"
     ]
    },
    {
     "data": {
      "text/plain": [
       "['Number is Odd', 'Number is Even']"
      ]
     },
     "execution_count": 15,
     "metadata": {},
     "output_type": "execute_result"
    }
   ],
   "source": [
    "def check(num):\n",
    "    if num % 2 == 0:\n",
    "        return \"Number is Even\"\n",
    "    else:\n",
    "        return \"Number is Odd\"\n",
    "\n",
    "num = input(\"Enter numbers: \")\n",
    "numbers = list(map(int, num.split()))\n",
    "res = list(map(check, numbers))\n",
    "res"
   ]
  },
  {
   "cell_type": "code",
   "execution_count": 1,
   "metadata": {},
   "outputs": [
    {
     "name": "stdout",
     "output_type": "stream",
     "text": [
      "Enter a number: 45\n",
      " not a prime number.\n"
     ]
    }
   ],
   "source": [
    "def is_prime(number):\n",
    "    if number <= 1:\n",
    "        return False\n",
    "    for i in range(2, int(number**0.5) + 1):\n",
    "        if number % i == 0:\n",
    "            return False\n",
    "    return True\n",
    "\n",
    "number = int(input(\"Enter a number: \"))\n",
    "\n",
    "\n",
    "if is_prime(number):\n",
    "    print( \" prime number\")\n",
    "else:\n",
    "    print(\" not a prime number.\")\n"
   ]
  },
  {
   "cell_type": "code",
   "execution_count": 4,
   "metadata": {},
   "outputs": [
    {
     "name": "stdout",
     "output_type": "stream",
     "text": [
      "Enter a number: 7\n",
      "7 is a prime number\n"
     ]
    }
   ],
   "source": [
    "num = int(input(\"Enter a number: \"))\n",
    "if num > 1:\n",
    "    for i in range(2, int(num/2)+1):\n",
    "        if (num % i) == 0:\n",
    "            print(num, \"is not a prime number\")\n",
    "            break\n",
    "    else:\n",
    "        print(num, \"is a prime number\")\n",
    "else:\n",
    "    print(num, \"is not a prime number\")\n"
   ]
  },
  {
   "cell_type": "code",
   "execution_count": 12,
   "metadata": {},
   "outputs": [
    {
     "name": "stdout",
     "output_type": "stream",
     "text": [
      "Enter numbers: 4\n",
      "Product = 4\n"
     ]
    }
   ],
   "source": [
    "def cal_product(numbers):\n",
    "    prod = 1\n",
    "    for n in numbers:\n",
    "        prod *= n\n",
    "    return prod\n",
    "\n",
    "numbers = input(\"Enter numbers: \").split()\n",
    "numbers = list(map(int, numbers))\n",
    "res = cal_product(numbers)\n",
    "\n",
    "print(\"Product =\" ,res)"
   ]
  },
  {
   "cell_type": "code",
   "execution_count": 17,
   "metadata": {},
   "outputs": [
    {
     "name": "stdout",
     "output_type": "stream",
     "text": [
      "Enter elements of the list separated by space: ji\n"
     ]
    },
    {
     "ename": "TypeError",
     "evalue": "'str' object is not callable",
     "output_type": "error",
     "traceback": [
      "\u001b[1;31m---------------------------------------------------------------------------\u001b[0m",
      "\u001b[1;31mTypeError\u001b[0m                                 Traceback (most recent call last)",
      "\u001b[1;32m<ipython-input-17-18ff6aae72eb>\u001b[0m in \u001b[0;36m<module>\u001b[1;34m()\u001b[0m\n\u001b[0;32m      7\u001b[0m \u001b[1;33m\u001b[0m\u001b[0m\n\u001b[0;32m      8\u001b[0m \u001b[1;31m# Taking input from the user\u001b[0m\u001b[1;33m\u001b[0m\u001b[1;33m\u001b[0m\u001b[0m\n\u001b[1;32m----> 9\u001b[1;33m \u001b[0minput_list\u001b[0m \u001b[1;33m=\u001b[0m \u001b[0mlist\u001b[0m\u001b[1;33m(\u001b[0m\u001b[0mmap\u001b[0m\u001b[1;33m(\u001b[0m\u001b[0mint\u001b[0m\u001b[1;33m,\u001b[0m \u001b[0minput\u001b[0m\u001b[1;33m(\u001b[0m\u001b[1;34m\"Enter elements of the list separated by space: \"\u001b[0m\u001b[1;33m)\u001b[0m\u001b[1;33m.\u001b[0m\u001b[0msplit\u001b[0m\u001b[1;33m(\u001b[0m\u001b[1;33m)\u001b[0m\u001b[1;33m)\u001b[0m\u001b[1;33m)\u001b[0m\u001b[1;33m\u001b[0m\u001b[0m\n\u001b[0m\u001b[0;32m     10\u001b[0m \u001b[1;33m\u001b[0m\u001b[0m\n\u001b[0;32m     11\u001b[0m \u001b[1;31m# Removing duplicates using the remove_duplicates function\u001b[0m\u001b[1;33m\u001b[0m\u001b[1;33m\u001b[0m\u001b[0m\n",
      "\u001b[1;31mTypeError\u001b[0m: 'str' object is not callable"
     ]
    }
   ],
   "source": [
    "def remove_duplicates(input_list):\n",
    "    unique_list = []\n",
    "    for element in input_list:\n",
    "        if element not in unique_list:\n",
    "            unique_list.append(element)\n",
    "    return unique_list\n",
    "\n",
    "# Taking input from the user\n",
    "input_list = list(map(int, input(\"Enter elements of the list separated by space: \").split()))\n",
    "\n",
    "# Removing duplicates using the remove_duplicates function\n",
    "result_list = remove_duplicates(input_list)\n",
    "\n",
    "# Printing the result\n",
    "print(f\"List after removing duplicates: {result_list}\")\n"
   ]
  },
  {
   "cell_type": "code",
   "execution_count": 8,
   "metadata": {},
   "outputs": [
    {
     "data": {
      "text/plain": [
       "13"
      ]
     },
     "execution_count": 8,
     "metadata": {},
     "output_type": "execute_result"
    }
   ],
   "source": [
    "def add(a,b):\n",
    "    sum=a+b\n",
    "    return sum\n",
    "add(5,8)\n",
    "#print(\"addition =\", result)"
   ]
  },
  {
   "cell_type": "code",
   "execution_count": 14,
   "metadata": {},
   "outputs": [
    {
     "name": "stdout",
     "output_type": "stream",
     "text": [
      "k\n"
     ]
    },
    {
     "ename": "SyntaxError",
     "evalue": "'return' outside function (<ipython-input-14-f6669178f248>, line 3)",
     "output_type": "error",
     "traceback": [
      "\u001b[1;36m  File \u001b[1;32m\"<ipython-input-14-f6669178f248>\"\u001b[1;36m, line \u001b[1;32m3\u001b[0m\n\u001b[1;33m    return True\u001b[0m\n\u001b[1;37m    ^\u001b[0m\n\u001b[1;31mSyntaxError\u001b[0m\u001b[1;31m:\u001b[0m 'return' outside function\n"
     ]
    }
   ],
   "source": [
    "string=input(\"\")\n",
    "if \"http://\" in string or \"https://\" in string:\n",
    "    return True\n",
    "else:\n",
    "    return False"
   ]
  },
  {
   "cell_type": "code",
   "execution_count": 6,
   "metadata": {},
   "outputs": [
    {
     "name": "stdout",
     "output_type": "stream",
     "text": [
      "local scope 10\n",
      "10\n"
     ]
    }
   ],
   "source": [
    "x = \"Global Scope\" \n",
    "\n",
    "def outer_func():    \n",
    "    x = \"enclosing scope\"\n",
    "    a=10\n",
    "    def inner_func():        \n",
    "        x = \"local scope\"        \n",
    "        print(x,a)        \n",
    "                \n",
    "    inner_func()     \n",
    "    print(a)  \n",
    "outer_func()"
   ]
  },
  {
   "cell_type": "code",
   "execution_count": 22,
   "metadata": {},
   "outputs": [
    {
     "ename": "AttributeError",
     "evalue": "'function' object has no attribute '__next__'",
     "output_type": "error",
     "traceback": [
      "\u001b[1;31m---------------------------------------------------------------------------\u001b[0m",
      "\u001b[1;31mAttributeError\u001b[0m                            Traceback (most recent call last)",
      "\u001b[1;32m<ipython-input-22-00c61c4705f6>\u001b[0m in \u001b[0;36m<module>\u001b[1;34m()\u001b[0m\n\u001b[0;32m      3\u001b[0m     \u001b[1;32myield\u001b[0m \u001b[1;34m\"order preapared\"\u001b[0m\u001b[1;33m\u001b[0m\u001b[0m\n\u001b[0;32m      4\u001b[0m     \u001b[1;32myield\u001b[0m \u001b[1;34m\"order deliverred\"\u001b[0m\u001b[1;33m\u001b[0m\u001b[0m\n\u001b[1;32m----> 5\u001b[1;33m \u001b[0mprint\u001b[0m\u001b[1;33m(\u001b[0m\u001b[0msimpleGeneratorFun\u001b[0m\u001b[1;33m.\u001b[0m\u001b[0m__next__\u001b[0m\u001b[1;33m(\u001b[0m\u001b[1;33m)\u001b[0m\u001b[1;33m)\u001b[0m\u001b[1;33m\u001b[0m\u001b[0m\n\u001b[0m\u001b[0;32m      6\u001b[0m \u001b[1;33m\u001b[0m\u001b[0m\n\u001b[0;32m      7\u001b[0m \u001b[1;33m\u001b[0m\u001b[0m\n",
      "\u001b[1;31mAttributeError\u001b[0m: 'function' object has no attribute '__next__'"
     ]
    }
   ],
   "source": [
    "def simpleGeneratorFun():\n",
    "    yield \"order done\"\n",
    "    yield \"order preapared\"\n",
    "    yield \"order deliverred\"\n",
    "print(simpleGeneratorFun.__next__())\n",
    "\n",
    "\n",
    "#for value in simpleGeneratorFun():\n",
    " #   status = int(input(value))\n",
    "  #  if status:\n",
    "   #     print(\"order status\", value)\n"
   ]
  },
  {
   "cell_type": "code",
   "execution_count": 1,
   "metadata": {},
   "outputs": [
    {
     "name": "stdout",
     "output_type": "stream",
     "text": [
      "0\n",
      "2\n",
      "4\n",
      "6\n",
      "8\n"
     ]
    }
   ],
   "source": [
    "def even_numbers(n):\n",
    "            yield \"order done\"\n",
    "            yield \"order confirmed\"\n",
    "            yield \"order \"\n",
    "\n",
    "# Usage:\n",
    "for num in even_numbers(10):\n",
    "    print(num)"
   ]
  },
  {
   "cell_type": "code",
   "execution_count": 9,
   "metadata": {},
   "outputs": [
    {
     "name": "stdout",
     "output_type": "stream",
     "text": [
      "{'sagar': 4, 'hemanth': 1, 'pushpa': 9}\n"
     ]
    }
   ],
   "source": [
    "name=[\"sagar\",\"hemanth\",\"pushpa\",\"pushpa\"]\n",
    "r= [4, 1,3,9]\n",
    "mapped=zip(name,r)\n",
    "print(dict(mapped))"
   ]
  },
  {
   "cell_type": "code",
   "execution_count": 29,
   "metadata": {},
   "outputs": [
    {
     "name": "stdout",
     "output_type": "stream",
     "text": [
      "John has roll no 20\n",
      "Emily has roll no 22\n",
      "Michael has roll no 19\n"
     ]
    }
   ],
   "source": [
    "names = (\"John\", \"Emily\", \"Michael\")\n",
    "ages = [20, 22, 19]\n",
    "\n",
    "for item in zip(names, ages):\n",
    "    print(f\"{item[0]} has roll no {item[1]}\")\n",
    "    "
   ]
  },
  {
   "cell_type": "code",
   "execution_count": 32,
   "metadata": {},
   "outputs": [
    {
     "name": "stdout",
     "output_type": "stream",
     "text": [
      "Return type: <class 'enumerate'>\n",
      "[(0, 'eat'), (1, 'sleep'), (2, 'repeat')]\n",
      "[(2, 'P'), (3, 'y'), (4, 't'), (5, 'h'), (6, 'o'), (7, 'n')]\n"
     ]
    }
   ],
   "source": [
    "L1 = [\"eat\", \"sleep\", \"repeat\"] \n",
    "S1 = \"Python\"\n",
    "obj1  = enumerate(L1) \n",
    "obj2 = enumerate(S1)\n",
    "\n",
    "print (\"Return type:\", type(obj1)) \n",
    "print (list(enumerate(L1)))\n",
    "print (list(enumerate (S1,2)))"
   ]
  },
  {
   "cell_type": "code",
   "execution_count": 67,
   "metadata": {},
   "outputs": [
    {
     "data": {
      "text/plain": [
       "[100, 102, 104]"
      ]
     },
     "execution_count": 67,
     "metadata": {},
     "output_type": "execute_result"
    }
   ],
   "source": [
    "\n",
    "l=[x for x in range(0,5) if x%2==0]\n",
    "l"
   ]
  },
  {
   "cell_type": "code",
   "execution_count": 11,
   "metadata": {},
   "outputs": [
    {
     "data": {
      "text/plain": [
       "['Mango', 'Papaya']"
      ]
     },
     "execution_count": 11,
     "metadata": {},
     "output_type": "execute_result"
    }
   ],
   "source": [
    "\n",
    "x = [\"Apple\", \"Mango\", \"Papaya\"]\n",
    "\n",
    "new_list = [x for x in x if 'a' in x]\n",
    "new_list\n"
   ]
  },
  {
   "cell_type": "code",
   "execution_count": 15,
   "metadata": {},
   "outputs": [
    {
     "data": {
      "text/plain": [
       "['Banana', 'Apple', 'Mango', 'Papaya']"
      ]
     },
     "execution_count": 15,
     "metadata": {},
     "output_type": "execute_result"
    }
   ],
   "source": [
    "fruits = [\"Banana\", \"Apple\", \"Mango\", \"Papaya\"]\n",
    "\n",
    "filtered_fruits = [i for i in fruits if i]\n",
    "\n",
    "filtered_fruits"
   ]
  },
  {
   "cell_type": "code",
   "execution_count": 20,
   "metadata": {},
   "outputs": [
    {
     "name": "stdout",
     "output_type": "stream",
     "text": [
      "Enter fruits:banana\n"
     ]
    },
    {
     "ename": "TypeError",
     "evalue": "'str' object is not callable",
     "output_type": "error",
     "traceback": [
      "\u001b[1;31m---------------------------------------------------------------------------\u001b[0m",
      "\u001b[1;31mTypeError\u001b[0m                                 Traceback (most recent call last)",
      "\u001b[1;32m<ipython-input-20-f849fb0fd2d9>\u001b[0m in \u001b[0;36m<module>\u001b[1;34m()\u001b[0m\n\u001b[1;32m----> 1\u001b[1;33m \u001b[0mfruits\u001b[0m \u001b[1;33m=\u001b[0m \u001b[0mlist\u001b[0m\u001b[1;33m(\u001b[0m\u001b[0minput\u001b[0m\u001b[1;33m(\u001b[0m\u001b[1;34m\"Enter fruits:\"\u001b[0m\u001b[1;33m)\u001b[0m\u001b[1;33m)\u001b[0m\u001b[1;33m\u001b[0m\u001b[0m\n\u001b[0m\u001b[0;32m      2\u001b[0m \u001b[0mnew_list\u001b[0m \u001b[1;33m=\u001b[0m \u001b[1;33m[\u001b[0m\u001b[0mx\u001b[0m \u001b[1;32mfor\u001b[0m \u001b[0mx\u001b[0m \u001b[1;32min\u001b[0m \u001b[0mfruits\u001b[0m \u001b[1;32mif\u001b[0m \u001b[1;34m'a'\u001b[0m \u001b[1;32min\u001b[0m \u001b[0mx\u001b[0m\u001b[1;33m]\u001b[0m\u001b[1;33m\u001b[0m\u001b[0m\n\u001b[0;32m      3\u001b[0m \u001b[0mnew_list\u001b[0m\u001b[1;33m\u001b[0m\u001b[0m\n",
      "\u001b[1;31mTypeError\u001b[0m: 'str' object is not callable"
     ]
    }
   ],
   "source": [
    "fruits = list(input(\"Enter fruits:\"))\n",
    "new_list = [x for x in fruits if 'a' in x]\n",
    "new_list"
   ]
  },
  {
   "cell_type": "code",
   "execution_count": 3,
   "metadata": {},
   "outputs": [
    {
     "name": "stdout",
     "output_type": "stream",
     "text": [
      "['name', 'roll_no']\n",
      "['abc', '1']\n",
      "['def', '2']\n",
      "['ghi', '3']\n"
     ]
    }
   ],
   "source": [
    "import csv\n",
    "with open(\"C:/Users/Khuteeja/Desktop/abc.csv\",'r') as file_object:\n",
    "   # print(\"Successfully opened csv\")\n",
    "    data=csv.reader(file_object)\n",
    "    for line in data:\n",
    "        print(line)"
   ]
  },
  {
   "cell_type": "code",
   "execution_count": 5,
   "metadata": {},
   "outputs": [
    {
     "name": "stdout",
     "output_type": "stream",
     "text": [
      "<class '_csv.reader'>\n",
      "Netflix has released Dick Johnson Is Dead on 2020 and directed by Kirsten Johnson\n",
      "Netflix has released Blood & Water on 2021 and directed by \n",
      "Netflix has released Ganglands on 2021 and directed by Julien Leclercq\n",
      "Netflix has released Jailbirds New Orleans on 2021 and directed by \n"
     ]
    }
   ],
   "source": [
    "import csv\n",
    "c=0\n",
    "with open(\"C:/Users/Khuteeja/Desktop/netflix_titles.csv\",'r') as file_object:\n",
    "   # print(\"Successfully opened csv\")\n",
    "    data=csv.reader(file_object)\n",
    "    print(type(data))\n",
    "    for line in data:\n",
    "        c=c+1\n",
    "        if c>5:\n",
    "            break\n",
    "        if c==1:\n",
    "            continue\n",
    "        print(\"Netflix has released\",line[2],\"on\",line[7],\"and directed by\",line[3])\n",
    "        \n",
    "        "
   ]
  },
  {
   "cell_type": "code",
   "execution_count": 20,
   "metadata": {
    "collapsed": true
   },
   "outputs": [
    {
     "name": "stdout",
     "output_type": "stream",
     "text": [
      "<class 'csv.DictReader'>\n",
      "OrderedDict([('show_id', 's1'), ('type', 'Movie'), ('title', 'Dick Johnson Is Dead'), ('director', 'Kirsten Johnson'), ('cast', ''), ('country', 'United States'), ('date_added', 'September 25, 2021'), ('release_year', '2020'), ('rating', 'PG-13'), ('duration', '90 min'), ('listed_in', 'Documentaries'), ('description', 'As her father nears the end of his life, filmmaker Kirsten Johnson stages his death in inventive and comical ways to help them both face the inevitable.')])\n",
      "OrderedDict([('show_id', 's2'), ('type', 'TV Show'), ('title', 'Blood & Water'), ('director', ''), ('cast', 'Ama Qamata, Khosi Ngema, Gail Mabalane, Thabang Molaba, Dillon Windvogel, Natasha Thahane, Arno Greeff, Xolile Tshabalala, Getmore Sithole, Cindy Mahlangu, Ryle De Morny, Greteli Fincham, Sello Maake Ka-Ncube, Odwa Gwanya, Mekaila Mathys, Sandi Schultz, Duane Williams, Shamilla Miller, Patrick Mofokeng'), ('country', 'South Africa'), ('date_added', 'September 24, 2021'), ('release_year', '2021'), ('rating', 'TV-MA'), ('duration', '2 Seasons'), ('listed_in', 'International TV Shows, TV Dramas, TV Mysteries'), ('description', 'After crossing paths at a party, a Cape Town teen sets out to prove whether a private-school swimming star is her sister who was abducted at birth.')])\n",
      "OrderedDict([('show_id', 's3'), ('type', 'TV Show'), ('title', 'Ganglands'), ('director', 'Julien Leclercq'), ('cast', 'Sami Bouajila, Tracy Gotoas, Samuel Jouy, Nabiha Akkari, Sofia Lesaffre, Salim Kechiouche, Noureddine Farihi, Geert Van Rampelberg, Bakary Diombera'), ('country', ''), ('date_added', 'September 24, 2021'), ('release_year', '2021'), ('rating', 'TV-MA'), ('duration', '1 Season'), ('listed_in', 'Crime TV Shows, International TV Shows, TV Action & Adventure'), ('description', 'To protect his family from a powerful drug lord, skilled thief Mehdi and his expert team of robbers are pulled into a violent and deadly turf war.')])\n",
      "OrderedDict([('show_id', 's4'), ('type', 'TV Show'), ('title', 'Jailbirds New Orleans'), ('director', ''), ('cast', ''), ('country', ''), ('date_added', 'September 24, 2021'), ('release_year', '2021'), ('rating', 'TV-MA'), ('duration', '1 Season'), ('listed_in', 'Docuseries, Reality TV'), ('description', 'Feuds, flirtations and toilet talk go down among the incarcerated women at the Orleans Justice Center in New Orleans on this gritty reality series.')])\n",
      "OrderedDict([('show_id', 's5'), ('type', 'TV Show'), ('title', 'Kota Factory'), ('director', ''), ('cast', 'Mayur More, Jitendra Kumar, Ranjan Raj, Alam Khan, Ahsaas Channa, Revathi Pillai, Urvi Singh, Arun Kumar'), ('country', 'India'), ('date_added', 'September 24, 2021'), ('release_year', '2021'), ('rating', 'TV-MA'), ('duration', '2 Seasons'), ('listed_in', 'International TV Shows, Romantic TV Shows, TV Comedies'), ('description', 'In a city of coaching centers known to train Indiaâ€™s finest collegiate minds, an earnest but unexceptional student and his friends navigate campus life.')])\n",
      "OrderedDict([('show_id', 's6'), ('type', 'TV Show'), ('title', 'Midnight Mass'), ('director', 'Mike Flanagan'), ('cast', 'Kate Siegel, Zach Gilford, Hamish Linklater, Henry Thomas, Kristin Lehman, Samantha Sloyan, Igby Rigney, Rahul Kohli, Annarah Cymone, Annabeth Gish, Alex Essoe, Rahul Abburi, Matt Biedel, Michael Trucco, Crystal Balint, Louis Oliver'), ('country', ''), ('date_added', 'September 24, 2021'), ('release_year', '2021'), ('rating', 'TV-MA'), ('duration', '1 Season'), ('listed_in', 'TV Dramas, TV Horror, TV Mysteries'), ('description', 'The arrival of a charismatic young priest brings glorious miracles, ominous mysteries and renewed religious fervor to a dying town desperate to believe.')])\n",
      "OrderedDict([('show_id', 's7'), ('type', 'Movie'), ('title', 'My Little Pony: A New Generation'), ('director', 'Robert Cullen, JosÃ© Luis Ucha'), ('cast', 'Vanessa Hudgens, Kimiko Glenn, James Marsden, Sofia Carson, Liza Koshy, Ken Jeong, Elizabeth Perkins, Jane Krakowski, Michael McKean, Phil LaMarr'), ('country', ''), ('date_added', 'September 24, 2021'), ('release_year', '2021'), ('rating', 'PG'), ('duration', '91 min'), ('listed_in', 'Children & Family Movies'), ('description', \"Equestria's divided. But a bright-eyed hero believes Earth Ponies, Pegasi and Unicorns should be pals â€” and, hoof to heart, sheâ€™s determined to prove it.\")])\n",
      "OrderedDict([('show_id', 's8'), ('type', 'Movie'), ('title', 'Sankofa'), ('director', 'Haile Gerima'), ('cast', 'Kofi Ghanaba, Oyafunmike Ogunlano, Alexandra Duah, Nick Medley, Mutabaruka, Afemo Omilami, Reggie Carter, Mzuri'), ('country', 'United States, Ghana, Burkina Faso, United Kingdom, Germany, Ethiopia'), ('date_added', 'September 24, 2021'), ('release_year', '1993'), ('rating', 'TV-MA'), ('duration', '125 min'), ('listed_in', 'Dramas, Independent Movies, International Movies'), ('description', 'On a photo shoot in Ghana, an American model slips back in time, becomes enslaved on a plantation and bears witness to the agony of her ancestral past.')])\n",
      "OrderedDict([('show_id', 's9'), ('type', 'TV Show'), ('title', 'The Great British Baking Show'), ('director', 'Andy Devonshire'), ('cast', 'Mel Giedroyc, Sue Perkins, Mary Berry, Paul Hollywood'), ('country', 'United Kingdom'), ('date_added', 'September 24, 2021'), ('release_year', '2021'), ('rating', 'TV-14'), ('duration', '9 Seasons'), ('listed_in', 'British TV Shows, Reality TV'), ('description', \"A talented batch of amateur bakers face off in a 10-week competition, whipping up their best dishes in the hopes of being named the U.K.'s best.\")])\n",
      "OrderedDict([('show_id', 's10'), ('type', 'Movie'), ('title', 'The Starling'), ('director', 'Theodore Melfi'), ('cast', \"Melissa McCarthy, Chris O'Dowd, Kevin Kline, Timothy Olyphant, Daveed Diggs, Skyler Gisondo, Laura Harrier, Rosalind Chao, Kimberly Quinn, Loretta Devine, Ravi Kapoor\"), ('country', 'United States'), ('date_added', 'September 24, 2021'), ('release_year', '2021'), ('rating', 'PG-13'), ('duration', '104 min'), ('listed_in', 'Comedies, Dramas'), ('description', \"A woman adjusting to life after a loss contends with a feisty bird that's taken over her garden â€” and a husband who's struggling to find a way forward.\")])\n",
      "OrderedDict([('show_id', 's11'), ('type', 'TV Show'), ('title', 'Vendetta: Truth, Lies and The Mafia'), ('director', ''), ('cast', ''), ('country', ''), ('date_added', 'September 24, 2021'), ('release_year', '2021'), ('rating', 'TV-MA'), ('duration', '1 Season'), ('listed_in', 'Crime TV Shows, Docuseries, International TV Shows'), ('description', 'Sicily boasts a bold \"Anti-Mafia\" coalition. But what happens when those trying to bring down organized crime are accused of being criminals themselves?')])\n",
      "OrderedDict([('show_id', 's12'), ('type', 'TV Show'), ('title', 'Bangkok Breaking'), ('director', 'Kongkiat Komesiri'), ('cast', 'Sukollawat Kanarot, Sushar Manaying, Pavarit Mongkolpisit, Sahajak Boonthanakit, Suthipongse Thatphithakkul, Bhasaworn Bawronkirati, Daweerit Chullasapya, Waratthaya Wongchayaporn, Kittiphoom Wongpentak, Abhicha Thanachanun, Nophand Boonyai, Kittipong Khamsat, Arisara Wongchalee, Jaytiya Naiwattanakul, Pantipa Arunwattanachai, Panupan Jantanawong, Kungtap Saelim, Phumphat Chartsuriyakiat, Issara Veranitinunt, Keerati Sivakuae, Panjai Sirisuwan, Supranee Charoenpol, Suda Chuenban, Visaka Banhansupavat, Pitchatorn Santinatornkul'), ('country', ''), ('date_added', 'September 23, 2021'), ('release_year', '2021'), ('rating', 'TV-MA'), ('duration', '1 Season'), ('listed_in', 'Crime TV Shows, International TV Shows, TV Action & Adventure'), ('description', 'Struggling to earn a living in Bangkok, a man joins an emergency rescue service and realizes he must unravel a citywide conspiracy.')])\n",
      "OrderedDict([('show_id', 's13'), ('type', 'Movie'), ('title', 'Je Suis Karl'), ('director', 'Christian Schwochow'), ('cast', 'Luna Wedler, Jannis NiewÃ¶hner, Milan Peschel, Edin HasanoviÄ‡, Anna FialovÃ¡, Marlon Boess, Victor Boccard, Fleur Geffrier, Aziz Dyab, MÃ©lanie FouchÃ©, Elizaveta MaximovÃ¡'), ('country', 'Germany, Czech Republic'), ('date_added', 'September 23, 2021'), ('release_year', '2021'), ('rating', 'TV-MA'), ('duration', '127 min'), ('listed_in', 'Dramas, International Movies'), ('description', 'After most of her family is murdered in a terrorist bombing, a young woman is unknowingly lured into joining the very group that killed them.')])\n",
      "OrderedDict([('show_id', 's14'), ('type', 'Movie'), ('title', 'Confessions of an Invisible Girl'), ('director', 'Bruno Garotti'), ('cast', 'Klara Castanho, Lucca Picon, JÃºlia Gomes, Marcus Bessa, Kiria Malheiros, Fernanda Concon, Gabriel Lima, Caio Cabral, Leonardo Cidade, Jade Cardozo'), ('country', ''), ('date_added', 'September 22, 2021'), ('release_year', '2021'), ('rating', 'TV-PG'), ('duration', '91 min'), ('listed_in', 'Children & Family Movies, Comedies'), ('description', \"When the clever but socially-awkward TetÃª joins a new school, she'll do anything to fit in. But the queen bee among her classmates has other ideas.\")])\n",
      "OrderedDict([('show_id', 's15'), ('type', 'TV Show'), ('title', 'Crime Stories: India Detectives'), ('director', ''), ('cast', ''), ('country', ''), ('date_added', 'September 22, 2021'), ('release_year', '2021'), ('rating', 'TV-MA'), ('duration', '1 Season'), ('listed_in', 'British TV Shows, Crime TV Shows, Docuseries'), ('description', 'Cameras following Bengaluru police on the job offer a rare glimpse into the complex and challenging inner workings of four major crime investigations.')])\n",
      "OrderedDict([('show_id', 's16'), ('type', 'TV Show'), ('title', 'Dear White People'), ('director', ''), ('cast', 'Logan Browning, Brandon P. Bell, DeRon Horton, Antoinette Robertson, John Patrick Amedori, Ashley Blaine Featherson, Marque Richardson, Giancarlo Esposito'), ('country', 'United States'), ('date_added', 'September 22, 2021'), ('release_year', '2021'), ('rating', 'TV-MA'), ('duration', '4 Seasons'), ('listed_in', 'TV Comedies, TV Dramas'), ('description', 'Students of color navigate the daily slights and slippery politics of life at an Ivy League college that\\'s not nearly as \"post-racial\" as it thinks.')])\n",
      "OrderedDict([('show_id', 's17'), ('type', 'Movie'), ('title', \"Europe's Most Dangerous Man: Otto Skorzeny in Spain\"), ('director', 'Pedro de Echave GarcÃ\\xada, Pablo AzorÃ\\xadn Williams'), ('cast', ''), ('country', ''), ('date_added', 'September 22, 2021'), ('release_year', '2020'), ('rating', 'TV-MA'), ('duration', '67 min'), ('listed_in', 'Documentaries, International Movies'), ('description', 'Declassified documents reveal the post-WWII life of Otto Skorzeny, a close Hitler ally who escaped to Spain and became an adviser to world presidents.')])\n",
      "OrderedDict([('show_id', 's18'), ('type', 'TV Show'), ('title', 'Falsa identidad'), ('director', ''), ('cast', 'Luis Ernesto Franco, Camila Sodi, Sergio Goyri, Samadhi Zendejas, Eduardo YÃ¡Ã±ez, Sonya Smith, Alejandro Camacho, Azela Robinson, Uriel del Toro, GÃ©raldine BazÃ¡n, Gabriela Roel, Marcus Ornellas'), ('country', 'Mexico'), ('date_added', 'September 22, 2021'), ('release_year', '2020'), ('rating', 'TV-MA'), ('duration', '2 Seasons'), ('listed_in', 'Crime TV Shows, Spanish-Language TV Shows, TV Dramas'), ('description', 'Strangers Diego and Isabel flee their home in Mexico and pretend to be a married couple to escape his drug-dealing enemies and her abusive husband.')])\n",
      "OrderedDict([('show_id', 's19'), ('type', 'Movie'), ('title', 'Intrusion'), ('director', 'Adam Salky'), ('cast', 'Freida Pinto, Logan Marshall-Green, Robert John Burke, Megan Elisabeth Kelly, Sarah Minnich, Hayes Hargrove, Mark Sivertsen, Brandon Fierro, Antonio Valles, Clint Obenchain'), ('country', ''), ('date_added', 'September 22, 2021'), ('release_year', '2021'), ('rating', 'TV-14'), ('duration', '94 min'), ('listed_in', 'Thrillers'), ('description', 'After a deadly home invasion at a coupleâ€™s new dream house, the traumatized wife searches for answers â€” and learns the real danger is just beginning.')])\n",
      "OrderedDict([('show_id', 's20'), ('type', 'TV Show'), ('title', 'Jaguar'), ('director', ''), ('cast', 'Blanca SuÃ¡rez, IvÃ¡n Marcos, Ã“scar Casas, AdriÃ¡n Lastra, Francesc Garrido, Stefan Weinert, Julia MÃ¶ller, Alicia Chojnowski'), ('country', ''), ('date_added', 'September 22, 2021'), ('release_year', '2021'), ('rating', 'TV-MA'), ('duration', '1 Season'), ('listed_in', 'International TV Shows, Spanish-Language TV Shows, TV Action & Adventure'), ('description', 'In the 1960s, a Holocaust survivor joins a group of self-trained spies who seek justice against Nazis fleeing to Spain to hide after WWII.')])\n",
      "OrderedDict([('show_id', 's21'), ('type', 'TV Show'), ('title', 'Monsters Inside: The 24 Faces of Billy Milligan'), ('director', 'Olivier Megaton'), ('cast', ''), ('country', ''), ('date_added', 'September 22, 2021'), ('release_year', '2021'), ('rating', 'TV-14'), ('duration', '1 Season'), ('listed_in', 'Crime TV Shows, Docuseries, International TV Shows'), ('description', 'In the late 1970s, an accused serial rapist claims multiple personalities control his behavior, setting off a legal odyssey that captivates America.')])\n",
      "OrderedDict([('show_id', 's22'), ('type', 'TV Show'), ('title', 'Resurrection: Ertugrul'), ('director', ''), ('cast', 'Engin Altan DÃ¼zyatan, Serdar GÃ¶khan, HÃ¼lya Darcan, Kaan TaÅŸaner, Esra BilgiÃ§, Osman Soykut, Serdar Deniz, Cengiz CoÅŸkun, Reshad Strik, Hande SubaÅŸÄ±'), ('country', 'Turkey'), ('date_added', 'September 22, 2021'), ('release_year', '2018'), ('rating', 'TV-14'), ('duration', '5 Seasons'), ('listed_in', 'International TV Shows, TV Action & Adventure, TV Dramas'), ('description', \"When a good deed unwittingly endangers his clan, a 13th-century Turkish warrior agrees to fight a sultan's enemies in exchange for new tribal land.\")])\n",
      "OrderedDict([('show_id', 's23'), ('type', 'Movie'), ('title', 'Avvai Shanmughi'), ('director', 'K.S. Ravikumar'), ('cast', 'Kamal Hassan, Meena, Gemini Ganesan, Heera Rajgopal, Nassar, S.P. Balasubrahmanyam'), ('country', ''), ('date_added', 'September 21, 2021'), ('release_year', '1996'), ('rating', 'TV-PG'), ('duration', '161 min'), ('listed_in', 'Comedies, International Movies'), ('description', 'Newly divorced and denied visitation rights with his daughter, a doting father disguises himself as a gray-haired nanny in order to spend time with her.')])\n",
      "OrderedDict([('show_id', 's24'), ('type', 'Movie'), ('title', 'Go! Go! Cory Carson: Chrissy Takes the Wheel'), ('director', 'Alex Woo, Stanley Moore'), ('cast', 'Maisie Benson, Paul Killam, Kerry Gudjohnsen, AC Lim'), ('country', ''), ('date_added', 'September 21, 2021'), ('release_year', '2021'), ('rating', 'TV-Y'), ('duration', '61 min'), ('listed_in', 'Children & Family Movies'), ('description', 'From arcade games to sled days and hiccup cures, Cory Carsonâ€™s curious little sister Chrissy speeds off on her own for fun and adventure all over town!')])\n",
      "OrderedDict([('show_id', 's25'), ('type', 'Movie'), ('title', 'Jeans'), ('director', 'S. Shankar'), ('cast', 'Prashanth, Aishwarya Rai Bachchan, Sri Lakshmi, Nassar'), ('country', 'India'), ('date_added', 'September 21, 2021'), ('release_year', '1998'), ('rating', 'TV-14'), ('duration', '166 min'), ('listed_in', 'Comedies, International Movies, Romantic Movies'), ('description', 'When the father of the man she loves insists that his twin sons marry twin sisters, a woman creates an alter ego that might be a bit too convincing.')])\n",
      "OrderedDict([('show_id', 's26'), ('type', 'TV Show'), ('title', 'Love on the Spectrum'), ('director', ''), ('cast', 'Brooke Satchwell'), ('country', 'Australia'), ('date_added', 'September 21, 2021'), ('release_year', '2021'), ('rating', 'TV-14'), ('duration', '2 Seasons'), ('listed_in', 'Docuseries, International TV Shows, Reality TV'), ('description', 'Finding love can be hard for anyone. For young adults on the autism spectrum, exploring the unpredictable world of dating is even more complicated.')])\n",
      "OrderedDict([('show_id', 's27'), ('type', 'Movie'), ('title', 'Minsara Kanavu'), ('director', 'Rajiv Menon'), ('cast', 'Arvind Swamy, Kajol, Prabhu Deva, Nassar, S.P. Balasubrahmanyam, Girish Karnad'), ('country', ''), ('date_added', 'September 21, 2021'), ('release_year', '1997'), ('rating', 'TV-PG'), ('duration', '147 min'), ('listed_in', 'Comedies, International Movies, Music & Musicals'), ('description', 'A tangled love triangle ensues when a man falls for a woman studying to become a nun â€” and she falls for the friend he enlists to help him pursue her.')])\n",
      "OrderedDict([('show_id', 's28'), ('type', 'Movie'), ('title', 'Grown Ups'), ('director', 'Dennis Dugan'), ('cast', 'Adam Sandler, Kevin James, Chris Rock, David Spade, Rob Schneider, Salma Hayek, Maria Bello, Maya Rudolph, Colin Quinn, Tim Meadows, Joyce Van Patten'), ('country', 'United States'), ('date_added', 'September 20, 2021'), ('release_year', '2010'), ('rating', 'PG-13'), ('duration', '103 min'), ('listed_in', 'Comedies'), ('description', 'Mourning the loss of their beloved junior high basketball coach, five middle-aged pals reunite at a lake house and rediscover the joys of being a kid.')])\n",
      "OrderedDict([('show_id', 's29'), ('type', 'Movie'), ('title', 'Dark Skies'), ('director', 'Scott Stewart'), ('cast', 'Keri Russell, Josh Hamilton, J.K. Simmons, Dakota Goyo, Kadan Rockett, L.J. Benet, Rich Hutchman, Myndy Crist, Annie Thurman, Jake Brennan'), ('country', 'United States'), ('date_added', 'September 19, 2021'), ('release_year', '2013'), ('rating', 'PG-13'), ('duration', '97 min'), ('listed_in', 'Horror Movies, Sci-Fi & Fantasy'), ('description', 'A familyâ€™s idyllic suburban life shatters when an alien force invades their home, and as they struggle to convince others of the deadly threat.')])\n",
      "OrderedDict([('show_id', 's30'), ('type', 'Movie'), ('title', 'Paranoia'), ('director', 'Robert Luketic'), ('cast', 'Liam Hemsworth, Gary Oldman, Amber Heard, Harrison Ford, Lucas Till, Embeth Davidtz, Julian McMahon, Josh Holloway, Richard Dreyfuss, Angela Sarafyan'), ('country', 'United States, India, France'), ('date_added', 'September 19, 2021'), ('release_year', '2013'), ('rating', 'PG-13'), ('duration', '106 min'), ('listed_in', 'Thrillers'), ('description', \"Blackmailed by his company's CEO, a low-level employee finds himself forced to spy on the boss's rival and former mentor.\")])\n",
      "OrderedDict([('show_id', 's31'), ('type', 'Movie'), ('title', 'Ankahi Kahaniya'), ('director', 'Ashwiny Iyer Tiwari, Abhishek Chaubey, Saket Chaudhary'), ('cast', 'Abhishek Banerjee, Rinku Rajguru, Delzad Hiwale, Kunal Kapoor, Zoya Hussain, Nikhil Dwivedi, Palomi Ghosh'), ('country', ''), ('date_added', 'September 17, 2021'), ('release_year', '2021'), ('rating', 'TV-14'), ('duration', '111 min'), ('listed_in', 'Dramas, Independent Movies, International Movies'), ('description', 'As big city life buzzes around them, lonely souls discover surprising sources of connection and companionship in three tales of love, loss and longing.')])\n",
      "OrderedDict([('show_id', 's32'), ('type', 'TV Show'), ('title', 'Chicago Party Aunt'), ('director', ''), ('cast', \"Lauren Ash, Rory O'Malley, RuPaul Charles, Jill Talley, Ike Barinholtz, Jon Barinholtz, Matthew Craig, Bob Odenkirk, Mike Hagerty, Katie Rich, Chris Witaske\"), ('country', ''), ('date_added', 'September 17, 2021'), ('release_year', '2021'), ('rating', 'TV-MA'), ('duration', '1 Season'), ('listed_in', 'TV Comedies'), ('description', 'Chicago Party Aunt Diane is an idolized troublemaker with a talent for avoiding adulthood â€” and a soft spot for her soul-searching nephew.')])\n",
      "OrderedDict([('show_id', 's33'), ('type', 'TV Show'), ('title', 'Sex Education'), ('director', ''), ('cast', 'Asa Butterfield, Gillian Anderson, Ncuti Gatwa, Emma Mackey, Connor Swindells, Kedar Williams-Stirling, Alistair Petrie'), ('country', 'United Kingdom'), ('date_added', 'September 17, 2021'), ('release_year', '2020'), ('rating', 'TV-MA'), ('duration', '3 Seasons'), ('listed_in', 'British TV Shows, International TV Shows, TV Comedies'), ('description', 'Insecure Otis has all the answers when it comes to sex advice, thanks to his therapist mom. So rebel Maeve proposes a school sex-therapy clinic.')])\n",
      "OrderedDict([('show_id', 's34'), ('type', 'TV Show'), ('title', 'Squid Game'), ('director', ''), ('cast', 'Lee Jung-jae, Park Hae-soo, Wi Ha-jun, Oh Young-soo, Jung Ho-yeon, Heo Sung-tae, Kim Joo-ryoung, Tripathi Anupam, You Seong-joo, Lee You-mi'), ('country', ''), ('date_added', 'September 17, 2021'), ('release_year', '2021'), ('rating', 'TV-MA'), ('duration', '1 Season'), ('listed_in', 'International TV Shows, TV Dramas, TV Thrillers'), ('description', \"Hundreds of cash-strapped players accept a strange invitation to compete in children's games. Inside, a tempting prize awaits â€” with deadly high stakes.\")])\n",
      "OrderedDict([('show_id', 's35'), ('type', 'TV Show'), ('title', 'Tayo and Little Wizards'), ('director', ''), ('cast', 'Dami Lee, Jason Lee, Bommie Catherine Han, Jennifer Waescher, Nancy Kim'), ('country', ''), ('date_added', 'September 17, 2021'), ('release_year', '2020'), ('rating', 'TV-Y7'), ('duration', '1 Season'), ('listed_in', \"Kids' TV\"), ('description', 'Tayo speeds into an adventure when his friends get kidnapped by evil magicians invading their city in search of a magical gemstone.')])\n",
      "OrderedDict([('show_id', 's36'), ('type', 'Movie'), ('title', 'The Father Who Moves Mountains'), ('director', 'Daniel Sandu'), ('cast', 'Adrian Titieni, Elena Purea, Judith State, Valeriu AndriuÈ›Äƒ, Tudor Smoleanu, Virgil Aioanei, Radu Botar, Petronela Grigorescu, Bogdan Nechifor, Cristian Bota'), ('country', ''), ('date_added', 'September 17, 2021'), ('release_year', '2021'), ('rating', 'TV-MA'), ('duration', '110 min'), ('listed_in', 'Dramas, International Movies, Thrillers'), ('description', 'When his son goes missing during a snowy hike in the mountains, a retired intelligence officer will stop at nothing â€” and risk everything â€” to find him.')])\n",
      "OrderedDict([('show_id', 's37'), ('type', 'Movie'), ('title', 'The Stronghold'), ('director', 'CÃ©dric Jimenez'), ('cast', 'Gilles Lellouche, Karim Leklou, FranÃ§ois Civil, AdÃ¨le Exarchopoulos, Kenza Fortas, Cyril Lecomte, MichaÃ«l Abiteboul, Idir Azougli, Vincent Darmuzey, Jean-Yves Berteloot'), ('country', ''), ('date_added', 'September 17, 2021'), ('release_year', '2021'), ('rating', 'TV-MA'), ('duration', '105 min'), ('listed_in', 'Action & Adventure, Dramas, International Movies'), ('description', 'Tired of the small-time grind, three Marseille cops get a chance to bust a major drug network. But lines blur when a key informant makes a big ask.')])\n",
      "OrderedDict([('show_id', 's38'), ('type', 'TV Show'), ('title', 'Angry Birds'), ('director', ''), ('cast', 'Antti PÃ¤Ã¤kkÃ¶nen, HeljÃ¤ Heikkinen, Lynne Guaglione, Pasi Ruohonen, Rauno Ahonen'), ('country', 'Finland'), ('date_added', 'September 16, 2021'), ('release_year', '2018'), ('rating', 'TV-Y7'), ('duration', '1 Season'), ('listed_in', \"Kids' TV, TV Comedies\"), ('description', 'Birds Red, Chuck and their feathered friends have lots of adventures while guarding eggs in their nest that pesky pigs keep trying to steal.')])\n",
      "OrderedDict([('show_id', 's39'), ('type', 'Movie'), ('title', 'Birth of the Dragon'), ('director', 'George Nolfi'), ('cast', 'Billy Magnussen, Ron Yuan, Qu Jingjing, Terry Chen, Vanness Wu, Jin Xing, Philip Ng, Xia Yu, Yu Xia'), ('country', 'China, Canada, United States'), ('date_added', 'September 16, 2021'), ('release_year', '2017'), ('rating', 'PG-13'), ('duration', '96 min'), ('listed_in', 'Action & Adventure, Dramas'), ('description', 'A young Bruce Lee angers kung fu traditionalists by teaching outsiders, leading to a showdown with a Shaolin master in this film based on real events.')])\n",
      "OrderedDict([('show_id', 's40'), ('type', 'TV Show'), ('title', 'Chhota Bheem'), ('director', ''), ('cast', 'Vatsal Dubey, Julie Tejwani, Rupa Bhimani, Jigna Bhardwaj, Rajesh Kava, Mousam, Swapnil'), ('country', 'India'), ('date_added', 'September 16, 2021'), ('release_year', '2021'), ('rating', 'TV-Y7'), ('duration', '3 Seasons'), ('listed_in', \"Kids' TV\"), ('description', 'A brave, energetic little boy with superhuman powers leads his friends on exciting adventures to guard their fellow Dholakpur villagers from evil.')])\n",
      "OrderedDict([('show_id', 's41'), ('type', 'TV Show'), ('title', 'He-Man and the Masters of the Universe'), ('director', ''), ('cast', 'Yuri Lowenthal, Kimberly Brooks, Antony Del Rio, Trevor Devall, Ben Diskin, Grey Griffin, David Kaye, Tom Kenny, Judy Alice Lee, Roger Craig Smith, Fred Tatasciore'), ('country', 'United States'), ('date_added', 'September 16, 2021'), ('release_year', '2021'), ('rating', 'TV-Y7'), ('duration', '1 Season'), ('listed_in', \"Kids' TV, TV Sci-Fi & Fantasy\"), ('description', 'Mighty teen Adam and his heroic squad of misfits discover the legendary power of Grayskull â€” and their destiny to defend Eternia from sinister Skeletor.')])\n",
      "OrderedDict([('show_id', 's42'), ('type', 'Movie'), ('title', 'Jaws'), ('director', 'Steven Spielberg'), ('cast', 'Roy Scheider, Robert Shaw, Richard Dreyfuss, Lorraine Gary, Murray Hamilton, Carl Gottlieb, Jeffrey Kramer, Susan Backlinie, Jonathan Filley, Ted Grossman'), ('country', 'United States'), ('date_added', 'September 16, 2021'), ('release_year', '1975'), ('rating', 'PG'), ('duration', '124 min'), ('listed_in', 'Action & Adventure, Classic Movies, Dramas'), ('description', 'When an insatiable great white shark terrorizes Amity Island, a police chief, an oceanographer and a grizzled shark hunter seek to destroy the beast.')])\n",
      "OrderedDict([('show_id', 's43'), ('type', 'Movie'), ('title', 'Jaws 2'), ('director', 'Jeannot Szwarc'), ('cast', 'Roy Scheider, Lorraine Gary, Murray Hamilton, Joseph Mascolo, Jeffrey Kramer, Collin Wilcox Paxton, Ann Dusenberry, Mark Gruner, Barry Coe, Susan French'), ('country', 'United States'), ('date_added', 'September 16, 2021'), ('release_year', '1978'), ('rating', 'PG'), ('duration', '116 min'), ('listed_in', 'Dramas, Horror Movies, Thrillers'), ('description', 'Four years after the last deadly shark attacks, police chief Martin Brody fights to protect Amity Island from another killer great white.')])\n",
      "OrderedDict([('show_id', 's44'), ('type', 'Movie'), ('title', 'Jaws 3'), ('director', 'Joe Alves'), ('cast', 'Dennis Quaid, Bess Armstrong, Simon MacCorkindale, Louis Gossett Jr., John Putch, Lea Thompson, P.H. Moriarty, Dan Blasko, Liz Morris, Lisa Maurer'), ('country', 'United States'), ('date_added', 'September 16, 2021'), ('release_year', '1983'), ('rating', 'PG'), ('duration', '98 min'), ('listed_in', 'Action & Adventure, Horror Movies, Thrillers'), ('description', 'After the staff of a marine theme park try to capture a young great white shark, they discover its mother has invaded the enclosure and is out for blood.')])\n",
      "OrderedDict([('show_id', 's45'), ('type', 'Movie'), ('title', 'Jaws: The Revenge'), ('director', 'Joseph Sargent'), ('cast', 'Lorraine Gary, Lance Guest, Mario Van Peebles, Karen Young, Michael Caine, Judith Barsi, Mitchell Anderson, Lynn Whitfield'), ('country', 'United States'), ('date_added', 'September 16, 2021'), ('release_year', '1987'), ('rating', 'PG-13'), ('duration', '91 min'), ('listed_in', 'Action & Adventure, Horror Movies, Thrillers'), ('description', 'After another deadly shark attack, Ellen Brody has had enough of Amity Island and moves to the Caribbean â€“ but a great white shark follows her there.')])\n",
      "OrderedDict([('show_id', 's46'), ('type', 'Movie'), ('title', 'My Heroes Were Cowboys'), ('director', 'Tyler Greco'), ('cast', ''), ('country', ''), ('date_added', 'September 16, 2021'), ('release_year', '2021'), ('rating', 'PG'), ('duration', '23 min'), ('listed_in', 'Documentaries'), ('description', \"Robin Wiltshire's painful childhood was rescued by Westerns. Now he lives on the frontier of his dreams, training the horses he loves for the big screen.\")])\n",
      "OrderedDict([('show_id', 's47'), ('type', 'Movie'), ('title', 'Safe House'), ('director', 'Daniel Espinosa'), ('cast', 'Denzel Washington, Ryan Reynolds, Vera Farmiga, Brendan Gleeson, Sam Shepard, RubÃ©n Blades, Nora Arnezeder, Robert Patrick, Liam Cunningham, Joel Kinnaman'), ('country', 'South Africa, United States, Japan'), ('date_added', 'September 16, 2021'), ('release_year', '2012'), ('rating', 'R'), ('duration', '115 min'), ('listed_in', 'Action & Adventure'), ('description', \"Young CIA operative Matt Weston must get a dangerous criminal out of an agency safe house that's come under attack and get him to a securer location.\")])\n",
      "OrderedDict([('show_id', 's48'), ('type', 'TV Show'), ('title', 'The Smart Money Woman'), ('director', 'Bunmi Ajakaiye'), ('cast', 'Osas Ighodaro, Ini Dima-Okojie, Kemi Lala Akindoju, Toni Tones, Ebenezer Eno, Eso Okolocha DIke, Patrick Diabuah, Karibi Fubara, Temisan Emmanuel, Timini Egbuson'), ('country', ''), ('date_added', 'September 16, 2021'), ('release_year', '2020'), ('rating', 'TV-MA'), ('duration', '1 Season'), ('listed_in', 'International TV Shows, Romantic TV Shows, TV Comedies'), ('description', \"Five glamorous millennials strive for success as they juggle careers, finances, love and friendships. Based on Arese Ugwu's 2016 best-selling novel.\")])\n",
      "OrderedDict([('show_id', 's49'), ('type', 'Movie'), ('title', 'Training Day'), ('director', 'Antoine Fuqua'), ('cast', 'Denzel Washington, Ethan Hawke, Scott Glenn, Tom Berenger, Harris Yulin, Raymond J. Barry, Cliff Curtis, Dr. Dre, Snoop Dogg, Macy Gray, Eva Mendes'), ('country', 'United States'), ('date_added', 'September 16, 2021'), ('release_year', '2001'), ('rating', 'R'), ('duration', '122 min'), ('listed_in', 'Dramas, Thrillers'), ('description', \"A rookie cop with one day to prove himself to a veteran LAPD narcotics officer receives a crash course in his mentor's questionable brand of justice.\")])\n",
      "OrderedDict([('show_id', 's50'), ('type', 'TV Show'), ('title', 'Castle and Castle'), ('director', ''), ('cast', 'Richard Mofe-Damijo, Dakore Akande, Bimbo Manuel, Blossom Chukwujekwu, Deyemi Okanlawon, Etim Effiong, Denola Grey, Duke Akintola, Eku Edewor, Ade Laoye, Anee Icha, Kevin Ushi, Jude Chukwuka, Amanda Afolabi'), ('country', 'Nigeria'), ('date_added', 'September 15, 2021'), ('release_year', '2021'), ('rating', 'TV-MA'), ('duration', '2 Seasons'), ('listed_in', 'International TV Shows, TV Dramas'), ('description', 'A pair of high-powered, successful lawyers find themselves defending opposite interests of the justice system, causing a strain on their happy marriage.')])\n",
      "OrderedDict([('show_id', 's51'), ('type', 'TV Show'), ('title', 'Dharmakshetra'), ('director', ''), ('cast', 'Kashmira Irani, Chandan Anand, Dinesh Mehta, Ankit Arora, Pushkar Goggiaa, Anjali Rana, Aarya DharmChand Kumar, Amit Behl, Maleeka Ghai'), ('country', 'India'), ('date_added', 'September 15, 2021'), ('release_year', '2014'), ('rating', 'TV-PG'), ('duration', '1 Season'), ('listed_in', 'International TV Shows, TV Dramas, TV Sci-Fi & Fantasy'), ('description', \"After the ancient Great War, the god Chitragupta oversees a trial to determine who were the battle's true heroes and villains.\")])\n",
      "OrderedDict([('show_id', 's52'), ('type', 'Movie'), ('title', 'InuYasha the Movie 2: The Castle Beyond the Looking Glass'), ('director', 'Toshiya Shinohara'), ('cast', 'Kappei Yamaguchi, Satsuki Yukino, Mieko Harada, Koji Tsujitani, Houko Kuwashima, Kumiko Watanabe, Noriko Hidaka, Kenichi Ogata, Toshiyuki Morikawa, Izumi Ogami'), ('country', 'Japan'), ('date_added', 'September 15, 2021'), ('release_year', '2002'), ('rating', 'TV-14'), ('duration', '99 min'), ('listed_in', 'Action & Adventure, Anime Features, International Movies'), ('description', 'With their biggest foe seemingly defeated, InuYasha and his friends return to everyday life. But the peace is soon shattered by an emerging new enemy.')])\n",
      "OrderedDict([('show_id', 's53'), ('type', 'Movie'), ('title', 'InuYasha the Movie 3: Swords of an Honorable Ruler'), ('director', 'Toshiya Shinohara'), ('cast', 'Kappei Yamaguchi, Satsuki Yukino, Koji Tsujitani, Houko Kuwashima, Kumiko Watanabe, Ken Narita, Akio Otsuka, Kikuko Inoue'), ('country', 'Japan'), ('date_added', 'September 15, 2021'), ('release_year', '2003'), ('rating', 'TV-14'), ('duration', '99 min'), ('listed_in', 'Action & Adventure, Anime Features, International Movies'), ('description', 'The Great Dog Demon beaqueathed one of the Three Swords of the Fang to each of his two sons. Now the evil power of the third sword has been awakened.')])\n",
      "OrderedDict([('show_id', 's54'), ('type', 'Movie'), ('title', 'InuYasha the Movie 4: Fire on the Mystic Island'), ('director', 'Toshiya Shinohara'), ('cast', 'Kappei Yamaguchi, Satsuki Yukino, Koji Tsujitani, Houko Kuwashima, Kumiko Watanabe, Noriko Hidaka, Ken Narita, Cho, Mamiko Noto, Nobutoshi Canna'), ('country', 'Japan'), ('date_added', 'September 15, 2021'), ('release_year', '2004'), ('rating', 'TV-PG'), ('duration', '88 min'), ('listed_in', 'Action & Adventure, Anime Features, International Movies'), ('description', 'Ai, a young half-demon who has escaped from Horai Island to try to help her people, returns with potential saviors InuYasha, Sesshomaru and Kikyo.')])\n",
      "OrderedDict([('show_id', 's55'), ('type', 'Movie'), ('title', 'InuYasha the Movie: Affections Touching Across Time'), ('director', 'Toshiya Shinohara'), ('cast', 'Kappei Yamaguchi, Satsuki Yukino, Koji Tsujitani, Houko Kuwashima, Kumiko Watanabe, Kenichi Ogata, Noriko Hidaka, Hisako Kyoda, Ken Narita, Tomokazu Seki'), ('country', 'Japan'), ('date_added', 'September 15, 2021'), ('release_year', '2001'), ('rating', 'TV-PG'), ('duration', '100 min'), ('listed_in', 'Action & Adventure, Anime Features, International Movies'), ('description', \"A powerful demon has been sealed away for 200 years. But when the demon's son is awakened, the fate of the world is in jeopardy.\")])\n",
      "OrderedDict([('show_id', 's56'), ('type', 'TV Show'), ('title', 'Nailed It'), ('director', ''), ('cast', 'Nicole Byer, Jacques Torres'), ('country', 'United States'), ('date_added', 'September 15, 2021'), ('release_year', '2021'), ('rating', 'TV-PG'), ('duration', '6 Seasons'), ('listed_in', 'Reality TV'), ('description', \"Home bakers with a terrible track record take a crack at re-creating edible masterpieces for a $10,000 prize. It's part reality contest, part hot mess.\")])\n",
      "OrderedDict([('show_id', 's57'), ('type', 'Movie'), ('title', 'Naruto Shippuden the Movie: Blood Prison'), ('director', 'Masahiko Murata'), ('cast', 'Junko Takeuchi, Chie Nakamura, Rikiya Koyama, Kazuhiko Inoue, Masaki Terasoma, Mie Sonozaki, Yuichi Nakamura, Kengo Kawanishi, Kosei Hirota, Masako Katsuki'), ('country', 'Japan'), ('date_added', 'September 15, 2021'), ('release_year', '2011'), ('rating', 'TV-14'), ('duration', '102 min'), ('listed_in', 'Action & Adventure, Anime Features, International Movies'), ('description', 'Mistakenly accused of an attack on the Fourth Raikage, ninja Naruto is imprisoned in the impenetrable Hozuki Castle and his powers are sealed.')])\n",
      "OrderedDict([('show_id', 's58'), ('type', 'Movie'), ('title', 'Naruto ShippÃ»den the Movie: Bonds'), ('director', 'Hajime Kamegaki'), ('cast', 'Junko Takeuchi, Chie Nakamura, Noriaki Sugiyama, Unsho Ishizuka, Motoko Kumai, Kazuhiko Inoue, Rikiya Koyama, Showtaro Morikubo, Nana Mizuki, Satoshi Hino, Shinji Kawada'), ('country', 'Japan'), ('date_added', 'September 15, 2021'), ('release_year', '2008'), ('rating', 'TV-PG'), ('duration', '93 min'), ('listed_in', 'Action & Adventure, Anime Features, International Movies'), ('description', \"When strange ninjas ambush the village of Konohagakure, it's up to adolescent ninja Naruto and his long-missing pal, Sasuke, to save the planet.\")])\n",
      "OrderedDict([('show_id', 's59'), ('type', 'Movie'), ('title', 'Naruto ShippÃ»den the Movie: The Will of Fire'), ('director', 'Masahiko Murata'), ('cast', 'Junko Takeuchi, Chie Nakamura, Kazuhiko Inoue, Satoshi Hino, Showtaro Morikubo, Kentaro Ito, Ryoka Yuzuki, Kohsuke Toriumi, Nana Mizuki, Shinji Kawada, Yoichi Masukawa, Koichi Tochika, Yukari Tamura'), ('country', 'Japan'), ('date_added', 'September 15, 2021'), ('release_year', '2009'), ('rating', 'TV-PG'), ('duration', '96 min'), ('listed_in', 'Action & Adventure, Anime Features, International Movies'), ('description', 'When four out of five ninja villages are destroyed, the leader of the one spared tries to find the true culprit and protect his land.')])\n",
      "OrderedDict([('show_id', 's60'), ('type', 'Movie'), ('title', 'Naruto Shippuden: The Movie'), ('director', 'Hajime Kamegaki'), ('cast', 'Junko Takeuchi, Chie Nakamura, Yoichi Masukawa, Koichi Tochika, Ayumi Fujimura, Keisuke Oda, Daisuke Kishio, Fumiko Orikasa, Hidetoshi Nakamura, Tetsuya Kakihara, Kisho Taniyama, Miyuki Sawashiro, Katsuyuki Konishi, Masako Katsuki, Keiko Nemoto, Masashi Ebara, Kazuhiko Inoue, Showtaro Morikubo, Romi Park, Daisuke Ono, Seizo Kato'), ('country', 'Japan'), ('date_added', 'September 15, 2021'), ('release_year', '2007'), ('rating', 'TV-PG'), ('duration', '95 min'), ('listed_in', 'Action & Adventure, Anime Features, International Movies'), ('description', \"The adventures of adolescent ninja Naruto Uzumaki continue as he's tasked with protecting a priestess from a demon â€“ but to do so, he must die.\")])\n",
      "OrderedDict([('show_id', 's61'), ('type', 'Movie'), ('title', 'Naruto Shippuden: The Movie: The Lost Tower'), ('director', 'Masahiko Murata'), ('cast', 'Junko Takeuchi, Chie Nakamura, Satoshi Hino, Rikiya Koyama, Nobuaki Fukuda, Kenji Hamada, Keiko Nemoto, Saori Hayami, Yumi Toma, Yuko Kobayashi, Fujiko Takimoto, Mutsumi Tamura, Mayuki Makiguchi, Toshiyuki Morikawa'), ('country', 'Japan'), ('date_added', 'September 15, 2021'), ('release_year', '2010'), ('rating', 'TV-14'), ('duration', '85 min'), ('listed_in', 'Action & Adventure, Anime Features, International Movies'), ('description', 'When Naruto is sent to recover a missing nin, the rogue manages to send him 20 years into the past, where he unites with his father to battle evil.')])\n",
      "OrderedDict([('show_id', 's62'), ('type', 'Movie'), ('title', 'Naruto the Movie 2: Legend of the Stone of Gelel'), ('director', 'Hirotsugu Kawasaki'), ('cast', 'Junko Takeuchi, Gamon Kaai, Chie Nakamura, Showtaro Morikubo, Akira Ishida, Yasuyuki Kase, Urara Takano, Sachiko Kojima, Houko Kuwashima, Takako Honda'), ('country', 'Japan'), ('date_added', 'September 15, 2021'), ('release_year', '2005'), ('rating', 'TV-PG'), ('duration', '97 min'), ('listed_in', 'Action & Adventure, Anime Features, International Movies'), ('description', 'While on a mission to return a missing pet, Naruto and two fellow ninjas are ambushed by brutal knights led by the enigmatic Temujin.')])\n",
      "OrderedDict([('show_id', 's63'), ('type', 'Movie'), ('title', 'Naruto the Movie 3: Guardians of the Crescent Moon Kingdom'), ('director', 'Toshiyuki Tsuru'), ('cast', 'Junko Takeuchi, Chie Nakamura, Yoichi Masukawa, Kazuhiko Inoue, Akio Otsuka, Kyousuke Ikeda, Marika Hayashi, Umeji Sasaki, Masashi Sugawara, Hisao Egawa'), ('country', 'Japan'), ('date_added', 'September 15, 2021'), ('release_year', '2006'), ('rating', 'TV-PG'), ('duration', '95 min'), ('listed_in', 'Action & Adventure, Anime Features, International Movies'), ('description', 'Exuberant ninja Naruto teams up with his pals Sakura and Kakashi to escort Prince Michiru and his son, Hikaru, to the Crescent Moon kingdom.')])\n",
      "OrderedDict([('show_id', 's64'), ('type', 'Movie'), ('title', 'Naruto the Movie: Ninja Clash in the Land of Snow'), ('director', 'Tensai Okamura'), ('cast', 'Junko Takeuchi, Noriaki Sugiyama, Chie Nakamura, Kazuhiko Inoue, Yuhko Kaida, Tsutomu Isobe, Hirotaka Suzuoki, Jun Karasawa, Harii Kaneko, Ikuo Nishikawa'), ('country', 'Japan'), ('date_added', 'September 15, 2021'), ('release_year', '2004'), ('rating', 'TV-PG'), ('duration', '83 min'), ('listed_in', 'Action & Adventure, Anime Features, International Movies'), ('description', \"Naruto, Sasuke and Sakura learn they'll be protecting an actress from being hurt while making her next film, but it turns out she's a princess.\")])\n",
      "OrderedDict([('show_id', 's65'), ('type', 'Movie'), ('title', 'Nightbooks'), ('director', 'David Yarovesky'), ('cast', 'Winslow Fegley, Lidya Jewett, Krysten Ritter'), ('country', ''), ('date_added', 'September 15, 2021'), ('release_year', '2021'), ('rating', 'TV-PG'), ('duration', '103 min'), ('listed_in', 'Children & Family Movies'), ('description', \"Scary story fan Alex must tell a spine-tingling tale every night â€” or stay trapped with his new friend in a wicked witch's magical apartment forever.\")])\n",
      "OrderedDict([('show_id', 's66'), ('type', 'TV Show'), ('title', 'Numberblocks'), ('director', ''), ('cast', 'Beth Chalmers, David Holt, Marcel McCalla, Teresa Gallagher'), ('country', 'United Kingdom'), ('date_added', 'September 15, 2021'), ('release_year', '2021'), ('rating', 'TV-Y'), ('duration', '6 Seasons'), ('listed_in', \"Kids' TV\"), ('description', 'In a place called Numberland, math adds up to tons of fun when a group of cheerful blocks work, play and sing together.')])\n",
      "OrderedDict([('show_id', 's67'), ('type', 'TV Show'), ('title', 'Raja Rasoi Aur Anya Kahaniyan'), ('director', ''), ('cast', ''), ('country', 'India'), ('date_added', 'September 15, 2021'), ('release_year', '2014'), ('rating', 'TV-G'), ('duration', '1 Season'), ('listed_in', 'Docuseries, International TV Shows'), ('description', 'Explore the history and flavors of regional Indian cuisine, from traditional Kashmiri feasts to the vegetarian dishes of Gujarat.')])\n",
      "OrderedDict([('show_id', 's68'), ('type', 'TV Show'), ('title', 'Saved by the Bell'), ('director', ''), ('cast', 'Mark-Paul Gosselaar, Tiffani Thiessen, Mario Lopez, Lark Voorhies, Elizabeth Berkley, Dustin Diamond, Dennis Haskins'), ('country', 'United States'), ('date_added', 'September 15, 2021'), ('release_year', '1994'), ('rating', 'TV-PG'), ('duration', '9 Seasons'), ('listed_in', \"Kids' TV, TV Comedies\"), ('description', 'From middle school to college, best friends Zack, Kelly, Slater, Jessie, Screech and Lisa take on the highs and lows of life together in this hit series.')])\n",
      "OrderedDict([('show_id', 's69'), ('type', 'Movie'), ('title', 'Schumacher'), ('director', 'Hanns-Bruno KammertÃ¶ns, Vanessa NÃ¶cker, Michael Wech'), ('cast', 'Michael Schumacher'), ('country', ''), ('date_added', 'September 15, 2021'), ('release_year', '2021'), ('rating', 'TV-14'), ('duration', '113 min'), ('listed_in', 'Documentaries, International Movies, Sports Movies'), ('description', 'Through exclusive interviews and archival footage, this documentary traces an intimate portrait of seven-time Formula 1 champion Michael Schumacher.')])\n",
      "OrderedDict([('show_id', 's70'), ('type', 'TV Show'), ('title', 'Stories by Rabindranath Tagore'), ('director', ''), ('cast', ''), ('country', 'India'), ('date_added', 'September 15, 2021'), ('release_year', '2015'), ('rating', 'TV-PG'), ('duration', '1 Season'), ('listed_in', 'International TV Shows, TV Dramas'), ('description', 'The writings of Nobel Prize winner Rabindranath Tagore come to life in this collection of tales set in early-20th-century Bengal.')])\n",
      "OrderedDict([('show_id', 's71'), ('type', 'TV Show'), ('title', 'Too Hot To Handle: Latino'), ('director', ''), ('cast', 'ItatÃ\\xad Cantoral'), ('country', ''), ('date_added', 'September 15, 2021'), ('release_year', '2021'), ('rating', 'TV-MA'), ('duration', '1 Season'), ('listed_in', 'International TV Shows, Reality TV, Romantic TV Shows'), ('description', 'On this reality show, singles from Latin America and Spain are challenged to give up sex. But here, abstinence comes with a silver lining: US$100,000.')])\n",
      "OrderedDict([('show_id', 's72'), ('type', 'Movie'), ('title', 'A StoryBots Space Adventure'), ('director', 'David A. Vargas'), ('cast', 'Evan Spiridellis, Erin Fitzgerald, Jeff Gill, Fred Tatasciore, Evan Michael Lee, Jared Isaacman, Sian Proctor, Chris Sembroski, Hayley Arceneaux'), ('country', ''), ('date_added', 'September 14, 2021'), ('release_year', '2021'), ('rating', 'TV-Y'), ('duration', '13 min'), ('listed_in', 'Children & Family Movies'), ('description', \"Join the StoryBots and the space travelers of the historic Inspiration4 mission as they search for answers to kids' questions about space.\")])\n",
      "OrderedDict([('show_id', 's73'), ('type', 'TV Show'), ('title', 'Jack Whitehall: Travels with My Father'), ('director', ''), ('cast', 'Jack Whitehall, Michael Whitehall'), ('country', 'United Kingdom'), ('date_added', 'September 14, 2021'), ('release_year', '2021'), ('rating', 'TV-MA'), ('duration', '5 Seasons'), ('listed_in', 'British TV Shows, Docuseries, International TV Shows'), ('description', 'Jovial comic Jack Whitehall invites his stuffy father, Michael, to travel with him through Southeast Asia in an attempt to strengthen their bond.')])\n",
      "OrderedDict([('show_id', 's74'), ('type', 'Movie'), ('title', 'King of Boys'), ('director', 'Kemi Adetiba'), ('cast', 'Sola Sobowale, Adesua Etomi, Remilekun \"Reminisce\" Safaru, Tobechukwu \"iLLbliss\" Ejiofor, Toni Tones, Paul Sambo, Jide Kosoko, Sharon Ooja'), ('country', 'Nigeria'), ('date_added', 'September 14, 2021'), ('release_year', '2018'), ('rating', 'TV-MA'), ('duration', '182 min'), ('listed_in', 'Dramas, International Movies'), ('description', 'When a powerful businesswomanâ€™s political ambitions are threatened by her underworld connections, the ensuing power struggle could cost her everything.')])\n",
      "OrderedDict([('show_id', 's75'), ('type', 'TV Show'), ('title', \"The World's Most Amazing Vacation Rentals\"), ('director', ''), ('cast', ''), ('country', ''), ('date_added', 'September 14, 2021'), ('release_year', '2021'), ('rating', 'TV-PG'), ('duration', '2 Seasons'), ('listed_in', 'Reality TV'), ('description', 'With an eye for every budget, three travelers visit vacation rentals around the globe and share their expert tips and tricks in this reality series.')])\n",
      "OrderedDict([('show_id', 's76'), ('type', 'Movie'), ('title', 'You vs. Wild: Out Cold'), ('director', 'Ben Simms'), ('cast', 'Bear Grylls, Jason Derek Prempeh'), ('country', ''), ('date_added', 'September 14, 2021'), ('release_year', '2021'), ('rating', 'TV-G'), ('duration', '106 min'), ('listed_in', 'Children & Family Movies'), ('description', 'After a plane crash leaves Bear with amnesia, he must make choices to save the missing pilot and survive in this high-stakes interactive adventure.')])\n",
      "OrderedDict([('show_id', 's77'), ('type', 'TV Show'), ('title', 'Yowamushi Pedal'), ('director', ''), ('cast', 'Daiki Yamashita, Kohsuke Toriumi, Jun Fukushima, Hiroki Yasumoto, Showtaro Morikubo, Kentaro Ito, Daisuke Kishio, Yoshitsugu Matsuoka, Junichi Suwabe, Ayaka Suwa, Megumi Han, Tomoaki Maeno, Tsubasa Yonaga, Tetsuya Kakihara, Satoshi Hino, Hiroyuki Yoshino, Atsushi Abe, Koji Yusa, Kouki Miyata, Hiro Shimono, Wataru Hatano, Yuichi Nakamura, Kenji Nojima, Mamoru Miyano, Daisuke Ono, Yuma Uchida, Jun Fukuyama'), ('country', 'Japan'), ('date_added', 'September 14, 2021'), ('release_year', '2013'), ('rating', 'TV-14'), ('duration', '1 Season'), ('listed_in', 'Anime Series, International TV Shows'), ('description', 'A timid, anime-loving teen gets drawn into a school cycling club, where his new friends help him face tough challenges to develop his racing talent.')])\n",
      "OrderedDict([('show_id', 's78'), ('type', 'Movie'), ('title', 'Little Singham - Black Shadow'), ('director', 'Prakash Satam'), ('cast', 'Sumriddhi Shukla, Jigna Bharadwaj, Sonal Kaushal, Neshma Chemburkar, Ganesh Divekar, Annamaya Verma, Anamay Verma, Manoj Pandey'), ('country', ''), ('date_added', 'September 11, 2021'), ('release_year', '2021'), ('rating', 'TV-Y7'), ('duration', '48 min'), ('listed_in', 'Children & Family Movies, Comedies'), ('description', 'Kid cop Little Singham loses all his superpowers while trying to stop the demon Kaalâ€™s new evil plans! Can his inner strength help him defeat the enemy?')])\n",
      "OrderedDict([('show_id', 's79'), ('type', 'Movie'), ('title', 'Tughlaq Durbar'), ('director', 'Delhiprasad Deenadayalan'), ('cast', 'Vijay Sethupathi, Parthiban, Raashi Khanna'), ('country', ''), ('date_added', 'September 11, 2021'), ('release_year', '2020'), ('rating', 'TV-14'), ('duration', '145 min'), ('listed_in', 'Comedies, Dramas, International Movies'), ('description', 'A budding politician has devious plans to rise in the ranks â€” until an unexpected new presence begins to interfere with his every crooked move.')])\n",
      "OrderedDict([('show_id', 's80'), ('type', 'Movie'), ('title', 'Tughlaq Durbar (Telugu)'), ('director', 'Delhiprasad Deenadayalan'), ('cast', 'Vijay Sethupathi, Parthiban, Raashi Khanna'), ('country', ''), ('date_added', 'September 11, 2021'), ('release_year', '2021'), ('rating', 'TV-14'), ('duration', '145 min'), ('listed_in', 'Comedies, Dramas, International Movies'), ('description', 'A budding politician has devious plans to rise in the ranks â€” until an unexpected new presence begins to interfere with his every crooked move.')])\n",
      "OrderedDict([('show_id', 's81'), ('type', 'Movie'), ('title', 'Firedrake the Silver Dragon'), ('director', 'Tomer Eshed'), ('cast', 'Thomas Brodie-Sangster, Felicity Jones, Freddie Highmore, Patrick Stewart, Meera Syal, Sanjeev Bhaskar, Nonso Anozie'), ('country', ''), ('date_added', 'September 10, 2021'), ('release_year', '2021'), ('rating', 'TV-Y7'), ('duration', '93 min'), ('listed_in', 'Children & Family Movies'), ('description', 'When his home is threatened by humans, a young dragon summons the courage to seek a mythical paradise where dragons can live in peace and fly free.')])\n",
      "OrderedDict([('show_id', 's82'), ('type', 'Movie'), ('title', 'Kate'), ('director', 'Cedric Nicolas-Troyan'), ('cast', 'Mary Elizabeth Winstead, Jun Kunimura, Woody Harrelson, Tadanobu Asano, Miyavi, Michiel Huisman, Miku Martineau'), ('country', 'United States'), ('date_added', 'September 10, 2021'), ('release_year', '2021'), ('rating', 'R'), ('duration', '106 min'), ('listed_in', 'Action & Adventure'), ('description', 'Slipped a fatal poison on her final job, a ruthless assassin working in Tokyo has less than 24 hours to find out who ordered the hit and exact revenge.')])\n",
      "OrderedDict([('show_id', 's83'), ('type', 'TV Show'), ('title', 'Lucifer'), ('director', ''), ('cast', 'Tom Ellis, Lauren German, Kevin Alejandro, D.B. Woodside, Lesley-Ann Brandt, Scarlett Estevez, Rachael Harris, Aimee Garcia, Tricia Helfer, Tom Welling, Jeremiah W. Birkett, Pej Vahdat, Michael Gladis'), ('country', 'United States'), ('date_added', 'September 10, 2021'), ('release_year', '2021'), ('rating', 'TV-14'), ('duration', '6 Seasons'), ('listed_in', 'Crime TV Shows, TV Comedies, TV Dramas'), ('description', 'Bored with being the Lord of Hell, the devil relocates to Los Angeles, where he opens a nightclub and forms a connection with a homicide detective.')])\n",
      "OrderedDict([('show_id', 's84'), ('type', 'TV Show'), ('title', 'Metal Shop Masters'), ('director', ''), ('cast', 'Jo Koy'), ('country', ''), ('date_added', 'September 10, 2021'), ('release_year', '2021'), ('rating', 'TV-MA'), ('duration', '1 Season'), ('listed_in', 'Reality TV'), ('description', 'On this competition show, a group of metal artists torch, cut and weld epic, badass creations from hardened steel. Only one will win a $50,000 prize.')])\n",
      "OrderedDict([('show_id', 's85'), ('type', 'Movie'), ('title', 'Omo Ghetto: the Saga'), ('director', 'JJC Skillz, Funke Akindele'), ('cast', 'Funke Akindele, Ayo Makun, Chioma Chukwuka Akpotha, Yemi Eberechi Alade, Blossom Chukwujekwu, Deyemi Okanlawon, Alexx Ekubo, Zubby Michael, Tina Mba, Femi Jacobs'), ('country', 'Nigeria'), ('date_added', 'September 10, 2021'), ('release_year', '2020'), ('rating', 'TV-MA'), ('duration', '147 min'), ('listed_in', 'Action & Adventure, Comedies, Dramas'), ('description', 'Twins are reunited as a good-hearted female gangster and her uptight rich sister take on family, crime, cops and all of the trouble that follows them.')])\n",
      "OrderedDict([('show_id', 's86'), ('type', 'TV Show'), ('title', 'PokÃ©mon Master Journeys: The Series'), ('director', ''), ('cast', 'Ikue Otani, Sarah Natochenny, Zeno Robinson, Cherami Leigh, James Carter Cathcart, Michele Knotz, Rodger Parsons, Ray Chase, Casey Mongillo, Tara Sands'), ('country', ''), ('date_added', 'September 10, 2021'), ('release_year', '2021'), ('rating', 'TV-Y7'), ('duration', '1 Season'), ('listed_in', \"Anime Series, Kids' TV\"), ('description', \"As Ash battles his way through the World Coronation Series, Goh continues his quest to catch every PokÃ©mon. Together, they're on a journey to adventure!\")])\n",
      "OrderedDict([('show_id', 's87'), ('type', 'Movie'), ('title', 'Prey'), ('director', 'Thomas Sieben'), ('cast', 'David Kross, Hanno Koffler, Maria Ehrich, Robert Finster, Yung Ngo, Klaus Steinbacher, Livia Matthes, Nellie Thalbach'), ('country', ''), ('date_added', 'September 10, 2021'), ('release_year', '2021'), ('rating', 'TV-MA'), ('duration', '87 min'), ('listed_in', 'International Movies, Thrillers'), ('description', 'A hiking trip into the wild turns into a desperate bid for survival for five friends on the run from a mysterious shooter.')])\n",
      "OrderedDict([('show_id', 's88'), ('type', 'TV Show'), ('title', 'Titipo Titipo'), ('director', ''), ('cast', 'Jeon Hae-ri, Kim Eun-ah, Hong Bum-ki, Nam Do-hyeong, Um Sang-hyun'), ('country', ''), ('date_added', 'September 10, 2021'), ('release_year', '2019'), ('rating', 'TV-Y'), ('duration', '2 Seasons'), ('listed_in', \"Kids' TV, Korean TV Shows\"), ('description', \"Titipo the train is out to prove that he's got what it takes to help the folks of Train Village ride the rails safely and reliably.\")])\n",
      "OrderedDict([('show_id', 's89'), ('type', 'Movie'), ('title', 'Blood Brothers: Malcolm X & Muhammad Ali'), ('director', 'Marcus Clarke'), ('cast', 'Malcolm X, Muhammad Ali'), ('country', ''), ('date_added', 'September 9, 2021'), ('release_year', '2021'), ('rating', 'PG-13'), ('duration', '96 min'), ('listed_in', 'Documentaries, Sports Movies'), ('description', \"From a chance meeting to a tragic fallout, Malcolm X and Muhammad Ali's extraordinary bond cracks under the weight of distrust and shifting ideals.\")])\n",
      "OrderedDict([('show_id', 's90'), ('type', 'TV Show'), ('title', 'Mighty Raju'), ('director', ''), ('cast', 'Julie Tejwani, Sabina Malik, Jigna Bhardwaj, Rupa Bhimani, Lalit Agarwal, Rajesh Shukla, Rajesh Kava'), ('country', ''), ('date_added', 'September 9, 2021'), ('release_year', '2017'), ('rating', 'TV-Y7'), ('duration', '4 Seasons'), ('listed_in', \"Kids' TV\"), ('description', 'Born with superhuman abilities, young Raju wants to use his powers to make the world a better place â€” but that will mean facing plenty of challenges!')])\n",
      "OrderedDict([('show_id', 's91'), ('type', 'Movie'), ('title', 'Paradise Hills'), ('director', 'Alice Waddington'), ('cast', 'Emma Roberts, Danielle Macdonald, Awkwafina, Eiza GonzÃ¡lez, Milla Jovovich, Jeremy Irvine, Arnaud Valois, Daniel Horvath'), ('country', 'Spain, United States'), ('date_added', 'September 9, 2021'), ('release_year', '2019'), ('rating', 'TV-MA'), ('duration', '95 min'), ('listed_in', 'Sci-Fi & Fantasy, Thrillers'), ('description', 'Uma wakes up in a lush tropical facility designed to turn willful girls into perfect ladies. Thatâ€™s bad enough, but its real purpose is even worse.')])\n",
      "OrderedDict([('show_id', 's92'), ('type', 'Movie'), ('title', 'The Women and the Murderer'), ('director', 'Mona Achache, Patricia Tourancheau'), ('cast', ''), ('country', 'France'), ('date_added', 'September 9, 2021'), ('release_year', '2021'), ('rating', 'TV-14'), ('duration', '92 min'), ('listed_in', 'Documentaries, International Movies'), ('description', \"This documentary traces the capture of serial killer Guy Georges through the tireless work of two women: a police chief and a victim's mother.\")])\n",
      "OrderedDict([('show_id', 's93'), ('type', 'TV Show'), ('title', 'Into the Night'), ('director', ''), ('cast', 'Pauline Etienne, Laurent Capelluto, Stefano Cassetti, Mehmet KurtuluÅŸ, Babetida Sadjo, Jan Bijvoet, Ksawery Szlenkier, Vincent Londez, Regina Bikkinina, Alba GaÃ¯a Kraghede Bellugi, Nabil Mallat'), ('country', 'Belgium'), ('date_added', 'September 8, 2021'), ('release_year', '2021'), ('rating', 'TV-MA'), ('duration', '2 Seasons'), ('listed_in', 'International TV Shows, TV Dramas, TV Mysteries'), ('description', 'Passengers and crew aboard a hijacked overnight flight scramble to outrace the sun as a mysterious cosmic event wreaks havoc on the world below.')])\n",
      "OrderedDict([('show_id', 's94'), ('type', 'Movie'), ('title', 'JJ+E'), ('director', 'Alexis AlmstrÃ¶m'), ('cast', 'Elsa Ã–hrn, Mustapha Aarab, Jonay Pineda Skallak, Magnus Krepper, Loreen, Albin Grenholm, Simon Mezher, Elsa BergstrÃ¶m Terent, Josef Kadim, Yohannes Frezgi'), ('country', ''), ('date_added', 'September 8, 2021'), ('release_year', '2021'), ('rating', 'TV-MA'), ('duration', '91 min'), ('listed_in', 'Dramas, International Movies, Romantic Movies'), ('description', 'Elisabeth and John-John live in the same city, but they inhabit different worlds. Can a passionate first love break through class and cultural barriers?')])\n",
      "OrderedDict([('show_id', 's95'), ('type', 'Movie'), ('title', 'Show Dogs'), ('director', 'Raja Gosnell'), ('cast', \"Will Arnett, Ludacris, Natasha Lyonne, Stanley Tucci, Jordin Sparks, Gabriel Iglesias, Shaquille O'Neal, Omar Chaparro, Alan Cumming, Andy Beckwith, Delia Sheppard, Kerry Shale\"), ('country', 'United Kingdom, United States'), ('date_added', 'September 8, 2021'), ('release_year', '2018'), ('rating', 'PG'), ('duration', '90 min'), ('listed_in', 'Children & Family Movies, Comedies'), ('description', 'A rough and tough police dog must go undercover with an FBI agent as a prim and proper pet at a dog show to save a baby panda from an illegal sale.')])\n",
      "OrderedDict([('show_id', 's96'), ('type', 'TV Show'), ('title', 'The Circle'), ('director', ''), ('cast', 'Michelle Buteau'), ('country', 'United States, United Kingdom'), ('date_added', 'September 8, 2021'), ('release_year', '2021'), ('rating', 'TV-MA'), ('duration', '3 Seasons'), ('listed_in', 'Reality TV'), ('description', 'Status and strategy collide in this social experiment and competition show where online players flirt, befriend and catfish their way toward $100,000.')])\n",
      "OrderedDict([('show_id', 's97'), ('type', 'Movie'), ('title', 'If I Leave Here Tomorrow: A Film About Lynyrd Skynyrd'), ('director', 'Stephen Kijak'), ('cast', 'Ronnie Van Zandt, Gary Rossington, Allen Collins, Leon Wilkeson, Bob Burns, Billy Powell, Ed King, Artimus Pyle, Steve Gaines, Johnny Van Zant'), ('country', 'United States'), ('date_added', 'September 7, 2021'), ('release_year', '2018'), ('rating', 'TV-MA'), ('duration', '97 min'), ('listed_in', 'Documentaries, Music & Musicals'), ('description', 'Using interviews and archival footage, this documentary charts the story of the legendary Southern rockers with a focus on front man Ronnie Van Zant.')])\n",
      "OrderedDict([('show_id', 's98'), ('type', 'TV Show'), ('title', 'Kid Cosmic'), ('director', ''), ('cast', 'Jack Fisher, Tom Kenny, Amanda C. Miller, Kim Yarbrough, Keith Ferguson, Grey Griffin, Lily Rose Silver'), ('country', 'United States'), ('date_added', 'September 7, 2021'), ('release_year', '2021'), ('rating', 'TV-Y7'), ('duration', '2 Seasons'), ('listed_in', \"Kids' TV, TV Comedies, TV Sci-Fi & Fantasy\"), ('description', \"A boy's superhero dreams come true when he finds five powerful cosmic stones. But saving the day is harder than he imagined â€” and he can't do it alone.\")])\n",
      "OrderedDict([('show_id', 's99'), ('type', 'TV Show'), ('title', 'Octonauts: Above & Beyond'), ('director', ''), ('cast', 'Antonio Aakeel, Chipo Chung, Simon Foster, Teresa Gallagher, Simon Greenall, Kate Harbour, Paul Panting, Rob Rackstraw, William Vanderpuye, Helen Walsh, Keith Wickham, Andres Williams, Jo Wyatt'), ('country', 'United Kingdom'), ('date_added', 'September 7, 2021'), ('release_year', '2021'), ('rating', 'TV-Y'), ('duration', '1 Season'), ('listed_in', \"British TV Shows, Kids' TV\"), ('description', \"The Octonauts expand their exploration beyond the sea â€”Â\\xa0and onto land! With new rides and new friends, they'll protect any habitats and animals at risk.\")])\n",
      "OrderedDict([('show_id', 's100'), ('type', 'TV Show'), ('title', 'On the Verge'), ('director', ''), ('cast', 'Julie Delpy, Elisabeth Shue, Sarah Jones, Alexia Landeau, Mathieu Demy, Troy Garity, Timm Sharp, Giovanni Ribisi'), ('country', 'France, United States'), ('date_added', 'September 7, 2021'), ('release_year', '2021'), ('rating', 'TV-MA'), ('duration', '1 Season'), ('listed_in', 'TV Comedies, TV Dramas'), ('description', 'Four women â€” a chef, a single mom, an heiress and a job seeker â€” dig into love and work, with a generous side of midlife crises, in pre-pandemic LA.')])\n",
      "OrderedDict([('show_id', 's101'), ('type', 'TV Show'), ('title', 'Tobot Galaxy Detectives'), ('director', ''), ('cast', 'Austin Abell, Travis Turner, Cole Howard, Anna Cummer, Jesse Inocalla, Brian Dobson, Michael Adamthwaite, Joseph Girgis, Caitlyn Bairstow'), ('country', ''), ('date_added', 'September 7, 2021'), ('release_year', '2019'), ('rating', 'TV-Y7'), ('duration', '2 Seasons'), ('listed_in', \"Kids' TV\"), ('description', 'An intergalactic device transforms toy cars into robots: the Tobots! Working with friends to solve mysteries, they protect the world from evil.')])\n"
     ]
    },
    {
     "ename": "UnicodeDecodeError",
     "evalue": "'charmap' codec can't decode byte 0x81 in position 2751: character maps to <undefined>",
     "output_type": "error",
     "traceback": [
      "\u001b[1;31m---------------------------------------------------------------------------\u001b[0m",
      "\u001b[1;31mUnicodeDecodeError\u001b[0m                        Traceback (most recent call last)",
      "\u001b[1;32m<ipython-input-20-d0938986043d>\u001b[0m in \u001b[0;36m<module>\u001b[1;34m()\u001b[0m\n\u001b[0;32m      3\u001b[0m     \u001b[0mdata\u001b[0m\u001b[1;33m=\u001b[0m\u001b[0mcsv\u001b[0m\u001b[1;33m.\u001b[0m\u001b[0mDictReader\u001b[0m\u001b[1;33m(\u001b[0m\u001b[0mfile_object\u001b[0m\u001b[1;33m)\u001b[0m\u001b[1;33m\u001b[0m\u001b[0m\n\u001b[0;32m      4\u001b[0m     \u001b[0mprint\u001b[0m\u001b[1;33m(\u001b[0m\u001b[0mtype\u001b[0m\u001b[1;33m(\u001b[0m\u001b[0mdata\u001b[0m\u001b[1;33m)\u001b[0m\u001b[1;33m)\u001b[0m\u001b[1;33m\u001b[0m\u001b[0m\n\u001b[1;32m----> 5\u001b[1;33m     \u001b[1;32mfor\u001b[0m \u001b[0mline\u001b[0m \u001b[1;32min\u001b[0m \u001b[0mdata\u001b[0m\u001b[1;33m:\u001b[0m\u001b[1;33m\u001b[0m\u001b[0m\n\u001b[0m\u001b[0;32m      6\u001b[0m         \u001b[0mprint\u001b[0m\u001b[1;33m(\u001b[0m\u001b[0mline\u001b[0m\u001b[1;33m)\u001b[0m\u001b[1;33m\u001b[0m\u001b[0m\n\u001b[0;32m      7\u001b[0m \u001b[1;33m\u001b[0m\u001b[0m\n",
      "\u001b[1;32m~\\Anaconda3\\lib\\csv.py\u001b[0m in \u001b[0;36m__next__\u001b[1;34m(self)\u001b[0m\n\u001b[0;32m    110\u001b[0m             \u001b[1;31m# Used only for its side effect.\u001b[0m\u001b[1;33m\u001b[0m\u001b[1;33m\u001b[0m\u001b[0m\n\u001b[0;32m    111\u001b[0m             \u001b[0mself\u001b[0m\u001b[1;33m.\u001b[0m\u001b[0mfieldnames\u001b[0m\u001b[1;33m\u001b[0m\u001b[0m\n\u001b[1;32m--> 112\u001b[1;33m         \u001b[0mrow\u001b[0m \u001b[1;33m=\u001b[0m \u001b[0mnext\u001b[0m\u001b[1;33m(\u001b[0m\u001b[0mself\u001b[0m\u001b[1;33m.\u001b[0m\u001b[0mreader\u001b[0m\u001b[1;33m)\u001b[0m\u001b[1;33m\u001b[0m\u001b[0m\n\u001b[0m\u001b[0;32m    113\u001b[0m         \u001b[0mself\u001b[0m\u001b[1;33m.\u001b[0m\u001b[0mline_num\u001b[0m \u001b[1;33m=\u001b[0m \u001b[0mself\u001b[0m\u001b[1;33m.\u001b[0m\u001b[0mreader\u001b[0m\u001b[1;33m.\u001b[0m\u001b[0mline_num\u001b[0m\u001b[1;33m\u001b[0m\u001b[0m\n\u001b[0;32m    114\u001b[0m \u001b[1;33m\u001b[0m\u001b[0m\n",
      "\u001b[1;32m~\\Anaconda3\\lib\\encodings\\cp1252.py\u001b[0m in \u001b[0;36mdecode\u001b[1;34m(self, input, final)\u001b[0m\n\u001b[0;32m     21\u001b[0m \u001b[1;32mclass\u001b[0m \u001b[0mIncrementalDecoder\u001b[0m\u001b[1;33m(\u001b[0m\u001b[0mcodecs\u001b[0m\u001b[1;33m.\u001b[0m\u001b[0mIncrementalDecoder\u001b[0m\u001b[1;33m)\u001b[0m\u001b[1;33m:\u001b[0m\u001b[1;33m\u001b[0m\u001b[0m\n\u001b[0;32m     22\u001b[0m     \u001b[1;32mdef\u001b[0m \u001b[0mdecode\u001b[0m\u001b[1;33m(\u001b[0m\u001b[0mself\u001b[0m\u001b[1;33m,\u001b[0m \u001b[0minput\u001b[0m\u001b[1;33m,\u001b[0m \u001b[0mfinal\u001b[0m\u001b[1;33m=\u001b[0m\u001b[1;32mFalse\u001b[0m\u001b[1;33m)\u001b[0m\u001b[1;33m:\u001b[0m\u001b[1;33m\u001b[0m\u001b[0m\n\u001b[1;32m---> 23\u001b[1;33m         \u001b[1;32mreturn\u001b[0m \u001b[0mcodecs\u001b[0m\u001b[1;33m.\u001b[0m\u001b[0mcharmap_decode\u001b[0m\u001b[1;33m(\u001b[0m\u001b[0minput\u001b[0m\u001b[1;33m,\u001b[0m\u001b[0mself\u001b[0m\u001b[1;33m.\u001b[0m\u001b[0merrors\u001b[0m\u001b[1;33m,\u001b[0m\u001b[0mdecoding_table\u001b[0m\u001b[1;33m)\u001b[0m\u001b[1;33m[\u001b[0m\u001b[1;36m0\u001b[0m\u001b[1;33m]\u001b[0m\u001b[1;33m\u001b[0m\u001b[0m\n\u001b[0m\u001b[0;32m     24\u001b[0m \u001b[1;33m\u001b[0m\u001b[0m\n\u001b[0;32m     25\u001b[0m \u001b[1;32mclass\u001b[0m \u001b[0mStreamWriter\u001b[0m\u001b[1;33m(\u001b[0m\u001b[0mCodec\u001b[0m\u001b[1;33m,\u001b[0m\u001b[0mcodecs\u001b[0m\u001b[1;33m.\u001b[0m\u001b[0mStreamWriter\u001b[0m\u001b[1;33m)\u001b[0m\u001b[1;33m:\u001b[0m\u001b[1;33m\u001b[0m\u001b[0m\n",
      "\u001b[1;31mUnicodeDecodeError\u001b[0m: 'charmap' codec can't decode byte 0x81 in position 2751: character maps to <undefined>"
     ]
    }
   ],
   "source": [
    "import csv\n",
    "filename=\"\"\n",
    "fields=[]\n",
    "rows=[]\n",
    "\n",
    "with open(\"C:/Users/Khuteeja/Desktop/netflix_titles.csv\",'r') as csvfile:\n",
    "    data=csv.DictReader(csvfile)\n",
    "    print(type(data))\n",
    "    for line in data:\n",
    "        print(line)\n",
    "        \n",
    "        "
   ]
  },
  {
   "cell_type": "code",
   "execution_count": 2,
   "metadata": {},
   "outputs": [
    {
     "name": "stdout",
     "output_type": "stream",
     "text": [
      "<class '_csv.writer'>\n",
      " Data has been written to studentfile.csv\n"
     ]
    }
   ],
   "source": [
    "import csv\n",
    "fields=['Name','Branch','Year','CGPA']\n",
    "data=[ ['Nikhil','CS',3,9.0],\n",
    "       ['Sanchit','EC',4,8.5],\n",
    "       ['Sagar','EC',3,8.6]\n",
    "     ]\n",
    "filename='studentfile.csv'\n",
    "with open(filename, 'w', newline='') as fd:\n",
    "    csvwriter_obj = csv.writer(fd)\n",
    "    print(type(csvwriter_obj))\n",
    "    csvwriter_obj.writerow(fields) # column\n",
    "    csvwriter_obj.writerows(data) #adds records\n",
    "print(f' Data has been written to {filename}')\n",
    "    \n",
    "    "
   ]
  },
  {
   "cell_type": "code",
   "execution_count": 9,
   "metadata": {},
   "outputs": [
    {
     "name": "stdout",
     "output_type": "stream",
     "text": [
      "Data has been written in Dict_sheet.csv\n"
     ]
    }
   ],
   "source": [
    "import csv\n",
    "data=[{'branch':'CS','CGPA':9.0,'Name':'Nikhil','year':'2'},\n",
    "      {'branch':'EC','CGPA':8.0,'Name':'Sagar','year':'3'},\n",
    "      {'branch':'EE','CGPA':9.7,'Name':'Sanchit','year':'2'}\n",
    "     ]\n",
    "fields=['branch','CGPA','Name','year']\n",
    "filename='Dict_sheet.csv'\n",
    "with open(filename,'w',newline='') as fd:\n",
    "    WO=csv.DictWriter(fd, fieldnames=fields)\n",
    "    WO.writeheader()\n",
    "    WO.writerows(data)\n",
    "    print(f'Data has been written in {filename}')"
   ]
  },
  {
   "cell_type": "code",
   "execution_count": 13,
   "metadata": {},
   "outputs": [
    {
     "name": "stdout",
     "output_type": "stream",
     "text": [
      "Invoice:\n",
      "________________________\n",
      "name\tprice\tquantity\n",
      "apple\t10\t2\n",
      "mango\t20\t3\n",
      "banana\t5\t5\n",
      "________________________\n",
      "Total Price : 105\n"
     ]
    }
   ],
   "source": [
    "import csv\n",
    "def cal_price(products):\n",
    "    total_price = 0\n",
    "    for i in products:\n",
    "        total_price +=i['price'] * i['quantity']\n",
    "    return total_price\n",
    "\n",
    "products=[{'name':'apple','price':10,'quantity':2},\n",
    "          {'name':'mango','price':20,'quantity':3},\n",
    "          {'name':'banana','price':5,'quantity':5}\n",
    "         ]\n",
    "fields=['name','price','quantity']\n",
    "filename='Dict_sheet1.csv'\n",
    "with open(filename,'w',newline='') as fd:\n",
    "    WO=csv.DictWriter(fd, fieldnames=fields)\n",
    "    WO.writeheader()\n",
    "    WO.writerows(products)\n",
    "\n",
    "total_price = cal_price(products)\n",
    "print(\"Invoice:\")\n",
    "print(\"________________________\")\n",
    "with open('Dict_sheet1.csv','r') as fd:\n",
    "    reader = csv.reader(fd)\n",
    "    for row in reader:\n",
    "        print(f'{row[0]}\\t{row[1]}\\t{row[2]}')\n",
    "print(\"________________________\")\n",
    "print(f\"Total Price : {total_price}\")"
   ]
  },
  {
   "cell_type": "code",
   "execution_count": 21,
   "metadata": {},
   "outputs": [
    {
     "ename": "SyntaxError",
     "evalue": "invalid character in identifier (<ipython-input-21-fe5d6cd5e1d2>, line 22)",
     "output_type": "error",
     "traceback": [
      "\u001b[1;36m  File \u001b[1;32m\"<ipython-input-21-fe5d6cd5e1d2>\"\u001b[1;36m, line \u001b[1;32m22\u001b[0m\n\u001b[1;33m    print(f' Total price: Rs. {ST}')\u001b[0m\n\u001b[1;37m                                        ^\u001b[0m\n\u001b[1;31mSyntaxError\u001b[0m\u001b[1;31m:\u001b[0m invalid character in identifier\n"
     ]
    }
   ],
   "source": [
    "import csv \n",
    "TotalPrice=0 \n",
    "ST=0 \n",
    "fields=['Product_Name','Qty','Price'] \n",
    "#input() \n",
    "products=[['Product1',2,10],['Product2',3,20],['Product3',1,10]] \n",
    "filename='products.csv' \n",
    "with open(filename,'w',newline='') as fd:     \n",
    "    WO=csv.writer(fd)     \n",
    "    WO.writerow(fields)     \n",
    "    WO.writerows(products)     \n",
    "    print('Invoice:')     \n",
    "    print('Product\\t\\tQty\\tPrice\\tSub Total')     \n",
    "    print('-----------------------------------------------')         \n",
    "    i=0     \n",
    "    for product in products:         \n",
    "        Sub_total=product[1]*product[2]         \n",
    "        ST=ST+Sub_total         \n",
    "        print(f'{products[i][0]}\\t{products[i][1]}\\t{products[i][2]}\\t')         \n",
    "        i=i+1   \n",
    "    print('-----------------------------------------------')          \n",
    "    print(f' Total price: Rs. {ST}')     "
   ]
  },
  {
   "cell_type": "code",
   "execution_count": 3,
   "metadata": {},
   "outputs": [
    {
     "name": "stdout",
     "output_type": "stream",
     "text": [
      "2\n",
      "3\n",
      "  abc    1\n",
      "\n",
      "2\n",
      "3\n",
      "  def    2\n",
      "\n",
      "2\n",
      "3\n",
      "  ghi    3\n",
      "\n"
     ]
    }
   ],
   "source": [
    "import csv\n",
    "\n",
    "filename=('C:/Users/Khuteeja/Desktop/abc.csv')\n",
    "fields =[] \n",
    "rows=[]\n",
    "with open(filename,mode='r') as csvfile:\n",
    "    csvreader=csv.reader(csvfile)\n",
    "    fields =next(csvreader)\n",
    "    for row in csvreader:\n",
    "        rows.append(row)\n",
    "for row in rows[:5]:\n",
    "    print(len(row))\n",
    "    print(len(rows))\n",
    "    for col in row: #Loops 2 times\n",
    "         print('%5s'%col,end='')\n",
    "    print('\\n')"
   ]
  },
  {
   "cell_type": "code",
   "execution_count": null,
   "metadata": {},
   "outputs": [],
   "source": []
  }
 ],
 "metadata": {
  "kernelspec": {
   "display_name": "Python 3",
   "language": "python",
   "name": "python3"
  },
  "language_info": {
   "codemirror_mode": {
    "name": "ipython",
    "version": 3
   },
   "file_extension": ".py",
   "mimetype": "text/x-python",
   "name": "python",
   "nbconvert_exporter": "python",
   "pygments_lexer": "ipython3",
   "version": "3.7.0"
  }
 },
 "nbformat": 4,
 "nbformat_minor": 2
}
