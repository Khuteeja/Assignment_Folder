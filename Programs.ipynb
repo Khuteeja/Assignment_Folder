{
 "cells": [
  {
   "cell_type": "code",
   "execution_count": 12,
   "id": "40a2a393",
   "metadata": {},
   "outputs": [
    {
     "name": "stdout",
     "output_type": "stream",
     "text": [
      "{'x': 5, 'y': 8}\n"
     ]
    }
   ],
   "source": [
    "a=[\"x\",\"y\"]\n",
    "b=[5,8]\n",
    "c=dict(zip(a,b))\n",
    "print(c)"
   ]
  },
  {
   "cell_type": "code",
   "execution_count": 19,
   "id": "46dcb580",
   "metadata": {},
   "outputs": [
    {
     "name": "stdout",
     "output_type": "stream",
     "text": [
      "enter time period:4\n",
      "enter rate of interest:5\n",
      "1500.0\n"
     ]
    }
   ],
   "source": [
    "p=7500\n",
    "t=float(input(\"enter time period:\"))\n",
    "r=float(input(\"enter rate of interest:\"))\n",
    "si=(p*t*r)/100\n",
    "print(si)"
   ]
  },
  {
   "cell_type": "code",
   "execution_count": 23,
   "id": "77ecba41",
   "metadata": {},
   "outputs": [
    {
     "name": "stdout",
     "output_type": "stream",
     "text": [
      "41\n"
     ]
    }
   ],
   "source": [
    "a=41\n",
    "b=8\n",
    "c=9\n",
    "if a>=b and a>=c:\n",
    "    print(a)\n",
    "elif b>=a and b>=c:\n",
    "    print(b)\n",
    "else:\n",
    "    print(c)\n"
   ]
  },
  {
   "cell_type": "code",
   "execution_count": 10,
   "id": "3032a5f8",
   "metadata": {},
   "outputs": [
    {
     "name": "stdout",
     "output_type": "stream",
     "text": [
      "5\n",
      "9\n",
      "7\n"
     ]
    }
   ],
   "source": [
    "a=input(\"enter numbers\")\n",
    "lis=[int(i) for i in a.split()]\n",
    "for i in lis:\n",
    "    if i%2!=0:\n",
    "        print(i)\n",
    "   "
   ]
  },
  {
   "cell_type": "code",
   "execution_count": 14,
   "metadata": {},
   "outputs": [
    {
     "name": "stdout",
     "output_type": "stream",
     "text": [
      "uniqe elemnets from a and b are : {1, 2, 3, 4, 5}\n"
     ]
    }
   ],
   "source": [
    "a={1,2,3}\n",
    "b={3,4,5}\n",
    "uni=a.union(b)\n",
    "print(\"uniqe elemnets from a and b are :\",uni)\n",
    "\n",
    "\n"
   ]
  },
  {
   "cell_type": "code",
   "execution_count": null,
   "metadata": {},
   "outputs": [],
   "source": []
  }
 ],
 "metadata": {
  "kernelspec": {
   "display_name": "Python 3 (ipykernel)",
   "language": "python",
   "name": "python3"
  },
  "language_info": {
   "codemirror_mode": {
    "name": "ipython",
    "version": 3
   },
   "file_extension": ".py",
   "mimetype": "text/x-python",
   "name": "python",
   "nbconvert_exporter": "python",
   "pygments_lexer": "ipython3",
   "version": "3.10.1"
  }
 },
 "nbformat": 4,
 "nbformat_minor": 5
}
